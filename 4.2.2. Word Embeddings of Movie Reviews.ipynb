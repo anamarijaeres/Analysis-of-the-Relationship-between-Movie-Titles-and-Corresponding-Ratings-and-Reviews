{
  "nbformat": 4,
  "nbformat_minor": 0,
  "metadata": {
    "colab": {
      "provenance": [],
      "collapsed_sections": [],
      "include_colab_link": true
    },
    "kernelspec": {
      "name": "python3",
      "display_name": "Python 3"
    },
    "language_info": {
      "name": "python"
    }
  },
  "cells": [
    {
      "cell_type": "markdown",
      "metadata": {
        "id": "view-in-github",
        "colab_type": "text"
      },
      "source": [
        "<a href=\"https://colab.research.google.com/github/anamarijaeres/Analysis-of-the-Relationship-between-Movie-Titles-and-Corresponding-Ratings-and-Reviews/blob/main/NLP_Word_Embeddings.ipynb\" target=\"_parent\"><img src=\"https://colab.research.google.com/assets/colab-badge.svg\" alt=\"Open In Colab\"/></a>"
      ]
    },
    {
      "cell_type": "code",
      "execution_count": null,
      "metadata": {
        "colab": {
          "base_uri": "https://localhost:8080/"
        },
        "id": "NQslxzIcTNHF",
        "outputId": "d2d5654d-aaea-42ea-df1a-fc67eb143236"
      },
      "outputs": [
        {
          "output_type": "stream",
          "name": "stdout",
          "text": [
            "Mounted at /gdrive\n"
          ]
        }
      ],
      "source": [
        "from google.colab import drive\n",
        "drive.mount(\"/gdrive\")"
      ]
    },
    {
      "cell_type": "code",
      "source": [
        "dataset = '/gdrive/My Drive/NLP-filmovi/Dataset/'\n",
        "movie_names = [\"2012\", \"A Beautiful Mind\", \"Amadeus\", \"Avatar\", \"Clash of the Titans\", \"Les Miserables\", \"Star Wars Episode I - The Phantom Menace\", \"The Expendables I\", \"The Godfather\", \"The Matrix Revolutions\"]\n",
        "reviews = []\n",
        "polarities = []\n",
        "ratings = []"
      ],
      "metadata": {
        "id": "jEZIZqFnaBIm"
      },
      "execution_count": null,
      "outputs": []
    },
    {
      "cell_type": "code",
      "source": [
        "for index in range(len(movie_names)):\n",
        "  reviews_for_certain_movie = []\n",
        "  for i in range(1,101):\n",
        "    with open(dataset + movie_names[index] + \"/\" + str(i) +\".txt\", 'r') as f:\n",
        "      reviews_for_certain_movie.append(f.read())\n",
        "  with open(dataset + movie_names[index] + \"/\" + \"polarity.txt\", 'r') as polarity:\n",
        "    polarities.append(polarity.read()[12:-1].split(\",\"))\n",
        "  with open(dataset + movie_names[index] + \"/\" + \"rating.txt\", 'r') as rating:\n",
        "    ratings.append(rating.read()[11:-2].split(\" , \"))  \n",
        "  reviews.append(reviews_for_certain_movie)"
      ],
      "metadata": {
        "id": "0Jemtb06f6-j"
      },
      "execution_count": null,
      "outputs": []
    },
    {
      "cell_type": "code",
      "source": [
        "# Provjera za spremljene reviewove\n",
        "for movie_number, review in enumerate(reviews[:2]):\n",
        "  print(\"Reviews for the movie \" + movie_names[movie_number] + \": \\n\")\n",
        "  [print(x) for x in review]\n",
        "  print(\"\\n\\n\\n\\n\")"
      ],
      "metadata": {
        "id": "jZFQIjuDeoQ-"
      },
      "execution_count": null,
      "outputs": []
    },
    {
      "cell_type": "code",
      "source": [
        "# Provjera za spremljeni polaritet i rating\n",
        "for polarity_number, polarity in enumerate(polarities):\n",
        "  print(\"Polarity number: \" + str(polarity_number))\n",
        "  print(\"Review: \" + str(polarity))\n",
        "for rating_number, rating in enumerate(ratings):\n",
        "  print(\"Rating number: \" + str(rating_number))\n",
        "  print(\"Rating: \" + str(rating))"
      ],
      "metadata": {
        "id": "9F1i4tPSCZF-"
      },
      "execution_count": null,
      "outputs": []
    },
    {
      "cell_type": "code",
      "source": [
        "# Word Embedding\n",
        "import io\n",
        "import os\n",
        "import re\n",
        "import shutil\n",
        "import string\n",
        "import tensorflow as tf\n",
        "import numpy as np\n",
        "\n",
        "from tensorflow.keras import Sequential\n",
        "from tensorflow.keras.layers import Dense, Embedding, GlobalAveragePooling1D\n",
        "from tensorflow.keras.layers import TextVectorization"
      ],
      "metadata": {
        "id": "jG4YXM9EF04g"
      },
      "execution_count": null,
      "outputs": []
    },
    {
      "cell_type": "code",
      "source": [
        "# Priprema podataka za Keras model\n",
        "batch_size = 512\n",
        "seed = 321\n",
        "train_ds = tf.data.Dataset.from_tensor_slices((np.asarray(reviews[:8]), np.asarray(polarities[:8], dtype=np.int_)))\n",
        "val_ds = tf.data.Dataset.from_tensor_slices((np.asarray(reviews[8:]), np.asarray(polarities[8:], dtype=np.int_)))\n",
        "print(train_ds)\n",
        "print(val_ds)"
      ],
      "metadata": {
        "colab": {
          "base_uri": "https://localhost:8080/"
        },
        "id": "hDTq4mc6HCGH",
        "outputId": "7e0ada24-aa73-4cd0-c69d-6b601bd7c7c6"
      },
      "execution_count": null,
      "outputs": [
        {
          "output_type": "stream",
          "name": "stdout",
          "text": [
            "<TensorSliceDataset shapes: ((100,), (100,)), types: (tf.string, tf.int64)>\n",
            "<TensorSliceDataset shapes: ((100,), (100,)), types: (tf.string, tf.int64)>\n"
          ]
        }
      ]
    },
    {
      "cell_type": "code",
      "source": [
        "AUTOTUNE = tf.data.AUTOTUNE\n",
        "\n",
        "train_ds = train_ds.cache().prefetch(buffer_size=AUTOTUNE)\n",
        "val_ds = val_ds.cache().prefetch(buffer_size=AUTOTUNE)"
      ],
      "metadata": {
        "id": "QcfC80gCLEyt"
      },
      "execution_count": null,
      "outputs": []
    },
    {
      "cell_type": "code",
      "source": [
        "# Vocabulary size and number of words in a sequence.\n",
        "vocab_size = 10000\n",
        "sequence_length = 100\n",
        "\n",
        "# Use the text vectorization layer to normalize, split, and map strings to\n",
        "# integers. Note that the layer uses the custom standardization defined above.\n",
        "# Set maximum_sequence length as all samples are not of the same length.\n",
        "vectorize_layer = TextVectorization(\n",
        "    standardize='lower_and_strip_punctuation',\n",
        "    max_tokens=vocab_size,\n",
        "    output_mode='int',\n",
        "    output_sequence_length=sequence_length)\n",
        "\n",
        "# Make a text-only dataset (no labels) and call adapt to build the vocabulary.\n",
        "text_ds = train_ds.map(lambda x, y: x)\n",
        "vectorize_layer.adapt(text_ds)"
      ],
      "metadata": {
        "id": "dzPQQF97LNWF"
      },
      "execution_count": null,
      "outputs": []
    },
    {
      "cell_type": "code",
      "source": [
        "embedding_dim=8\n",
        "\n",
        "model = Sequential([\n",
        "  vectorize_layer,\n",
        "  Embedding(vocab_size, embedding_dim, name=\"embedding\"),\n",
        "  GlobalAveragePooling1D(),\n",
        "  Dense(16, activation='relu'),\n",
        "  Dense(1)\n",
        "])"
      ],
      "metadata": {
        "id": "Vruy82TCL1gn"
      },
      "execution_count": null,
      "outputs": []
    },
    {
      "cell_type": "code",
      "source": [
        "model.compile(optimizer='adam',\n",
        "              loss=tf.keras.losses.BinaryCrossentropy(from_logits=True),\n",
        "              metrics=['accuracy'])"
      ],
      "metadata": {
        "id": "k-E8C7yOMExV"
      },
      "execution_count": null,
      "outputs": []
    },
    {
      "cell_type": "code",
      "source": [
        "# tensorboard_callback = tf.keras.callbacks.TensorBoard(log_dir=\"logs\")"
      ],
      "metadata": {
        "id": "XgguTIvLMTXm"
      },
      "execution_count": null,
      "outputs": []
    },
    {
      "cell_type": "code",
      "source": [
        "history = model.fit(\n",
        "    train_ds,\n",
        "    validation_data=val_ds,\n",
        "    epochs=15)"
      ],
      "metadata": {
        "colab": {
          "base_uri": "https://localhost:8080/"
        },
        "id": "NS4cqaDAMI-d",
        "outputId": "82b0b5e2-fd87-49b2-967b-419fa020c749"
      },
      "execution_count": null,
      "outputs": [
        {
          "output_type": "stream",
          "name": "stdout",
          "text": [
            "Epoch 1/15\n",
            "8/8 [==============================] - 1s 38ms/step - loss: 0.6903 - accuracy: 0.2612 - val_loss: 0.6826 - val_accuracy: 0.1750\n",
            "Epoch 2/15\n",
            "8/8 [==============================] - 0s 15ms/step - loss: 0.6826 - accuracy: 0.2612 - val_loss: 0.6717 - val_accuracy: 0.1750\n",
            "Epoch 3/15\n",
            "8/8 [==============================] - 0s 13ms/step - loss: 0.6744 - accuracy: 0.2612 - val_loss: 0.6598 - val_accuracy: 0.1750\n",
            "Epoch 4/15\n",
            "8/8 [==============================] - 0s 13ms/step - loss: 0.6656 - accuracy: 0.2612 - val_loss: 0.6472 - val_accuracy: 0.1750\n",
            "Epoch 5/15\n",
            "8/8 [==============================] - 0s 13ms/step - loss: 0.6565 - accuracy: 0.2612 - val_loss: 0.6339 - val_accuracy: 0.1750\n",
            "Epoch 6/15\n",
            "8/8 [==============================] - 0s 14ms/step - loss: 0.6469 - accuracy: 0.2612 - val_loss: 0.6198 - val_accuracy: 0.1750\n",
            "Epoch 7/15\n",
            "8/8 [==============================] - 0s 13ms/step - loss: 0.6370 - accuracy: 0.2612 - val_loss: 0.6053 - val_accuracy: 0.1750\n",
            "Epoch 8/15\n",
            "8/8 [==============================] - 0s 13ms/step - loss: 0.6269 - accuracy: 0.2612 - val_loss: 0.5904 - val_accuracy: 0.1750\n",
            "Epoch 9/15\n",
            "8/8 [==============================] - 0s 13ms/step - loss: 0.6168 - accuracy: 0.2612 - val_loss: 0.5755 - val_accuracy: 0.1750\n",
            "Epoch 10/15\n",
            "8/8 [==============================] - 0s 14ms/step - loss: 0.6069 - accuracy: 0.2650 - val_loss: 0.5609 - val_accuracy: 0.4700\n",
            "Epoch 11/15\n",
            "8/8 [==============================] - 0s 14ms/step - loss: 0.5975 - accuracy: 0.6875 - val_loss: 0.5468 - val_accuracy: 0.8250\n",
            "Epoch 12/15\n",
            "8/8 [==============================] - 0s 13ms/step - loss: 0.5885 - accuracy: 0.7837 - val_loss: 0.5335 - val_accuracy: 0.8250\n",
            "Epoch 13/15\n",
            "8/8 [==============================] - 0s 14ms/step - loss: 0.5803 - accuracy: 0.7400 - val_loss: 0.5213 - val_accuracy: 0.8250\n",
            "Epoch 14/15\n",
            "8/8 [==============================] - 0s 14ms/step - loss: 0.5729 - accuracy: 0.7387 - val_loss: 0.5104 - val_accuracy: 0.8250\n",
            "Epoch 15/15\n",
            "8/8 [==============================] - 0s 14ms/step - loss: 0.5663 - accuracy: 0.7387 - val_loss: 0.5009 - val_accuracy: 0.8250\n"
          ]
        }
      ]
    },
    {
      "cell_type": "code",
      "source": [
        "model.summary()"
      ],
      "metadata": {
        "colab": {
          "base_uri": "https://localhost:8080/"
        },
        "id": "PFZp13YUR3f3",
        "outputId": "f965b3df-2b44-40c4-d008-b07c9cd006ea"
      },
      "execution_count": null,
      "outputs": [
        {
          "output_type": "stream",
          "name": "stdout",
          "text": [
            "Model: \"sequential\"\n",
            "_________________________________________________________________\n",
            " Layer (type)                Output Shape              Param #   \n",
            "=================================================================\n",
            " text_vectorization (TextVec  (None, 100)              0         \n",
            " torization)                                                     \n",
            "                                                                 \n",
            " embedding (Embedding)       (None, 100, 8)            80000     \n",
            "                                                                 \n",
            " global_average_pooling1d (G  (None, 8)                0         \n",
            " lobalAveragePooling1D)                                          \n",
            "                                                                 \n",
            " dense (Dense)               (None, 16)                144       \n",
            "                                                                 \n",
            " dense_1 (Dense)             (None, 1)                 17        \n",
            "                                                                 \n",
            "=================================================================\n",
            "Total params: 80,161\n",
            "Trainable params: 80,161\n",
            "Non-trainable params: 0\n",
            "_________________________________________________________________\n"
          ]
        }
      ]
    },
    {
      "cell_type": "code",
      "source": [
        "import matplotlib.pyplot as plt\n",
        "\n",
        "plt.plot(history.history['accuracy'])\n",
        "plt.plot(history.history['val_accuracy'])\n",
        "plt.title('Model accuracy')\n",
        "plt.ylabel('accuracy')\n",
        "plt.xlabel('epoch')\n",
        "plt.legend(['train', 'test'], loc='upper left')\n",
        "plt.show()\n",
        "\n",
        "plt.plot(history.history['loss'])\n",
        "plt.plot(history.history['val_loss'])\n",
        "plt.title('Model loss')\n",
        "plt.ylabel('loss')\n",
        "plt.xlabel('epoch')\n",
        "plt.legend(['train', 'test'], loc='upper left')\n",
        "plt.show()"
      ],
      "metadata": {
        "colab": {
          "base_uri": "https://localhost:8080/",
          "height": 573
        },
        "id": "gs6kiuU4R72l",
        "outputId": "7c49836a-f0ee-4122-9d5f-dd29923b1daf"
      },
      "execution_count": null,
      "outputs": [
        {
          "output_type": "display_data",
          "data": {
            "image/png": "[encoded data removed]",
            "text/plain": [
              "<Figure size 432x288 with 1 Axes>"
            ]
          },
          "metadata": {
            "needs_background": "light"
          }
        },
        {
          "output_type": "display_data",
          "data": {
            "image/png": "[encoded data removed]",
            "text/plain": [
              "<Figure size 432x288 with 1 Axes>"
            ]
          },
          "metadata": {
            "needs_background": "light"
          }
        }
      ]
    },
    {
      "cell_type": "code",
      "source": [
        "weights = model.get_layer('embedding').get_weights()[0]\n",
        "vocab = vectorize_layer.get_vocabulary()"
      ],
      "metadata": {
        "id": "m21SEVcPSDRW"
      },
      "execution_count": null,
      "outputs": []
    },
    {
      "cell_type": "code",
      "source": [
        "out_v = io.open('vectorsNLP.tsv', 'w', encoding='utf-8')\n",
        "out_m = io.open('metadataNLP.tsv', 'w', encoding='utf-8')\n",
        "\n",
        "for index, word in enumerate(vocab):\n",
        "  if index == 0:\n",
        "    continue  # skip 0, it's padding.\n",
        "  vec = weights[index]\n",
        "  out_v.write('\\t'.join([str(x) for x in vec]) + \"\\n\")\n",
        "  out_m.write(word + \"\\n\")\n",
        "out_v.close()\n",
        "out_m.close()"
      ],
      "metadata": {
        "id": "UHyDHRVgSKhG"
      },
      "execution_count": null,
      "outputs": []
    }
  ]
}
