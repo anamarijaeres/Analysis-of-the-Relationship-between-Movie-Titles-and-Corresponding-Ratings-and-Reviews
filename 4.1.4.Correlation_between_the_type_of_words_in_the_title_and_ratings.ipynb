{
  "nbformat": 4,
  "nbformat_minor": 0,
  "metadata": {
    "colab": {
      "provenance": [],
      "collapsed_sections": [],
      "authorship_tag": "ABX9TyOFeHzEVF7y+AlQ7e17+B+U",
      "include_colab_link": true
    },
    "kernelspec": {
      "name": "python3",
      "display_name": "Python 3"
    },
    "language_info": {
      "name": "python"
    }
  },
  "cells": [
    {
      "cell_type": "markdown",
      "metadata": {
        "id": "view-in-github",
        "colab_type": "text"
      },
      "source": [
        "<a href=\"https://colab.research.google.com/github/anamarijaeres/Analysis-of-the-Relationship-between-Movie-Titles-and-Corresponding-Ratings-and-Reviews/blob/main/4_1_4_Correlation_between_the_type_of_words_in_the_title_and_ratings.ipynb\" target=\"_parent\"><img src=\"https://colab.research.google.com/assets/colab-badge.svg\" alt=\"Open In Colab\"/></a>"
      ]
    },
    {
      "cell_type": "code",
      "execution_count": null,
      "metadata": {
        "id": "L3u6XGagnZtX"
      },
      "outputs": [],
      "source": [
        "import io\n",
        "import os\n",
        "import re\n",
        "import shutil\n",
        "import string\n",
        "import tensorflow as tf\n",
        "\n",
        "from tensorflow.keras import Sequential\n",
        "from tensorflow.keras.layers import Dense, Embedding, GlobalAveragePooling1D\n",
        "from tensorflow.keras.layers import TextVectorization"
      ]
    },
    {
      "cell_type": "code",
      "source": [
        "from google.colab import drive\n",
        "drive.mount('/content/drive')"
      ],
      "metadata": {
        "colab": {
          "base_uri": "https://localhost:8080/"
        },
        "id": "Q718zw5jniQo",
        "outputId": "0a32f82f-a326-4777-9b47-19fb9436a57e"
      },
      "execution_count": null,
      "outputs": [
        {
          "output_type": "stream",
          "name": "stdout",
          "text": [
            "Mounted at /content/drive\n"
          ]
        }
      ]
    },
    {
      "cell_type": "code",
      "source": [
        "import pandas as pd\n",
        "\n",
        "df = pd.read_excel('/content/drive/My Drive/dataset.xlsx')"
      ],
      "metadata": {
        "id": "--R0D2kTnrsR"
      },
      "execution_count": null,
      "outputs": []
    },
    {
      "cell_type": "code",
      "source": [
        "df.columns\n",
        "df=df.drop(['\"imdbID\"'], axis=1) \n",
        "df=df.drop(['\"mov_galaxy_ID\"'], axis=1) \n",
        "df.head()"
      ],
      "metadata": {
        "colab": {
          "base_uri": "https://localhost:8080/",
          "height": 206
        },
        "id": "e8gMWnpRnr4o",
        "outputId": "5121d7b1-8a1d-4cbe-b230-5b7e9c31ded1"
      },
      "execution_count": null,
      "outputs": [
        {
          "output_type": "execute_result",
          "data": {
            "text/html": [
              "\n",
              "  <div id=\"df-941ccfa9-a4ca-4ec3-8ea4-3aa56ae7c22b\">\n",
              "    <div class=\"colab-df-container\">\n",
              "      <div>\n",
              "<style scoped>\n",
              "    .dataframe tbody tr th:only-of-type {\n",
              "        vertical-align: middle;\n",
              "    }\n",
              "\n",
              "    .dataframe tbody tr th {\n",
              "        vertical-align: top;\n",
              "    }\n",
              "\n",
              "    .dataframe thead th {\n",
              "        text-align: right;\n",
              "    }\n",
              "</style>\n",
              "<table border=\"1\" class=\"dataframe\">\n",
              "  <thead>\n",
              "    <tr style=\"text-align: right;\">\n",
              "      <th></th>\n",
              "      <th>\"title\"</th>\n",
              "      <th>\"rating\"</th>\n",
              "    </tr>\n",
              "  </thead>\n",
              "  <tbody>\n",
              "    <tr>\n",
              "      <th>0</th>\n",
              "      <td>\"10 Things I Hate About You\"</td>\n",
              "      <td>\"7.2\"</td>\n",
              "    </tr>\n",
              "    <tr>\n",
              "      <th>1</th>\n",
              "      <td>\"12 and Holding\"</td>\n",
              "      <td>\"7.6\"</td>\n",
              "    </tr>\n",
              "    <tr>\n",
              "      <th>2</th>\n",
              "      <td>\"127 Hours\"</td>\n",
              "      <td>\"7.6\"</td>\n",
              "    </tr>\n",
              "    <tr>\n",
              "      <th>3</th>\n",
              "      <td>\"1492: Conquest of Paradise\"</td>\n",
              "      <td>\"6.5\"</td>\n",
              "    </tr>\n",
              "    <tr>\n",
              "      <th>4</th>\n",
              "      <td>\"15 Minutes\"</td>\n",
              "      <td>\"6.1\"</td>\n",
              "    </tr>\n",
              "  </tbody>\n",
              "</table>\n",
              "</div>\n",
              "      <button class=\"colab-df-convert\" onclick=\"convertToInteractive('df-941ccfa9-a4ca-4ec3-8ea4-3aa56ae7c22b')\"\n",
              "              title=\"Convert this dataframe to an interactive table.\"\n",
              "              style=\"display:none;\">\n",
              "        \n",
              "  <svg xmlns=\"http://www.w3.org/2000/svg\" height=\"24px\"viewBox=\"0 0 24 24\"\n",
              "       width=\"24px\">\n",
              "    <path d=\"M0 0h24v24H0V0z\" fill=\"none\"/>\n",
              "    <path d=\"M18.56 5.44l.94 2.06.94-2.06 2.06-.94-2.06-.94-.94-2.06-.94 2.06-2.06.94zm-11 1L8.5 8.5l.94-2.06 2.06-.94-2.06-.94L8.5 2.5l-.94 2.06-2.06.94zm10 10l.94 2.06.94-2.06 2.06-.94-2.06-.94-.94-2.06-.94 2.06-2.06.94z\"/><path d=\"M17.41 7.96l-1.37-1.37c-.4-.4-.92-.59-1.43-.59-.52 0-1.04.2-1.43.59L10.3 9.45l-7.72 7.72c-.78.78-.78 2.05 0 2.83L4 21.41c.39.39.9.59 1.41.59.51 0 1.02-.2 1.41-.59l7.78-7.78 2.81-2.81c.8-.78.8-2.07 0-2.86zM5.41 20L4 18.59l7.72-7.72 1.47 1.35L5.41 20z\"/>\n",
              "  </svg>\n",
              "      </button>\n",
              "      \n",
              "  <style>\n",
              "    .colab-df-container {\n",
              "      display:flex;\n",
              "      flex-wrap:wrap;\n",
              "      gap: 12px;\n",
              "    }\n",
              "\n",
              "    .colab-df-convert {\n",
              "      background-color: #E8F0FE;\n",
              "      border: none;\n",
              "      border-radius: 50%;\n",
              "      cursor: pointer;\n",
              "      display: none;\n",
              "      fill: #1967D2;\n",
              "      height: 32px;\n",
              "      padding: 0 0 0 0;\n",
              "      width: 32px;\n",
              "    }\n",
              "\n",
              "    .colab-df-convert:hover {\n",
              "      background-color: #E2EBFA;\n",
              "      box-shadow: 0px 1px 2px rgba(60, 64, 67, 0.3), 0px 1px 3px 1px rgba(60, 64, 67, 0.15);\n",
              "      fill: #174EA6;\n",
              "    }\n",
              "\n",
              "    [theme=dark] .colab-df-convert {\n",
              "      background-color: #3B4455;\n",
              "      fill: #D2E3FC;\n",
              "    }\n",
              "\n",
              "    [theme=dark] .colab-df-convert:hover {\n",
              "      background-color: #434B5C;\n",
              "      box-shadow: 0px 1px 3px 1px rgba(0, 0, 0, 0.15);\n",
              "      filter: drop-shadow(0px 1px 2px rgba(0, 0, 0, 0.3));\n",
              "      fill: #FFFFFF;\n",
              "    }\n",
              "  </style>\n",
              "\n",
              "      <script>\n",
              "        const buttonEl =\n",
              "          document.querySelector('#df-941ccfa9-a4ca-4ec3-8ea4-3aa56ae7c22b button.colab-df-convert');\n",
              "        buttonEl.style.display =\n",
              "          google.colab.kernel.accessAllowed ? 'block' : 'none';\n",
              "\n",
              "        async function convertToInteractive(key) {\n",
              "          const element = document.querySelector('#df-941ccfa9-a4ca-4ec3-8ea4-3aa56ae7c22b');\n",
              "          const dataTable =\n",
              "            await google.colab.kernel.invokeFunction('convertToInteractive',\n",
              "                                                     [key], {});\n",
              "          if (!dataTable) return;\n",
              "\n",
              "          const docLinkHtml = 'Like what you see? Visit the ' +\n",
              "            '<a target=\"_blank\" href=https://colab.research.google.com/notebooks/data_table.ipynb>data table notebook</a>'\n",
              "            + ' to learn more about interactive tables.';\n",
              "          element.innerHTML = '';\n",
              "          dataTable['output_type'] = 'display_data';\n",
              "          await google.colab.output.renderOutput(dataTable, element);\n",
              "          const docLink = document.createElement('div');\n",
              "          docLink.innerHTML = docLinkHtml;\n",
              "          element.appendChild(docLink);\n",
              "        }\n",
              "      </script>\n",
              "    </div>\n",
              "  </div>\n",
              "  "
            ],
            "text/plain": [
              "                        \"title\" \"rating\"\n",
              "0  \"10 Things I Hate About You\"    \"7.2\"\n",
              "1              \"12 and Holding\"    \"7.6\"\n",
              "2                   \"127 Hours\"    \"7.6\"\n",
              "3  \"1492: Conquest of Paradise\"    \"6.5\"\n",
              "4                  \"15 Minutes\"    \"6.1\""
            ]
          },
          "metadata": {},
          "execution_count": 8
        }
      ]
    },
    {
      "cell_type": "code",
      "source": [
        "list_names= df['\"title\"'].tolist()\n",
        "list_names[:3]"
      ],
      "metadata": {
        "colab": {
          "base_uri": "https://localhost:8080/"
        },
        "id": "XFcvV7Zvn7rQ",
        "outputId": "985171fa-1a5d-454b-c002-272565d6191e"
      },
      "execution_count": null,
      "outputs": [
        {
          "output_type": "execute_result",
          "data": {
            "text/plain": [
              "['\"10 Things I Hate About You\"', '\"12 and Holding\"', '\"127 Hours\"']"
            ]
          },
          "metadata": {},
          "execution_count": 9
        }
      ]
    },
    {
      "cell_type": "markdown",
      "source": [
        "Link : https://opensenselabs.com/blog/tech/entity-extraction-using-nlp-python\n",
        "\n",
        "sentence segmentation --> tokenization --> part of speech tagging --> entity extraction \n"
      ],
      "metadata": {
        "id": "-LamJIsXViUB"
      }
    },
    {
      "cell_type": "code",
      "source": [
        "import nltk.tokenize as nt\n",
        "import nltk\n",
        "nltk.download('punkt')\n",
        "nltk.download('averaged_perceptron_tagger')\n",
        "\n"
      ],
      "metadata": {
        "colab": {
          "base_uri": "https://localhost:8080/"
        },
        "id": "emhqjDWooSkh",
        "outputId": "17c992a5-ee99-4cee-f13a-58771f3b194e"
      },
      "execution_count": null,
      "outputs": [
        {
          "output_type": "stream",
          "name": "stdout",
          "text": [
            "[nltk_data] Downloading package punkt to /root/nltk_data...\n",
            "[nltk_data]   Unzipping tokenizers/punkt.zip.\n",
            "[nltk_data] Downloading package averaged_perceptron_tagger to\n",
            "[nltk_data]     /root/nltk_data...\n",
            "[nltk_data]   Unzipping taggers/averaged_perceptron_tagger.zip.\n"
          ]
        },
        {
          "output_type": "execute_result",
          "data": {
            "text/plain": [
              "True"
            ]
          },
          "metadata": {},
          "execution_count": 10
        }
      ]
    },
    {
      "cell_type": "code",
      "source": [
        "import numpy as np \n",
        "\n",
        "#list of names without double \"\"\n",
        "list_clear_names=[]\n",
        "for i in list_names:\n",
        "  name=''\n",
        "  for j in i:\n",
        "    if j!= \"\\\"\":\n",
        "      #print(j)\n",
        "      name+=j\n",
        "  list_clear_names.append(name)\n",
        "\n",
        "text=list_clear_names[0]\n",
        "print(text)\n",
        "\n",
        "inputs=[]\n",
        "inputs_str=[]\n",
        "for text in list_clear_names:\n",
        "  array=[]\n",
        "  str1=''\n",
        "  #split the text into the list of string\n",
        "  ss=nt.sent_tokenize(text)\n",
        "  #split the sentences into even smaller parts called 'tokens'\n",
        "  tokenized_sent=[nt.word_tokenize(sent) for sent in ss]\n",
        "  #'Part of Speech' tagging is the most complex task in entity extraction. \n",
        "  #The idea is to match the tokens with the corresponding tags (nouns, verbs, adjectives, adverbs, etc.).\n",
        "  pos_sentences=[nltk.pos_tag(sent) for sent in tokenized_sent]\n",
        "  #pos_sentences\n",
        "  #print(pos_sentences)\n",
        "  for sen in pos_sentences[0]:\n",
        "    str1+=sen[1]+\" \"\n",
        "    array.append(sen[1])\n",
        "  inputs.append(array)\n",
        "  inputs_str.append(str1)\n",
        "  #print(pos_sentences[0])\n",
        "  #print(pos_sentences[0][0])\n",
        "  #print(pos_sentences[0][0][1])\n",
        "\n",
        "#The collection of tags used for a particular task is known as a tag set for example: CD NNS PRP VBP IN PRP \n",
        "print(inputs[:3])\n",
        "print(inputs_str[:3])"
      ],
      "metadata": {
        "colab": {
          "base_uri": "https://localhost:8080/"
        },
        "id": "KnrKMPKavuHm",
        "outputId": "68734463-34e1-405e-d70a-3194e0c95d61"
      },
      "execution_count": null,
      "outputs": [
        {
          "output_type": "stream",
          "name": "stdout",
          "text": [
            "10 Things I Hate About You\n",
            "[['CD', 'NNS', 'PRP', 'VBP', 'IN', 'PRP'], ['CD', 'CC', 'VBG'], ['CD', 'NNS']]\n",
            "['CD NNS PRP VBP IN PRP ', 'CD CC VBG ', 'CD NNS ']\n"
          ]
        }
      ]
    },
    {
      "cell_type": "markdown",
      "source": [
        "![POS1.JPG](data:image/jpeg;base64,/9j/4AAQSkZJRgABAQEAeAB4AAD/4RD8RXhpZgAATU0AKgAAAAgABAE7AAIAAAARAAAISodpAAQAAAABAAAIXJydAAEAAAAgAAAQ1OocAAcAAAgMAAAAPgAAAAAc6gAAAAgAAAAAAAAAAAAAAAAAAAAAAAAAAAAAAAAAAAAAAAAAAAAAAAAAAAAAAAAAAAAAAAAAAAAAAAAAAAAAAAAAAAAAAAAAAAAAAAAAAAAAAAAAAAAAAAAAAAAAAAAAAAAAAAAAAAAAAAAAAAAAAAAAAAAAAAAAAAAAAAAAAAAAAAAAAAAAAAAAAAAAAAAAAAAAAAAAAAAAAAAAAAAAAAAAAAAAAAAAAAAAAAAAAAAAAAAAAAAAAAAAAAAAAAAAAAAAAAAAAAAAAAAAAAAAAAAAAAAAAAAAAAAAAAAAAAAAAAAAAAAAAAAAAAAAAAAAAAAAAAAAAAAAAAAAAAAAAAAAAAAAAAAAAAAAAAAAAAAAAAAAAAAAAAAAAAAAAAAAAAAAAAAAAAAAAAAAAAAAAAAAAAAAAAAAAAAAAAAAAAAAAAAAAAAAAAAAAAAAAAAAAAAAAAAAAAAAAAAAAAAAAAAAAAAAAAAAAAAAAAAAAAAAAAAAAAAAAAAAAAAAAAAAAAAAAAAAAAAAAAAAAAAAAAAAAAAAAAAAAAAAAAAAAAAAAAAAAAAAAAAAAAAAAAAAAAAAAAAAAAAAAAAAAAAAAAAAAAAAAAAAAAAAAAAAAAAAAAAAAAAAAAAAAAAAAAAAAAAAAAAAAAAAAAAAAAAAAAAAAAAAAAAAAAAAAAAAAAAAAAAAAAAAAAAAAAAAAAAAAAAAAAAAAAAAAAAAAAAAAAAAAAAAAAAAAAAAAAAAAAAAAAAAAAAAAAAAAAAAAAAAAAAAAAAAAAAAAAAAAAAAAAAAAAAAAAAAAAAAAAAAAAAAAAAAAAAAAAAAAAAAAAAAAAAAAAAAAAAAAAAAAAAAAAAAAAAAAAAAAAAAAAAAAAAAAAAAAAAAAAAAAAAAAAAAAAAAAAAAAAAAAAAAAAAAAAAAAAAAAAAAAAAAAAAAAAAAAAAAAAAAAAAAAAAAAAAAAAAAAAAAAAAAAAAAAAAAAAAAAAAAAAAAAAAAAAAAAAAAAAAAAAAAAAAAAAAAAAAAAAAAAAAAAAAAAAAAAAAAAAAAAAAAAAAAAAAAAAAAAAAAAAAAAAAAAAAAAAAAAAAAAAAAAAAAAAAAAAAAAAAAAAAAAAAAAAAAAAAAAAAAAAAAAAAAAAAAAAAAAAAAAAAAAAAAAAAAAAAAAAAAAAAAAAAAAAAAAAAAAAAAAAAAAAAAAAAAAAAAAAAAAAAAAAAAAAAAAAAAAAAAAAAAAAAAAAAAAAAAAAAAAAAAAAAAAAAAAAAAAAAAAAAAAAAAAAAAAAAAAAAAAAAAAAAAAAAAAAAAAAAAAAAAAAAAAAAAAAAAAAAAAAAAAAAAAAAAAAAAAAAAAAAAAAAAAAAAAAAAAAAAAAAAAAAAAAAAAAAAAAAAAAAAAAAAAAAAAAAAAAAAAAAAAAAAAAAAAAAAAAAAAAAAAAAAAAAAAAAAAAAAAAAAAAAAAAAAAAAAAAAAAAAAAAAAAAAAAAAAAAAAAAAAAAAAAAAAAAAAAAAAAAAAAAAAAAAAAAAAAAAAAAAAAAAAAAAAAAAAAAAAAAAAAAAAAAAAAAAAAAAAAAAAAAAAAAAAAAAAAAAAAAAAAAAAAAAAAAAAAAAAAAAAAAAAAAAAAAAAAAAAAAAAAAAAAAAAAAAAAAAAAAAAAAAAAAAAAAAAAAAAAAAAAAAAAAAAAAAAAAAAAAAAAAAAAAAAAAAAAAAAAAAAAAAAAAAAAAAAAAAAAAAAAAAAAAAAAAAAAAAAAAAAAAAAAAAAAAAAAAAAAAAAAAAAAAAAAAAAAAAAAAAAAAAAAAAAAAAAAAAAAAAAAAAAAAAAAAAAAAAAAAAAAAAAAAAAAAAAAAAAAAAAAAAAAAAAAAAAAAAAAAAAAAAAAAAAAAAAAAAAAAAAAAAAAAAAAAAAAAAAAAAAAAAAAAAAAAAAAAAAAAAAAAAAAAAAAAAAAAAAAAAAAAAAAAAAAAAAAAAAAAAAAAAAAAAAAAAAAAAAAAAAAAAAAAAAAAAAAAAAAAAAAAAAAAAAAAAAAAAAAAAAAAAAAAAAAAAAAAAAAAAAAAAAAAAAAAAAAAAAAAAAAAAAAAAAAAAAAAAAAAAAAAAAAAAAAAAAAAAAAAAAAAAAAAAAAAAAAAAAAAAAAAAAAAAAAAAAAAAAAAAAAAAAAAAAAAAAAAAAAAAAAAAAAAAAAAAAAAAAAAAAAAAAAAAAAAAAAAAAAAAAAAAAAAAAAAAAAAAAAAAAAAAAAAAAAAAAAAAAAAAAAAAAAAAAAAAAAAAAAAAAAAAAAAAAAAAAAAAAAAAAAAAAAAAAAAAAAAAAAAAAAAAAAAAAAAAAAAAAAAAAAAAAAAAAAAAAAAAAAAAAAAAAAAAAAAAAAAAAAAAAAAAAAAAAAAAAAAAAAAAAAAAAAAAAAAAAAAAAAAAAAAAAAAAAAAAAAAAAAAAAAAAAAAAAAAAAAAAAAAAAAAAAAAAAAAAAAAAAAAAAAAAAAAAAAAAAAAAAAAAAAAAAAAAAAAAAAAAAAAAAAAAAAAAAAAAAAAAAAAAAAAAAAAAAAAAAAAAAAAAAAAAAAAAAAAAAAAAAAAAAAAAAAAAAAAAAAAAAAAAAAAAAAAAAAAAAAAAAAAAAAAAAAAAAAAAAAAAAAAAAAAAAAAAAAAAAAAAAAAAAAAAAAAAAAAAAAAAAAAAAAAAAAAAAAAAAAAAAAAAAAAAAAAAAAAAAAAAAAAAAAAAAAAAAAAAAAAAAAAAAAAAAAAAAAAAAAEFuYSBNYXJpamEgRXJlxaEAAAAFkAMAAgAAABQAABCqkAQAAgAAABQAABC+kpEAAgAAAAM0OQAAkpIAAgAAAAM0OQAA6hwABwAACAwAAAieAAAAABzqAAAACAAAAAAAAAAAAAAAAAAAAAAAAAAAAAAAAAAAAAAAAAAAAAAAAAAAAAAAAAAAAAAAAAAAAAAAAAAAAAAAAAAAAAAAAAAAAAAAAAAAAAAAAAAAAAAAAAAAAAAAAAAAAAAAAAAAAAAAAAAAAAAAAAAAAAAAAAAAAAAAAAAAAAAAAAAAAAAAAAAAAAAAAAAAAAAAAAAAAAAAAAAAAAAAAAAAAAAAAAAAAAAAAAAAAAAAAAAAAAAAAAAAAAAAAAAAAAAAAAAAAAAAAAAAAAAAAAAAAAAAAAAAAAAAAAAAAAAAAAAAAAAAAAAAAAAAAAAAAAAAAAAAAAAAAAAAAAAAAAAAAAAAAAAAAAAAAAAAAAAAAAAAAAAAAAAAAAAAAAAAAAAAAAAAAAAAAAAAAAAAAAAAAAAAAAAAAAAAAAAAAAAAAAAAAAAAAAAAAAAAAAAAAAAAAAAAAAAAAAAAAAAAAAAAAAAAAAAAAAAAAAAAAAAAAAAAAAAAAAAAAAAAAAAAAAAAAAAAAAAAAAAAAAAAAAAAAAAAAAAAAAAAAAAAAAAAAAAAAAAAAAAAAAAAAAAAAAAAAAAAAAAAAAAAAAAAAAAAAAAAAAAAAAAAAAAAAAAAAAAAAAAAAAAAAAAAAAAAAAAAAAAAAAAAAAAAAAAAAAAAAAAAAAAAAAAAAAAAAAAAAAAAAAAAAAAAAAAAAAAAAAAAAAAAAAAAAAAAAAAAAAAAAAAAAAAAAAAAAAAAAAAAAAAAAAAAAAAAAAAAAAAAAAAAAAAAAAAAAAAAAAAAAAAAAAAAAAAAAAAAAAAAAAAAAAAAAAAAAAAAAAAAAAAAAAAAAAAAAAAAAAAAAAAAAAAAAAAAAAAAAAAAAAAAAAAAAAAAAAAAAAAAAAAAAAAAAAAAAAAAAAAAAAAAAAAAAAAAAAAAAAAAAAAAAAAAAAAAAAAAAAAAAAAAAAAAAAAAAAAAAAAAAAAAAAAAAAAAAAAAAAAAAAAAAAAAAAAAAAAAAAAAAAAAAAAAAAAAAAAAAAAAAAAAAAAAAAAAAAAAAAAAAAAAAAAAAAAAAAAAAAAAAAAAAAAAAAAAAAAAAAAAAAAAAAAAAAAAAAAAAAAAAAAAAAAAAAAAAAAAAAAAAAAAAAAAAAAAAAAAAAAAAAAAAAAAAAAAAAAAAAAAAAAAAAAAAAAAAAAAAAAAAAAAAAAAAAAAAAAAAAAAAAAAAAAAAAAAAAAAAAAAAAAAAAAAAAAAAAAAAAAAAAAAAAAAAAAAAAAAAAAAAAAAAAAAAAAAAAAAAAAAAAAAAAAAAAAAAAAAAAAAAAAAAAAAAAAAAAAAAAAAAAAAAAAAAAAAAAAAAAAAAAAAAAAAAAAAAAAAAAAAAAAAAAAAAAAAAAAAAAAAAAAAAAAAAAAAAAAAAAAAAAAAAAAAAAAAAAAAAAAAAAAAAAAAAAAAAAAAAAAAAAAAAAAAAAAAAAAAAAAAAAAAAAAAAAAAAAAAAAAAAAAAAAAAAAAAAAAAAAAAAAAAAAAAAAAAAAAAAAAAAAAAAAAAAAAAAAAAAAAAAAAAAAAAAAAAAAAAAAAAAAAAAAAAAAAAAAAAAAAAAAAAAAAAAAAAAAAAAAAAAAAAAAAAAAAAAAAAAAAAAAAAAAAAAAAAAAAAAAAAAAAAAAAAAAAAAAAAAAAAAAAAAAAAAAAAAAAAAAAAAAAAAAAAAAAAAAAAAAAAAAAAAAAAAAAAAAAAAAAAAAAAAAAAAAAAAAAAAAAAAAAAAAAAAAAAAAAAAAAAAAAAAAAAAAAAAAAAAAAAAAAAAAAAAAAAAAAAAAAAAAAAAAAAAAAAAAAAAAAAAAAAAAAAAAAAAAAAAAAAAAAAAAAAAAAAAAAAAAAAAAAAAAAAAAAAAAAAAAAAAAAAAAAAAAAAAAAAAAAAAAAAAAAAAAAAAAAAAAAAAAAAAAAAAAAAAAAAAAAAAAAAAAAAAAAAAAAAAAAAAAAAAAAAAAAAAAAAAAAAAAAAAAAAAAAAAAAAAAAAAAAAAAAAAAAAAAAAAAAAAAAAAAAAAAAAAAAAAAAAAAAAAAAAAAAAAAAAAAAAAAAAAAAAAAAAAAAAAAAAAAAAAAAAAAAAAAAAAAAAAAAAAAAAAAAAAAAAAAAAAAAAAAAAAAAAAAAAAAAAAAAAAAAAAAAAAAAAAAAAAAAAAAAAAAAAAAAAAAAAAAAAAAAAAAAAAAAAAAAAAAAAAAAAAAAAAAAAAAAAAAAAAAAAAAAAAAAAAAAAAAAAAAAAAAAAAAAAAAAAAAAAAAAAAAAAAAAAAAAAAAAAAAAAAAAAAAAAAAAAAAAAAAAAAAAAAAAAAAAAAAAAAAAAAAAAAAAAAAAAAAAAAAAAAAAAAAAAAAAAAAAAAAAAAAAAAAAAAAAAAAAAAAAAAAAAAAAAAAAAAAAAAAAAAAAAAAAAAAAAAAAAAAAAAAAAAAAAAAAAAAAAAAAAAAAAAAAAAAAAAAAAAAAAAAAAAAAAAAAAAAAAAAAAAAAAAAAAAAAAAAAAAAAAAAAAAAAAAAAAAAAAAAAAAAAAAAAAAAAAAAAAAAAAAAAAAAAAAAAAAAAAAAAAAAAAAAAAAAAAAAAAAAAAAAAAAAAAAAAAAAAAAAAAAAAAAAAAAAAAAAAAAAAAAAAAAAAAAAAAAAAAAAAAAAAAAAAAAAAAAAAAAAAAAAAAAAAAAAAAAAAAAAAAAAAAAAAAAAAAAAAAAAAAAAAAAAAAAAAAAAAAAAAAAAAAAAAAMjAyMjowMTowNCAxNDo1NjoxNgAyMDIyOjAxOjA0IDE0OjU2OjE2AAAAQQBuAGEAIABNAGEAcgBpAGoAYQAgAEUAcgBlAGEBAAD/4QsjaHR0cDovL25zLmFkb2JlLmNvbS94YXAvMS4wLwA8P3hwYWNrZXQgYmVnaW49J++7vycgaWQ9J1c1TTBNcENlaGlIenJlU3pOVGN6a2M5ZCc/Pg0KPHg6eG1wbWV0YSB4bWxuczp4PSJhZG9iZTpuczptZXRhLyI+PHJkZjpSREYgeG1sbnM6cmRmPSJodHRwOi8vd3d3LnczLm9yZy8xOTk5LzAyLzIyLXJkZi1zeW50YXgtbnMjIj48cmRmOkRlc2NyaXB0aW9uIHJkZjphYm91dD0idXVpZDpmYWY1YmRkNS1iYTNkLTExZGEtYWQzMS1kMzNkNzUxODJmMWIiIHhtbG5zOmRjPSJodHRwOi8vcHVybC5vcmcvZGMvZWxlbWVudHMvMS4xLyIvPjxyZGY6RGVzY3JpcHRpb24gcmRmOmFib3V0PSJ1dWlkOmZhZjViZGQ1LWJhM2QtMTFkYS1hZDMxLWQzM2Q3NTE4MmYxYiIgeG1sbnM6eG1wPSJodHRwOi8vbnMuYWRvYmUuY29tL3hhcC8xLjAvIj48eG1wOkNyZWF0ZURhdGU+MjAyMi0wMS0wNFQxNDo1NjoxNi40ODk8L3htcDpDcmVhdGVEYXRlPjwvcmRmOkRlc2NyaXB0aW9uPjxyZGY6RGVzY3JpcHRpb24gcmRmOmFib3V0PSJ1dWlkOmZhZjViZGQ1LWJhM2QtMTFkYS1hZDMxLWQzM2Q3NTE4MmYxYiIgeG1sbnM6ZGM9Imh0dHA6Ly9wdXJsLm9yZy9kYy9lbGVtZW50cy8xLjEvIj48ZGM6Y3JlYXRvcj48cmRmOlNlcSB4bWxuczpyZGY9Imh0dHA6Ly93d3cudzMub3JnLzE5OTkvMDIvMjItcmRmLXN5bnRheC1ucyMiPjxyZGY6bGk+QW5hIE1hcmlqYSBFcmXFoTwvcmRmOmxpPjwvcmRmOlNlcT4NCgkJCTwvZGM6Y3JlYXRvcj48L3JkZjpEZXNjcmlwdGlvbj48L3JkZjpSREY+PC94OnhtcG1ldGE+DQogICAgICAgICAgICAgICAgICAgICAgICAgICAgICAgICAgICAgICAgICAgICAgICAgICAgICAgICAgICAgICAgICAgICAgICAgICAgICAgICAgICAgICAgICAgICAgICAgICAgCiAgICAgICAgICAgICAgICAgICAgICAgICAgICAgICAgICAgICAgICAgICAgICAgICAgICAgICAgICAgICAgICAgICAgICAgICAgICAgICAgICAgICAgICAgICAgICAgICAgICAKICAgICAgICAgICAgICAgICAgICAgICAgICAgICAgICAgICAgICAgICAgICAgICAgICAgICAgICAgICAgICAgICAgICAgICAgICAgICAgICAgICAgICAgICAgICAgICAgICAgIAogICAgICAgICAgICAgICAgICAgICAgICAgICAgICAgICAgICAgICAgICAgICAgICAgICAgICAgICAgICAgICAgICAgICAgICAgICAgICAgICAgICAgICAgICAgICAgICAgICAgCiAgICAgICAgICAgICAgICAgICAgICAgICAgICAgICAgICAgICAgICAgICAgICAgICAgICAgICAgICAgICAgICAgICAgICAgICAgICAgICAgICAgICAgICAgICAgICAgICAgICAKICAgICAgICAgICAgICAgICAgICAgICAgICAgICAgICAgICAgICAgICAgICAgICAgICAgICAgICAgICAgICAgICAgICAgICAgICAgICAgICAgICAgICAgICAgICAgICAgICAgIAogICAgICAgICAgICAgICAgICAgICAgICAgICAgICAgICAgICAgICAgICAgICAgICAgICAgICAgICAgICAgICAgICAgICAgICAgICAgICAgICAgICAgICAgICAgICAgICAgICAgCiAgICAgICAgICAgICAgICAgICAgICAgICAgICAgICAgICAgICAgICAgICAgICAgICAgICAgICAgICAgICAgICAgICAgICAgICAgICAgICAgICAgICAgICAgICAgICAgICAgICAKICAgICAgICAgICAgICAgICAgICAgICAgICAgICAgICAgICAgICAgICAgICAgICAgICAgICAgICAgICAgICAgICAgICAgICAgICAgICAgICAgICAgICAgICAgICAgICAgICAgIAogICAgICAgICAgICAgICAgICAgICAgICAgICAgICAgICAgICAgICAgICAgICAgICAgICAgICAgICAgICAgICAgICAgICAgICAgICAgICAgICAgICAgICAgICAgICAgICAgICAgCiAgICAgICAgICAgICAgICAgICAgICAgICAgICAgICAgICAgICAgICAgICAgICAgICAgICAgICAgICAgICAgICAgICAgICAgICAgICAgICAgICAgICAgICAgICAgICAgICAgICAKICAgICAgICAgICAgICAgICAgICAgICAgICAgICAgICAgICAgICAgICAgICAgICAgICAgICAgICAgICAgICAgICAgICAgICAgICAgICAgICAgICAgICAgICAgICAgICAgICAgIAogICAgICAgICAgICAgICAgICAgICAgICAgICAgICAgICAgICAgICAgICAgICAgICAgICAgICAgICAgICAgICAgICAgICAgICAgICAgICAgICAgICAgICAgICAgICAgICAgICAgCiAgICAgICAgICAgICAgICAgICAgICAgICAgICAgICAgICAgICAgICAgICAgICAgICAgICAgICAgICAgICAgICAgICAgICAgICAgICAgICAgICAgICAgICAgICAgICAgICAgICAKICAgICAgICAgICAgICAgICAgICAgICAgICAgICAgICAgICAgICAgICAgICAgICAgICAgICAgICAgICAgICAgICAgICAgICAgICAgICAgICAgICAgICAgICAgICAgICAgICAgIAogICAgICAgICAgICAgICAgICAgICAgICAgICAgICAgICAgICAgICAgICAgICAgICAgICAgICAgICAgICAgICAgICAgICAgICAgICAgICAgICAgICAgICAgICAgICAgICAgICAgCiAgICAgICAgICAgICAgICAgICAgICAgICAgICAgICAgICAgICAgICAgICAgICAgICAgICAgICAgICAgICAgICAgICAgICAgICAgICAgICAgICAgICAgICAgICAgICAgICAgICAKICAgICAgICAgICAgICAgICAgICAgICAgICAgICAgICAgICAgICAgICAgICAgICAgICAgICAgICAgICAgICAgICAgICAgICAgICAgICAgICAgICAgICAgICAgICAgICAgICAgIAogICAgICAgICAgICAgICAgICAgICAgICAgICAgICAgICAgICAgICAgICAgICAgICAgICAgICAgICAgICAgICAgICAgICAgICAgICAgICAgICAgICAgICAgICAgICAgICAgICAgCiAgICAgICAgICAgICAgICAgICAgICAgICAgICAgICAgICAgICAgICAgICAgICAgICAgICAgICAgICAgICAgICAgICAgICAgICAgICAgICAgICAgICAgICAgICAgICAgICAgICAKICAgICAgICAgICAgICAgICAgICAgICAgICAgIDw/eHBhY2tldCBlbmQ9J3cnPz7/2wBDAAcFBQYFBAcGBQYIBwcIChELCgkJChUPEAwRGBUaGRgVGBcbHichGx0lHRcYIi4iJSgpKywrGiAvMy8qMicqKyr/2wBDAQcICAoJChQLCxQqHBgcKioqKioqKioqKioqKioqKioqKioqKioqKioqKioqKioqKioqKioqKioqKioqKioqKir/wAARCAI3AOUDASIAAhEBAxEB/8QAHwAAAQUBAQEBAQEAAAAAAAAAAAECAwQFBgcICQoL/8QAtRAAAgEDAwIEAwUFBAQAAAF9AQIDAAQRBRIhMUEGE1FhByJxFDKBkaEII0KxwRVS0fAkM2JyggkKFhcYGRolJicoKSo0NTY3ODk6Q0RFRkdISUpTVFVWV1hZWmNkZWZnaGlqc3R1dnd4eXqDhIWGh4iJipKTlJWWl5iZmqKjpKWmp6ipqrKztLW2t7i5usLDxMXGx8jJytLT1NXW19jZ2uHi4+Tl5ufo6erx8vP09fb3+Pn6/8QAHwEAAwEBAQEBAQEBAQAAAAAAAAECAwQFBgcICQoL/8QAtREAAgECBAQDBAcFBAQAAQJ3AAECAxEEBSExBhJBUQdhcRMiMoEIFEKRobHBCSMzUvAVYnLRChYkNOEl8RcYGRomJygpKjU2Nzg5OkNERUZHSElKU1RVVldYWVpjZGVmZ2hpanN0dXZ3eHl6goOEhYaHiImKkpOUlZaXmJmaoqOkpaanqKmqsrO0tba3uLm6wsPExcbHyMnK0tPU1dbX2Nna4uPk5ebn6Onq8vP09fb3+Pn6/9oADAMBAAIRAxEAPwD6OX7z/X+gpXdY42eRgqKMszHAA9aRfvP9f6CsnxPcRW2kK923l2f2iIXUh+6kW4Fi3ovGCegBOeKAJLDxHpupXjWtrLN5oUuvm20kSyqMZaNnULIORypI5FJa+JdLvNRFlbzStI+fLc20ixS4BJCSldjnAJwrHpWfqms6fqug3VzprLd28aKpvrcB0EbsBJscdcJknbxWhpur6RrTxjSJIL+CBd6XNuVkhjP3QoccbsE8DoOuMjIBq0UUUANk/wBW30NOpsn+rb6GnUAFFcneXWnan4huNP1HWLmzvYJFW0s7W7eGRl2qfN2IcyDLEfMGQbeR1qrFe2+qamjW+r3Umtw3m17KG6cLbxB+RJCDtwUB+Z1ySflPIFAHbUVw9jqVpf3dvf22sXM+pxOWv7aO6cxWsYBLRyQg7EIGACwDk8561JM0Nlb6cNb1e6s01RWa4mlvXjG77ywIdwEZJc424YhMZNAHXm5iEnlhtzhwjKgLbSRkbsfd47nHb1qWuGtJZYLCRrG5uT5scssbSyMXYyOIbfcTycKvfnueanvZY/DUmpTtqV55Qt4Y5Jru+PlpKxI3lpMpEAACSABz0JoA7CSRIo2kldURRlmY4AHqTSCVTMYwG3BQ2dh24Oe/Qnjp1/OvOIUS+0G6ttYu5LayutTgt0eHXbmZTnDErO3lvhwdoUfLnGM5roUWW/vks47y7jt2uJD8k7bvJhURFdxOeXOSc575zzQB1NFcIt1ZW9vb6dq+s3lrYyLNNbl7+RZrkCQ7UWXd5jlVGcBiTuGcgVtC7uNM8Cx3U9xL5xjRpJ5juaIOwyx/3QxPp8vpQB0NFcTJfaLZWUd3ZeJLn+yr2cJc6hLqDywqNrNlJnJVNxAXKkAZ4wcVNYQtM0VhY6hqB0+a5aWGWS5keVoEjAbEjkuVMjDBJPHIOMUAdbJKsShmDEFgvyoWOScdB29+3U0+uOguJdO00fZ7m7lhtlu7tPOneZzGmVRSzEswJO4ZJ6e1Da1FqFmkeiar9sSKyWL7VBNvWSaVhGjbwcMRhj1OKAOxpskiRIXldUUdWY4Fcdeumg3d6zateQ2TGCK6uru7Z1gJ3FnBclYsqFHGFBYHFMvrDRbnT9OtI9X1CSwvtQTy5H1Wcbiqs2El3hmDFRgbiM/d6UAdmsitK8YDbkAJJQgc+h6H8OlPri7rU7QvHDrmry6fYXrzNG/2toDLtYIkayAhgSBuwpDEn65ktoJLu2W2v77UY7O1tZJpP9JkimaN3PlB3BDghEPOQ3qetAHYUVR0SOaLQbFLqSSSYQJvaVtzE47nufer1ACJ95/r/QUUJ95/r/QUUAIv3n+v9BTqZuVXfJA57n2FL5if3l/OgB1FN8xP7y/nR5if3l/OgB1FN8xP7y/nR5if3l/OgAk/1bfQ06mO6mNsMOh70vmJ/eX86AHUU3zE/vL+dHmJ/eX86AHUU3zE/vL+dHmJ/eX86AHUU3zE/vL+dHmJ/eX86AHUU3zE/vL+dHmJ/eX86AM7UNE/tG6Dyajex27Jsms43Xypx/tZUsPfay575rTAAAAGAOgpvmJ/eX86PMT+8v50AOopvmJ/eX86PMT+8v50AVbXTxb31zdvcTXEs+APN24iQZIRQoHGSeuT6k8VcpvmJ/eX86PMT+8v50AOopvmJ/eX86PMT+8v50AOopvmJ/eX86PMT+8v50AOopvmJ/eX86PMT+8v50AKn3n+v9BRSRkEsQcjP9BRQBWn/wBc3+e1R1JP/rm/z2qhqV21lYtJEoeZmWOJW6F2IUZ9snJ9s0AW6Kwni1TSFuL+51d7+3WB3kglhjQI4GV8vaoOOowxY9OajsoNV0zUrJLzWbjU1u9wliuYYV8ohN2UMaLxkYw27qOfUA6GiiigAooooAKKgvLyOxtjNKGbkKqIMs7HgKB6ms9ddmayeVtC1RLlX2CzKxeY/Gchg/l4x3Lj068UAa9FZA8RRPBatDY3kktyrsIFVA0YRgrbiWCjBPrg44zxUK+I2nvbeKCwuYoJmLLdTqvlyxKpLMuG3D+H7wGc5GaAN2isCXxPHaWpkWx1K9CRJcTMkcYMUb5POWUHaB90ZbGODVu81wWd7FCdPvZYXkWN7pEQRxMxAUHcwY8kcqrAd8UAalFZ9pfF1v7m5kC20MzKhIwFVAAxz/vBqz28TObja2nXlrEsUk5eeNcyxqAAUAY4JZgMOAfagDoccZz+FJWLL4gS0mWD7HfXUSOsEl6iR7BKSFCn5gSckZKrtBzkjFR3Wu3EOo2sNhYXl8l1dtC7KYQsCoMMw3OpIz/vd/YEA3qKKKACiiigAooooAKKKKACiiigC1bf6s/Wii2/1Z+tFAEM/wDrm/z2rO1Wwk1CzVLa4+zXEUiywylN6qynuuRkHkEZHXqK0Z/9c3+e1R0AYVzo2rXWlzRy6vAb6QxkSfZG+zqEYNgQ+Znnv8+fftVyw065in+16rdpeXmzyw0UPlRxr1O1CzEZwMksegrRooAKKKKACiiigDP1ewub6CE2F1Ha3VvL5sUksJlTOCuGQMpIwx6MPrWZqvhi41lbZdSu7K9iUMJ4LzTxLExPdEL4UjsW38V0dFAGNZeHIbKwFmkuIksFskEaBNgAOWAHAzkcdsCoo9Bv5bdk1HU4pn+yvaxmC18pUViMtgu2WwAOuPQDpW9RQBmPo4a3uovOwLmZHbCdEXaNnX+6uM+54rKXwZHJ4gj1S+exuZYLkzwTNYD7SoOfkMxYnAJGNoXgYwa6iigDNbR93h2TTPPIaSNlacL/ABMSS2Pqc4qsmiXk7+bquoRXEzCIN5Nt5SYR95AUuxG44zknpW3RQByOlx311qq2we4FhbXT3DJcae0DIxLEIZGOJfmbIKDGF5J77Fro81rd2MqXSMlvFKkqtCcys5DFgd3ynI9D1/GtaigAooooAKKKKACiiigAooooAKKKKALVt/qz9aKLb/Vn60UAI8PmSMd2OcdPam/ZT/f/APHamX7z/X+gptxcR2ttLcXDbIokLu2M4AGSaAI/sp/v/wDjtH2U/wB//wAdqhYeKNM1JZvs/wBsR4YzI0NxYTwSso7rHIgZx2+UHniotN8X6Xq199ks4tUEuSrGfR7uFFIGcM7xBVOCOpHUUAan2U/3/wDx2j7Kf7//AI7ViigCs1uVUnf0GelL9lP9/wD8dqaT/Vt9DTqAK/2U/wB//wAdo+yn+/8A+O1YzjrTY5EmiWSJ1eNwGVlOQwPcGgCH7Kf7/wD47R9lP9//AMdqZZEd3VXVmQ4YA8qcZ59OKdQBX+yn+/8A+O0fZT/f/wDHasUySRYgpYMdzBRtQtyfp0Hv0oAi+yn+/wD+O0fZT/f/APHasUUAV/sp/v8A/jtH2U/3/wDx2rFFAFf7Kf7/AP47R9lP9/8A8dqxRQBX+yn+/wD+O0fZT/f/APHasUUAV/sp/v8A/jtH2U/3/wDx2rFFAFf7Kf7/AP47R9lP9/8A8dqxRQBX+yn+/wD+O0fZT/f/APHasUUAMhXYrLnOD/SinJ95/r/QUUAIv3n+v9BWL4u1Kx07RV/tS9t7K2uLiOGSa5lWNApbLAsxAGVBH41tL95/r/QU6gDFs7qHWNZTUbNhJZWsDxpcr9yZnKk7D/EoCjkcZPsan0AF9JW5b71273Bz6OxK/ku0fhWnRQAUUUUANk/1bfQ06myf6tvoadQBxWvXtte6hqFnNqtxbahAyRWVnb3LRt84UCVkU/vFLPjLAqNvY5qkbrUb3xd/Z1rPYwmxnVYYF1qaKaOFcAs1osW1wwBwXYjBGCDXoVFAHml1eRabYzXemX8ITU9RnW8l1DXp4I49jFViEuJPKc8cKFOBgEYArb0y2upbe1tNUvJ44rW3kuZhb6hNIdrP+7UzMEkcBVbkgE989+wooA5G302a5udKebUdSS4uopZrhVvHC+URnYFztXBdQGA3ADg1FBdT2WlxpbXNzLHClzPEZp3ldgXMcKs7Es2d2Rkk8D0rs6KAOH1UXfh1buaw1G4mmjs4luJdQvn8kMzhRIch1iwquSVTHIJBxTND+33dnHH9tVbfULpGiksdYmvxsQF5GWaRFIDYVcLlRk4xnFd3RQBFbQJa20cERkZI1CqZZGkYj3ZiST7kk1LRRQAUUUUAFFFFABRRRQAUUUUAFFFFACJ95/r/AEFFCfef6/0FFADdyq75IHPc+wpfMT+8v51Wn/1zf57VHQBd8xP7y/nR5if3l/OqVFAF3zE/vL+dHmJ/eX86pUUAXHdTG2GHQ96XzE/vL+dUqKALvmJ/eX86PMT+8v51SooAu+Yn95fzo8xP7y/nVKigC75if3l/OjzE/vL+dUqKALvmJ/eX86PMT+8v51SooAu+Yn95fzo8xP7y/nVKigC75if3l/OjzE/vL+dUqKALvmJ/eX86PMT+8v51SooAu+Yn95fzo8xP7y/nVKigC75if3l/OjzE/vL+dUqKALvmJ/eX86PMT+8v51SooAuxkEsQcjP9BRTLb/Vn60UAQz/65v8APao6kn/1zf57VHQAUUUUAFFFFABRRRQBl6jr0enysos7q6SLBuJYFUrbg85bcwJ45wu44wcc1L/bFv8Ab3sgkhuEcKYwBkqQD5nX7gzjJ7jHXFY9z4IsLvxO+q3dnpF0rushNzpaS3CsoAG2YnheOm0kdiKvNoUpnnuVvmFzc27wzSeXwc/cIGflCc4H+0cnPNADD4iWKGJrax1HUvMQTuIUj3QRuTtJBZcjg4C7m46GiLxDKdU1KG4026htbMpHHcHy28+RhnaoVy2cMuMqO+aJ9AuZtQhZru2+wwbTFGbP9/FtxwkwbhTjkbSeSM1BqXhZ9U028tLuaxuUlvPtUKXdh50Y4+7KhfEgHYjbjC9xkgFlPEiGH97pt/Ddef5AtGWNpC20sDlXK4IHXdx3xzUB8T3Eractpol8zXVw8M6OYQ1sEyGLfvcHnHKlhj3wDPo/hm00cWwtILK2WFXLRWNmtvG0jY+cKp4wARzk89afDo1xb3VrLFeJiGOZZA0BJdpGDbgd3y8joc5HHHWgBk+u/ZrVrm3sdQ1FWdzshSMeWinaTlmUY4JAyWOenarVteteaqVhY/ZktkkIK4yzkkfkF6f7VYOo+BI9TCQXktlc2iQLGi3dgJpImAxvjZmwmep+UnPfpXSWlkLSW5k3bjPIH+7jaAoUL+Q/WgC1RRRQBzQ8T3rPcj+x7mIJfLa2+/y3NwB98qEkP91vvbQOM98XI/ESy2AmXTL77WXeMWGI/OLL97nf5eOnO/HIGcnFPsNHmtpIWurtJxBLPIgSEpkyNkE/MckAsM8Zz0FZur+CoNVjtPPXTbtoXkZxqWmrdRtvbcxVSw2t2ByeOoNAGgniOGX7OIbK7d5ULyJtQfZwH2tvJYAYOehOdpxmpbLW1vdQ+zfYruBXjMkE8yqEnUYyVAYsMbhwwXrxmo4fDtrBZXVpAI4Lea2W1SOCJUWJACMBRx1Zj0Aqt4Z8JWfh0yyx2WjxXMg2ebpulpaZTPAbDMSfxx7CgDoKKKM0AY2p6hcBbtrOQILYCIfKD5k74CjnsNyn3J9jmOfWVhu4ALmQRtPIsgdFO4RjaQgAycuV9TnOKmg095Q8cu6MRX7XDZXIlGSy4Ptlf++cVA3heN0jZ51NzBFi3n8obopd5dpBz/EcZHoMZ5oAnu/EKWgBOnXsoQA3JjVCLUEZy+XGeOcJuIGDitRHZ2cNGyBWwCxHzjHUYJ47c4PFc1ceCLG78TNqt5aaPdB2WQm50pJLhXUADbMTwvHTaSOxFdLEJBEonZXkx8zIu0E+wJOPzoAu23+rP1ootv8AVn60UAQz/wCub/Paq9xPHa20k87bIokLu2M4AGSasT/65v8APaud8ZXtpaeHmjv9Sj0yG6lSBruSREEQJyTl8rnAOMgjPY0ASWvivTLtJnVNSgjhjMkkl1pVzbqF9d0kag/QVqm5iF2LbfmUpv2gE4XOMkjge2euDjpXO6dfWs2iuljr7eK/tjtFE7SW7L0wwLQIqhRnJJBPOO4FW/CkBtdLkt7iQzXsEzQ3MrdZCv3T7AoVIHbNAG5RRRQAUUUUAQS31vDdR20km2WQZVcHkYJ69B0P5U9J4ZGVY5UYsm9QrA5X1+nvWP4tjtB4cvZLtxbh4xEblZTC0YZtufMUgqBuyeRxmsi50iE2l41peX8SWohsrIx30u7cMYYvu3P80mCGJBxyKAOzorgp7/U9R8YPaR3NlG9rcDZGNZlimSJSNzNarFtcMAeWYjkYINSateXVholvqQvFQ6jKTJJf6nJaQxQsWZUDhXEZI2jdtz1AYcUAdzTVkDyOgDZQgHKEA8Z4J4P4VkeForuHQk+3MpLOzRhbyS6CxnoPNkVWf1yR36nrWFqWp28tnBHfaoYmu2knjtPt0lpJOpb92IpE+ZiFX7i9Swz7gHXy3sEFzFbyyYlmz5a7Sc4qeqtpaxpbWxkDyyxxgCW4AMvTuR35OfxqR7u2ikMclxEjrtyrOARuOF49zwPWgCamPNFGxV5EUhS5BYD5R1P096Ipo5lLQyLIoYqSjAgEHBH1BGK5DU7e0u/EGrtFdzi+McNgIVvJMIsvV/KLbOh4O3qh96AOvaZFgMwJdAu7KAtkYzwByfwp4OQDXKrAbHULq2s7y8Mc1zBEfOuXk2MAZJCu4naCmBhcD2FNiRvO03VJr698yaSW4ZDcuIlt9rNtMedpxlOSCR60AdRDcRXG/wAlt3luUbjow6ipK5vwwbpnZNTJhnVftEcEbnYyyEsWPTc24sCDwMDHqU8QX+njVU0/WtTk0+3eHfEkVy9u91ISflRkIclQB8qnJ3dDQBuX+oW+m24mujJtZtqrFE0jsfQIoLE8E8DoDUzyrGqswchiANqEnn2A4+vauYs9LN/q2lSahNfGfTrTzcG7lTLO2E8xVYKzBVYHcD1rT1i5KXMaF5Fiht5rmYRuVLKq7QMjnq2fqtAGqkiSLujdXGSMqc8g4I/OovtsHmugZmaNwjgIxCkru5IHAx36c1m+E7K1sfC9ktjcyXUUkYl897t7jeWGSQ7sxwTk8HFY01zcSWkzWrkSXUckoG4qGaZxFDn22j9KAOugnjubeOeBt0cih0bGMg8g1JXC6pql3p+hxs1xbW8xuPst39qv2tILdVBwiyBG2bvlIYjJB6g4x0XhaK7h0JBfMrFnZowt5JdBUP3R5siqz+uSO/U9aAOitv8AVn60UW3+rP1ooAhn/wBc3+e1R1JP/rm/z2qOgAooooAKKKKACiiigAorI1y7vtNhl1CBGntraIu9tFs8yU4PALkAfwn7w6GqL+Kbu2Xfd6NeHybWOa6jiWMtAzZ3ZPmbSAFzhSzcjGaAOlorKu9ejtbpYls7u4iEixzXMSr5cBbGN2WDHqPuhsZ5xTf+EhiJl2WN46LI0UbqqYnkViCiDdk9CckBcA5IwaANeiqNlqsd3p8l1PDNY+SWE0Vzt3REcnJUsvTnIJFVY/EKt9q87Tb63EERnTzUTM8Y6soDEj6NtPtQBsUVmnV7e4WMW8kvlyzCOOeMKVcgFmwTnK4UgnH056U5PFBWzurqPRtReGG3NxDLiILcqMfdPmfKec4faT2zQBvUVgr4juI7O2M+iahJeGJJLq3gETNbA55I8z5uVPCFm9qn1STULWG8vUuVS3hhLxxhQSSMHnI74YfjQBr0UDkUUAFFFFABRRRQAUUUUAFFFFAFq2/1Z+tFFt/qz9aKAIZ/9c3+e1R1JP8A65v89qjoAKKKKACiiigAooooAp6tZS6hpkltbzrBIxUq7xmRRhgcFQRkHGDyOtQvpJlgu0kny13OskjBP4RtGzGe4XH4mtKigDl08EWI8TS6tNaaROzymdJZNLQ3Syevnk8gdvlBGBzUur+EotU0OysZPsNw1o27/iY2IuoZGwQS0ZYc8kghuD610dFAGOvhuxi8LyaJa29ra28kbKyW9qkcWW5J8sfLgnt371S0fwdbaTZyR28GlWUtwQtzJpWmLaebGM/LwzEdeuT3xg810tFAGPDoclvb28MF6YxaxypbkRA+Xu+4eSQdq/L71VTw5ef2depJfWaXl0FBkt7ExQ8NnLR+YSxPQneMjpiuiooAxLrRLy91WOe4vbZrWNldV+xYnjYYyEl3/KpxyNpPJGauahFJeyR2aowhLK88hGBtByFHqSRz6DPqKv0UAFFFFABRRRQAUUUUAFFFFABRRRQBatv9WfrRRbf6s/WigAaFZJGJJHOOPpSfZk/vN+lSL95/r/QU24uI7W2luLhtkUSF3bGcADJNADfsyf3m/Sj7Mn95v0rKs/FumXrERx6lCAVG670m6t1JZgoAaSNQSSRwDWkNQtWuri2E6+dbIsky/wBxWzgk/wDATQA/7Mn95v0o+zJ/eb9KfDMlxBHNESUkUMpIIyDyODyKfQBA1uqoSGbgUv2ZP7zfpUkn+rb6GnUAQ/Zk/vN+lH2ZP7zfpUd5qVtYPAlwZC877I0iheVj74UEhRkZY8DPJFWqAIfsyf3m/Sj7Mn95v0qamCRTMYsNuVQxOw7cHPfoTx06/nQAz7Mn95v0o+zJ/eb9KmooAh+zJ/eb9KPsyf3m/SpqKAIfsyf3m/Sj7Mn95v0qampLHIzqjqzRttcA52nAOD6HBB/GgCP7Mn95v0o+zJ/eb9KmooAh+zJ/eb9KPsyf3m/SpqKAIfsyf3m/Sj7Mn95v0qaigCH7Mn95v0o+zJ/eb9KmooAh+zJ/eb9KPsyf3m/SpqKAGRKEDKOgPf6UU5PvP9f6CigBF+8/1/oKyfE6zz6QLGzkjiuL2VYY3ljMijncxKhlJG1W4yPqK1l+8/1/oKdQBzOrf2pZeGHl1u5tr+aO6gcGxs3gG0SpxtaSQk++fwqvFYSDWHsZuZ9SgSe+YdNodty59OVQe30rrqKADp0ooooAbJ/q2+hp1Nk/1bfQ06gDkdYgjj1vUtdSa6SXT7aO3RluZfKiLHLuYg2w4Vkblf4faq0UkEiXL+G9ZvL21vESA3X217hDM7gbomYkAqu4kJhRxxXb0UAedazLfjxC+h2F3AjLhrVbrxBcW9yzn5mkEaxuZkBbG0tsGCNorTvdShkv/s+s6rJY2N5NKiOty0BlaMKgjR1IKktvbCkMcfWuyrN1LR21GZG/tK+tY9uyWG3dQky+hypK9eqFT70AYFhE2o2lvFc6jqAs1tpLuVhdPHI0cjHylLghhhFPIIOR161fZ57L4febNPcmWKzEhkLs0o4z16kgcZ6mugjjSKNY4lCogCqoHAA6CnUActDcahPrFzbSPOpnjiuzGGI8iIFhsGOjNtUH6t6Cs6w1SzuZbfVbLWbm8vYkeXUokunaGBAjExvFnZGwYqAMBzjknmu6ooA4y5WDT10+z13WLu1W/hLXEr30kRllGMRRsGGw/MThMMdo681t+F4fL0GKXfLJ9pZpw8xJcqx+TcTySE2jnnjmtiigAooooAKKKKACiiigAooooAKKKKAET7z/AF/oKKE+8/1/oKKAGGRUdgxwc+nsKPPj/vfpUE/+ub/Pao6ALfnx/wB79KPPj/vfpVSigC358f8Ae/Sjz4/736VUooAtPMhRgG5I9KXz4/736VUooAt+fH/e/Sjz4/736VUooAt+fH/e/Sjz4/736VUooAt+fH/e/Sjz4/736VUooAt+fH/e/Sjz4/736VUooAt+fH/e/Sjz4/736VUooAt+fH/e/Sjz4/736VUooAt+fH/e/Sjz4/736VUooAt+fH/e/Sjz4/736VUooAt+fH/e/Sjz4/736VUooAt+fH/e/Sjz4/736VUooAuxsG3FeRn+goplt/qz9aKAIZ/9c3+e1R1JP/rm/wA9qqX10tjp89067hDGz7QfvYGcUAT0Vl22tCfXptLktzG0cKyCTdlWbgug91DIffd7Vb0+7+32KXITYsmSgznK5OD+IwfxoAs0UUUAFFFFAGRqfiFNNlmQafe3Yt0WSd7dUKxIc8ncwzgDJC5OCODT5dfgiupovs1y8cGBLOigorMAVXruYnIGFBOSKqR6Xe3zXLS3PkWt3cyG4geDLvGu1EVWyNoIQk5BJDcFccv1Pw1HqWi3NjM1vKZ7gzn7TbCaJjuyqvGT8ygADGR07UAPTxGnkyG402+t50mSIWrqjSPu+6w2uVwcE9eMHOMUkfiVZLViNMvxerI0X9n7Y/O3ABjyH8vGGB3F8cgZzxWZb+GJNL+yWuhRaZpssZe5lmtdLEdu8uAgBiVwT8rN/Hngc9qvvoV/DNDdafqcUd584uZLi08xZQxUnCh12kbQBycAcg0ASnxIrWMUttpt9cXUhcfYUEazKUO18lnCcEj+LnPGah1TxBJa6fJd2Vje3FxHbJILMLGhLSNtQNvZcEEHjI79eKS78OXM0MNtDfW7WvJnW7shM7OSSZEYMoRyT1IYDAwBVi50SaSOX7PeKkrzwyK80RkAWPbhSNwJyQTnI5PfuAB1sR7me3vDcAJH9iVYyxkK7yoIOMgHklto4570ieJI3tY2/s6+F08rQmy2IZUdV3EEhtmMY+bdt5HNNuNEvRKtzpuoRQXYmkkZ57YyoyvgbSodTkBVAO7t07VZs9H+y3Udw9w00io+5mUAu7kEtxx0UADsKAGRaz9s0mK4t7aWG4ndoUt7gDckgJDbtpIwu0kkEjA4NJb60WvUtBZX08ILRtqOyPyi653AgNuHIPOzbnjNTadpX2EIZJjM6R+WrbcYzyxxk8s3J+gHbmjB4fuzcXE1/fwSSyRNEk1tZ+RIQRjMjbiHI7YCj2oAvDWbc21rOVkVLmJpVyB8qBdxJ56Yx+YqhYeJ98C/2rYXVk5txOrvGNsw4BCKrM2QWUYYAkngGmr4dv5rOSPUdVikka1NrG1vaeUsakjcQpduSAB1xx07U+TQdQuoGkvNTha/Ur9nmitNkUQVwwHllyTkgbvmGcDG2gCRPEqCO5N5pt/ZyW+wiGZUZpVdtqldjsDk8YJB9RUd54nNrBI/9k37tCha4CiMi24JG/D854OE3EAjIFTQ6LcPJHcajercXPmo8rRweWhCA7VVdxKjcd3JY579MMl0O8kvLkDUo1sLidJ3g+zZk3AruXzN2NpC4xtyM9e1ADm1r7MwE0dxPcbktzBBGu0y+XvO3Jz0PJJwOPc0J4haXTVuYNH1GWcu6NZKsQkRlOGBYuI//H+e2ant9I8m+W5efzCrzSEbMZZyMHr/AAqNtY2p+Cv7URIbqeyurby2EkV7p4uAJGZm8xAzbVbLdw3AHSgC63iSR7/S47TTLqW1vIGuJbgmMLAgA+8C4bOSOgb/AASXxPHaWpkWx1K9CRJcTMkcYMUb5POWUHaB90ZbGODUsmgScxW92kVqbAWXl+Tllx/ErbgBwcEYPQc8czvo4a3uovOwLmZHbCdEXaNnX+6uM+54oAivfEUVpcMiWN5cxRsEluIVQpG5xtU5YMSdw+6CBnkitiuRtI7271p7ONrgWEd6bmVJ9PeIocltvnMdsoL4I2DgDk9q66gC1bf6s/Wii2/1Z+tFAEM/+ub/AD2rN1W3lu7eGCJco08ZlOQMIrbj+e0D8a0p/wDXN/ntUdAHN32l6idIe5sowNUF1JMilwAQxKYJ6cIQfqorftoFtbSK3j4SJAi/QDFS0UAFFFFABRRRQAUVyt5c6fqXiC4sNQ1a5tLyGRVtLS1u3ikI2qfN2KcyDLEfMGQbeR1qtHe2+paijwatctrEN3tks4rlgtvEH+YSQg7cFAfmcZJPB5FAHZ01JFkZwoYbG2nchGTjPGeo56jiuWhjYz6Zqkt9e+bPJLcMhuXES2+1m2mPO04ynJBI7GmJ4ih0yUDVb7Zc/wBn/aI7WSQ75mdmZgq9W24A4HAPagDrqK465s7i5026afUb9ZbfybWDybp4wZ8DLnaRu+eTBByDt5FTw3On6rrskNzrFzFqltcFY7K3u3Ro0U4DPCpwysBnc6kfNwRQB0z3EaB/m3FCFZUBZlJxjIGT3B+nNSVxOnNBALi70m4ubma5vLmeeP7bLNxDuAj2sx28+WCox2HYCi21C1b/AImej6xcanKlu5vWW6aSHdtwqbM7I33kfKoBwDmgDtqKwdM0qaw1qNjeX9wBZhbh7i4d45JMjBCk7VYANnaB94ZzW9QAUUUUAFFFFABRRRQAUUUUAFFFFAFq2/1Z+tFFt/qz9aKAIZ/9c3+e1R1LMrGZsKT9B7UzY/8Acb8jQA2inbH/ALjfkaNj/wBxvyNADaKdsf8AuN+Ro2P/AHG/I0ANopdrDqrflS7H/uN+RoAbRTtj/wBxvyNGx/7jfkaAKeo2H9o2v2d7iaGNj+8EW394vdCSDgH2wferQGBgcCnbH/uN+Ro2P/cb8jQA2inbH/uN+Ro2P/cb8jQA2inbH/uN+Ro2P/cb8jQA2inbH/uN+Ro2P/cb8jQA2inbH/uN+Ro2P/cb8jQA2inbH/uN+RoIc4yrcDH3aAG0U7Y/9xvyNGx/7jfkaAG0U7Y/9xvyNGx/7jfkaAG0U7Y/9xvyNGx/7jfkaALFt/qz9aKW2BEZyMHPeigBy/ef6/0FOpq/ef6/0FOoAKKo29zLPrV5GH/0e3SNAuB/rDlm5/3SlFlcy3Oo3+W/cQyLDGuB94KGY5/4EB/wGgC9RRRQA2T/AFbfQ06myf6tvoadQAUVlarrn9lyDOnX11EuDNNAqbIFP8R3Mpb6IGPtVfVvEhsfPSz0+6ujF+7a4RV8mKU42K2WDHJZfuggZ5IoA3aKxpNcEKyNb215qM5dkW1t1jBOw7XZSzKAuf7zdelJL4lQ28Mlhpt/qLSRrK8VsqBoUPdt7qM8H5QSeDgGgDaornj4jnfVL+2fTL23tLeKJUvMRfPLJjCqpcsD8y8Mg5zntnQGtWywIz+YMyyRHeACPLJDuecBRtzn3Hc4oA0aKzNP1sX189s1heWh8vzYZLhVCzpkAsoDEjGRwwU89K06ACisrXL260+OK4tvnUsIvJCbmkdnUDj0A3HqPyqOHXUvLfbLb3unXH2kW7QyiMyI23fnIZkKlecgnj0NAGzRWNa+I0u7+K3TT71I7gE21zIqCOZQMlhhiwHT7yjORjIrTtEnSziW7kEk4QeY6jALd8e1AE1FFFABRRRQAUUUUAFFFFACJ95/r/QUUJ95/r/QUUAIv3n+v9BVPVLfUp4Y/wCyL+GzmV8k3Ft58bjHQqGU++Qw/HpVxfvP9f6CnUAYjaRqtvbp/ZerQxXLytJcyXVn5qTE46KroVwAAPmOB1Dda0dOshp9mIRI0zlmeSV8Zd2OSeOByenarVFABRRRQA2T/Vt9DTqbJ/q2+hp1AHK3/gmPVNeN/qLWF0iXEc8Bm08PcQlWB2rKzHavHRVUjJ5NSXmnXWnCWaa9efTxdi5S0t7B5Jmctu2llY5XeQc7RgDk4rpqKAOOvfAkGrx6dLqFvpNzLDDsnTUtMW7wWJZjGSw2MWY8/MDxxxWrHod3ZagTpN9b2enyKgkthZgsu1Qo8tgwVBgDgo3tityigDIXRZzeTyT3cbwSXqXSxiEhhtQAKW3EHlVIOB0xz1pknhuGaDVI5pi/28Oq5QEQq/JXB4OWyTnrwO1bVFAGB4Y8J2XhxJXhsdHgupgFeTS9LWzVlHQEBmJ/FsegFb9FFAGbrGn3l8tu+n3sdpPbSGVDNAZkZtpUblDKSPmPQjnHNUrjRDHZPLdTzXUmyZ5vIiAeWR0C5QZ4wuQBz25J679FAHMeGFv7y5W8v5Xlht7fyLdn097ItkgsfKkJcHCqMnAPOABXT0UUAFFFFABRRRQAUUUUAFFFFACJ95/r/QUUJ95/r/QUUAV5ZGSZgpwPp7U3z5P736UT/wCub/Pao6AJPPk/vfpR58n979KjooAk8+T+9+lHnyf3v0qOigB5mcggtwfal8+T+9+lR0UASefJ/e/Sjz5P736VHSO6xxs8jBEUEszHAA9SaAJfPk/vfpR58n979KgSVZGZU3HbjnaQDkZ4PQ/hT6AJPPk/vfpR58n979KrvPHHvBbLIm9kUbmx67Ryehp4O5QRnBGeRigCXz5P736UefJ/e/So6KAJPPk/vfpR58n979KjooAk8+T+9+lHnyf3v0qOigCTz5P736UefJ/e/So6KAJPPk/vfpR58n979KjqN7iNA/zbihCsqAsyk4xkDJ7g/TmgCx58n979KPPk/vfpUdFAEnnyf3v0o8+T+9+lR0UAW7diyEtyc0Ult/qz9aKAIZ/9c3+e1R1JP/rm/wA9qjoAKKy/D3/ILf8A6+rj/wBHPXG3NtYznSX1HwofEaRWEjKoht5DB+8GWxM69f8AZyeKAPRqKzfD0bR6DahnDBlLph94VGJKru74UgZ9q0qACiiigDhPEWqyXuv/AGPTpwJ7eeKIxjVpLeWIswHmeRGh8xfm/wCWhCnHHqZr+4tNXvp7aTU511EXYtlsYrllEURbBLxA4IZAzbmB6/KRXa1XvrVr2zeBLqa134zJBt3YzyPmBHPTpn0IPNAHD61q16fsluZ7VLe+8yZBdaxLp7S5ciNI3jjZiQoB2qQeR1q950EtxFpPiPWJ7a9hhiEMFteyRSXDbctIu3a8oB4xjHByOa6+GJIIEhiXbHGoVVHYAYAp9AHGxw2x17UpbS+uXv5LqCxdTeyNsQKrsfL3bUJG8ghR3x1NWpL6/Wz1E25kc6bJPIS7N+8fJaNCRk7QCCQM/wAI9RXUUUAcb4Oubq6vJb2e+spraZRGXtdakvklmz2DRosZAByqevIGK7Ko3gjlljkkXc0RJQk/dJGM49cZH4mpKAMLxJqNpaSWltquof2bY3G8SXBn8jcwwFjEmQVLZJ4IJ28VkXNxpUMyaZqGtahBa+QJbONr2WO4uSWY4VwRLIVAAC5JOec8V2lFAHHTQXV1pN01/e3yyWVpFEFhuWhZrjbuyShGT8yDHQ85Bp1+r6PLeyLqV4XNkiTSS3DOolkfYjqhO1CMMflArr6huLVLloTIWxDIJAAeCQCBn25z9QKAOOOqWOn2t9qOnaxNcadMkcf2ybUC8AmJOWWV9youMZKjaCRgZ4puhfbLqE2jXE0CT33HkapNd4jRA7FZpVVtrEqMAYGeK7migDgLa/a+8VWUWmXLSRQ3JgfdrUrywqiklZLcKVOQp5kcvzn2q/ocVs14ZNNvLiR73UJ5LnN9JLsWIlduGYhOSmQMenQCuwooA4q61XUovCy30Myx/ZUW2Mt1O0SF9wWSR32tgDBAYqQDknpmtLwYLtrCe4nlhkt5pA1v5GqS6gpGOWEsiKcE9hkDHB7Do6KACiiigC1bf6s/Wii2/wBWfrRQBDP/AK5v89qztS0i01aNFvBMDGcpJb3EkDr6gPGytg9xnBrRn/1zf57VHQBl3PhvTLm1t7dopoUtxtjNtcywMB1ILIwJBI5BJB71cg0+1tnia3hWMxReTGF4CpxwB07CrFFAEVtbRWkPlW6bI9xYLkkDJycZ6DJ6VLRRQAUUUUAQ3azPayLayLHKRhXb+H3rI0zxI11JGt3Y3MEc6vJBdMqiKRQSQB8xYHaAclQD2rYuonuLOaGOTynkjZVkxnaSMZxWNH4fu3tHhv8AUY5tsDW9sYbbyxEhABJG47nwMZGB6AUAEniWK0tVlFpqF7GsQnuJESP/AEZGG4bxuXJx2UM2MZ65Mt34kjtZSF0+9niQqk08SoUidsYQ5YEk7gPlBAzyRWTLDeT65dadZtcJaTTpJcRy6eyhVXaCVuCdjKyoBtALAnkgdFtI7271p7ONrgWEd6bmVJ9PeIocltvnMdsoL4I2DgDk9qANl9ejTUUt1s7p4Gk8k3qqnkpJ02nLbjzxkKRngkU601GbV4ElsoJ7WHejCadVHmp1O0Ak84xkgcHIrFtfAVnbaldXgt9I89zI1vdppSLdRu+cs027LkZ7BT6k11UEK29vHDGMJGgRR6ADFAD6KKKACiiigAooooAKKKKACiiigAooooAKKKKALVt/qz9aKLb/AFZ+tFAEM/8Arm/z2qOrTQrJIxJI5xx9KT7Mn95v0oArUVZ+zJ/eb9KPsyf3m/SgCtRVn7Mn95v0o+zJ/eb9KAK1FWGt1VCQzcCl+zJ/eb9KAK1FWfsyf3m/Sj7Mn95v0oArUVZ+zJ/eb9KPsyf3m/SgCtRVn7Mn95v0o+zJ/eb9KAK1FWfsyf3m/Sj7Mn95v0oArUVZ+zJ/eb9KPsyf3m/SgCtRVn7Mn95v0o+zJ/eb9KAK1FWfsyf3m/Sj7Mn95v0oArUVZ+zJ/eb9KPsyf3m/SgCtRVn7Mn95v0o+zJ/eb9KAK1FWfsyf3m/Sj7Mn95v0oAW2/wBWfrRTolCBlHQHv9KKAFX7z/X+gp1NX7z/AF/oKdQAUUUUAFFFFADZP9W30NOpsn+rb6GnUAFNd0ijaSRlRFBZmY4AA7k1wXiTVpL7xD9i024Antp4oTGNXkt5YizAeZ9njQ+avzf8tCFOOPUz6hcWmsX9xbS6pcLqIvBarYw3LKIoS2CXiBwQyBmDOD1+UigDtUmSR2VNx2452kA5GeD0P4U+vO9b1i+P2S3M9olvf+ZMgutZl05pSXIjSJ443YkKAdqlT8w61f8APt5riLR/Eusz217DDEIYLW9kiluH25aRdm15QDxjGODleaAOxeeOPeC2WRN7Io3Nt9do5PQ09TuUEZwRnkYri44LY+INTltL+6fUJLuCxdTfSNsQKrsfL3bUJG8ghR3x1NWpL7UFs9SNu0jnTJLiQl2b94+S0aEjJ2hWBIGeNo9RQB1dFcV4Lurq6vJr6e+sZraZRGXtdclv0mmz/CGiRIyAGyqevIGK7WgAoori4dRtL7xLJc22qTXstsXZorO/kHkKAT5c1r90dMbiN5JGMdgDtKK4qPxNBPo9vLp2prfG1spLi4lglMitLgIqEg8ncx+XqNo46VXN8LOyvNR8M6xJqiR2gjnubi/eW387cqht2HVCo3ltq4HBINAHe1GLiI3TW4bMqoHZcdFJIB/Q/lXCaE1/fxrtv4/suoXEeyWw1qW/BCBnkZZXjTaGwq7UyvPGKk1O+h0+Ka3juPLa7nNtbvd6m9sJVhULsNxh5NxdmxtyxweetAHcvIkYBkdUBYKCxxkngD60iSLIzhQw2NtO5CMnGeM9Rz1HFcHawwX2n+GodbvLmBmlmuokGqz5YJkqnmEo0uAQfnGcKcjrWrDd36NYKkkrXGpWsjoHYssTFw2SP9lXP5AUAdVRXnsN3qd/4vFjDd2gksbkKsZ1yZbhIVOC0lqItr7wD8zsR8wII6V6FQAUUUUAIn3n+v8AQUUJ95/r/QUUAIv3n+v9BTqav3n+v9BVPU9Hs9XjRLwTgxnKSW9zJBIueoDxsrYPcZwaAIPDn/IKf/r7uf8A0c9YVvoceqaPps17plrrFpHCR9jugCEbcTvRWBUt25xjseudy58M6XdWtvbtDNDHbDbH9lupYGC5yVLRsCwJGSCSD3ou/DOl3ccKGKe3ECLGhsruW2OxeikxMpKj0ORQBa0l7d9KhNkkkcIBVY5CSyEEgqck9CCOuOOOKuVFbW0Nlax29rGsUMa7URegFS0ANk/1bfQ06myf6tvoadQAVWv7Rr6ze3S6ntN+Mywbd2M8j5lIGRxnGfQg80+7Wd7SRbSRYpSMK7D7vv8AlWNpfiZruSJLywubeOdXkgumVRFKoJIA+cuDtAOSoB5xQBuQwpbwRwwrtjjUIqjsAMAU+ufl8TxWlqsq2eo3saxCe4kSOP8A0ZGBYbxuXJx/CgZsYz1yZrvxNFaykLp19cRIVSaeFUKQu2NqHLAkncB8oIGeSKANqismTxBEmpJbrZ3b27SeS18qp5KSdNhy2488ZClQeCQagHiffDcTx6PqLW8du1xDcYiCXKgZwhMnyn08zZmgDZkt4pZopZE3PESUJP3SRjOPXGR+JqSsvRrrUdRs7O9vrZrDzICZbSTYWDkjByrMMAA9G781qUAFFFFAEF1aJeRokpYKkiSYU4yVYMAfbIFT0UUAFFFFABRRRQAUUUUAFFFFACJ95/r/AEFFCfef6/0FFACL95/r/QU6mr95/r/QU6gAooooAKKKKAGyf6tvoadTZP8AVt9DTqAIbuF7izmhik8p5I2RZMZ2EjGce1Ysfh28ezeDUNSjm2QNbWxhtfKESEAEkbzufAxkYHooroKKAONlhvbjXrrTbNriO0nuI5LiOXTnVVVdoJW4J2MrKgGwAsC3JA6LZx313rj2UbXIsI703M0dxpzwlDkvt85jtlBfaRsHAHJ7V2NFAHJWPgKystYuNQW30cXBZ3tryPSI1u4nbPzNMSd5Gf7q++atR+Grw6fqKXF9Zi8vYjGZbWxMMXf5mj8wl25wTuHHTFdHRQA2IOsKCVlZwoDFF2gnvgZOB7ZNOoooAKKKKACiiigAooooAKKKKACiiigAooooARPvP9f6CihPvP8AX+gooAryyMkzBTgfT2pvnyf3v0on/wBc3+e1VpbmKCWGOVtrzuUjGCdxClsfkDQBZ8+T+9+lHnyf3v0rN1LWLPSVT7WZmaT7sdvbyTyMB1OyNWbAyMnGBmrFrdQ3tss9s++Ns4OCCMHBBB5BB4IPIoAtefJ/e/Sjz5P736VHRQA8zOQQW4PtS+fJ/e/So6KAJPPk/vfpR58n979KrQ3MVwZRC24xOY34Iwwxx+op4kVpWjAbcoBJKEDn0PQ9O3SgCbz5P736UefJ/e/SoWkRGVWdVZzhQTyxxnj8KdQBJ58n979KPPk/vfpUdFAEnnyf3v0o8+T+9+lV/tEX2r7Pu/e7N+3HRc4z+dSUASefJ/e/Sjz5P736VHRQBJ58n979KPPk/vfpVFtStFv0svPU3LkgRqCxHGecfd455xU0NxHcBzE2fLcowwRhh1FAFjz5P736UefJ/e/So6KAJPPk/vfpR58n979KjooAk8+T+9+lHnyf3v0qOigCTz5P736UefJ/e/So6KALduxZCW5OaKS2/wBWfrRQBDP/AK5v89q57xJqVjpNxpN3ql5b2Vsl2waa5lWNFzDIBlmIHWuhn/1zf57VHQBzV9r/AIdlW21WLxJZ2qFWSK9E8Zt5RuwULn5SdwHAIbj61r6PeyahpcVxMF3MWAdFKrIAxAcA8gMACBz16nrV6igAooooAKKKKAOa03xJodrrWoaXc6zp8OoPfMFtJLpFlYlVxhCcnPbiqeq6nbtbMt/qy2i3dzJ5UMt69oZkX5Ascq/MDld21eTmuxooA5O1s7O48S6Us91fi5s7AzxQXF9IrtubHzoGAk2gEEsD1GSTUutRPff2rL9rvIltlSG3S3uXhHnYyGypGeXUYPBxyDXT0UAchqE6eH7i+uJNRutv2aNZpbm8IjWV2IV/nykQAU5KqByOCcVU0SS9ntLiAXEkIur+OKJodTlvQFCiR2SWVVYArxgDaO3Wu6ooA5OBZY/EDxeZKmmu4tUm+0O8rug3bGdskAln5zkkAcd8bT9Y1O9v59RNxZF7VZDPFb6zLKyDadkT2vlKkbZK8k7uOpr0WigClpWnf2dZrG9xcXMrBTJJcTNIWYADIycL06DA79au0UUAZ3+v8Sf7Npbf+PSN/QJ+tGj/ALz7bdD7lzcsycdVVVTP47M/Q1duIBcQNEzuitwxQ4JHcZ7Z9uaciLFGscahEUBVVRgADtQA6iiigAooooAKKKKACiiigC1bf6s/Wii2/wBWfrRQBFMrGZsKT9B7UzY/9xvyNW1+8/1/oKdQBS2P/cb8jRsf+435GrtFAFLY/wDcb8jRsf8AuN+Rq7RQBR2sOqt+VLsf+435Grcn+rb6GnUAUtj/ANxvyNGx/wC435GrtFAFLY/9xvyNGx/7jfkau0UAUtj/ANxvyNGx/wC435GrtFAFLY/9xvyNGx/7jfkau0UAUtj/ANxvyNGx/wC435GrtFAFLY/9xvyNGx/7jfkau0UAUtj/ANxvyNGx/wC435GrtFAFLY/9xvyNGx/7jfkau0UAUtj/ANxvyNGx/wC435GrtFAFLY/9xvyNGx/7jfkau0UAR2wIjORg570U9PvP9f6CigBF+8/1/oKxfE2pXemf2dLaNhDdf6Qu0HfEI3Zh044XPHpW0v3n+v8AQVWvbAXlxZyM+BbStIVK535Rkx7fez+FAGXqOqXQ8T6VaWMqrbM5N18oO8NG5RQe33CePb1qlpr6vbWFtq8+tXN/HcTKstpcQwqkau+392URWGMj7xbIGOvNaNl4cFmtqDdtK1vdGfeycsvltGqdeNqlRnvj3qvp/h7VIhDbanq1tcafbSiSGC3smhdsNuUSOZH3YOD8oXJHpxQB0dFFFADZP9W30NOpsn+rb6GnUAY2qeI4tMlnX7Be3YtUWS4e3VNsSHPJ3MM4AyQuTgjANEfiSHzbpLuxvbMW6LIjTIp89WOFKBWLZJ42sFbPap5dI82G7Rp+bu4WWQ7P4RtGzr/dXGfc8VDqOiTXklxPbXiwXTtC0LtDvWPyySAy7huBJOcEHnrxmgBsPiWNkuftmnX1jPAUxbzqjPKHJCFNjsDkgjGQR3Aplr4hnuHu2k0m8h+zhE+ysiNMZWycZVymNu053YGeSMHDZtA1CWFbg6pD/ayypILhrQmEbVZQnlb87cOx+/nJzntUF/4VuL+0EU17a3JkuGmuY7yx86CcEBQpjDr90AAEkjuQTQBbh1uXUBYrDbXFjNJctHPBcBC8YRSWB2llP8IyCfvda26xND8NW+hR20dqY1ito5EjiigWJVMkm8kKvA6AYA7Vt0AUdS1MaeiCO1uL25kyY7a2273A6nLsqgDI5JA5HrVObxGUt4zBpGpXN0yb5LONI1lhXJGWLuE6g4wxzglcipdS02/n1GC90u/htZERopFntjMroSDxh12tx15HsahuNG1M37TWWsLDFPEsdyJLUPKxUEBkYMFQ885Vh6AUAWItes5rOa6j8www2y3LMVx8rAsBg85wOh9RVeXXGgvrj91NOqrHFDawqpkkmKl2AyQOF29SAOeagbw1dieaG31KKLS5miZrb7LmQBAqlPM342lUxjbnk81PPod4LiO60/UIobpbiSV2mtjKjq+AV2h1IIVVAbPboc4oAs6NqcuqrcyyWslqkcvlLFMAJFIUbg2CQcMSOCRx1NJc67a2jukqS7luo7UAKDuZwpBHPQBhk+xp2k2lzYB7eVxLEuX89gA8sjMzMcA4A5A/Oq154d+1T6hOt46S3YTyiUBEBAXkDuTsX8hQBPNq8BdVDTRgTOvmKq7WEa7nPOfl42k9c9PWodFvby8mAum4S1jeRdoGJHJbHT+FQB+NOutASeEQxzeVEtq1qi7ckBiNxznkkKB+Zq7Z2QtJLl9+9riXzD8uMDaFA/AKKALVFFFABRRRQAUUUUAIn3n+v9BRQn3n+v8AQUUAIv3n+v8AQU6q0sjJMwU4H09qb58n979KALdFVPPk/vfpR58n979KALdFVPPk/vfpR58n979KALMn+rb6GnVTMzkEFuD7Uvnyf3v0oAt0VU8+T+9+lHnyf3v0oAt0VU8+T+9+lHnyf3v0oAt0VU8+T+9+lHnyf3v0oAt0VU8+T+9+lHnyf3v0oAt0VU8+T+9+lHnyf3v0oAt0VU8+T+9+lHnyf3v0oAt0VU8+T+9+lHnyf3v0oAt0VU8+T+9+lHnyf3v0oAt0VU8+T+9+lHnyf3v0oAt0VU8+T+9+lHnyf3v0oAtJ95/r/QUUy3YshLcnNFAEE/8Arm/z2qndaha2Mlul3MsTXUohh3A/O5BIH5A9auT/AOub/PasLX7WK9udLt5xmOS5cHBwR+5k5B7Edc0AXr3VbLT4riW8nESW8aySsVOEUkgHgeoNTm4iWSKMuN0wJjxzuwM9a5O5mmkXVLe+BNxbxWscjFcCUea2HH1H5HI7VegV7DxFZaYysYVWWS1fHAjwMoT6qSAPYj0NAHRUUUUAFFFFABRXLaxBJqA1KcXt7D5Mkdtarb3LxKJePm+Ujd80mCDkHbyKq3F5b6jqU0SatcjW7e52Q2MF0yeUgbAaSJThkYAsWcEc8HpQB2dFcpH4gtrppLSHUQ122osJokkJe2jjJJDDPyApH3xnd70tnA8d5pd/c6heLNLHLczrLdN5KxEZ2lM7BtLrg4yMdcUAdVTZJFiUFgxywUbULck47dvfoKy/Ed/b2GkF7rUYtOSRwv2iaTy09Spk/gyARu7E8c4rEtbo2emxNaTXjRok90FmvHuN2AERVkf5nRmbcN34cYoA7GiuPuYpdBkmmTUr13isEF1LcXDSopZwol2E7V2hXJwBnvmoDe2NnbX95Y61cSaaqwxvdzXzyxo0jjfIHYkABdvIO0dsc0AdncTx2tu887bI0GWOM4/KpK5WfU4tVvGe2na4sjPFGvlksriNTM7L2bPyrkdaydM1uS6159TguEmtFtZp3eLV3uAQuAI2gCCKNgWH3WLcYOc5oA9AqFLuB7MXYlUQFd/mN8o2+vPaquj6e1jYoLie4uLiRF8555mcFsc4BOFH0Az3zXMLLZatexRJqMxvhemCSxhuGCW8SMW2PCDtGVTqwyd3BxQB29NkkSGJ5ZWCoilmY9gOprz7StXv77VZNQuL2xiW1Ehu/I1eadoEwdqSWnlKiEEqSSd3ynkirFtIt1pl62l3zai94Y7cSjU3ubWdmOGKkgiMhQxKoNoB6HsAdq13CkMcrPhJSqodp5LdOOvepqy9E/0qxW4u2aS63kSo/wB2GRcgqq9ABzg9SOSTWpQAUUUUAFFFFAFq2/1Z+tFFt/qz9aKAIZ/9c3+e1R1LMrGZsKT9B7UzY/8Acb8jQA2inbH/ALjfkaNj/wBxvyNADaKdsf8AuN+Ro2P/AHG/I0ANopdrDqrflS7H/uN+RoAbRTtj/wBxvyNGx/7jfkaAG1HPBHcwmKdd8bEZUng4Oefb2qbY/wDcb8jRsf8AuN+RoAbRTtj/ANxvyNGx/wC435GgCpf2jXtm0Md3cWbkgrPblQ6EdxuBU/Qgj2pLCwTT7coskkzu2+WaYgvI3qcADsBgAAAYAq5sf+435GjY/wDcb8jQA2inbH/uN+Ro2P8A3G/I0ANop2x/7jfkaNj/ANxvyNADaKdsf+435GjY/wDcb8jQA2inbH/uN+Ro2P8A3G/I0ANop2x/7jfkaNj/ANxvyNADaKdsf+435GjY/wDcb8jQBYtv9WfrRS2wIjORg570UAOX7z/X+gp1NX7z/X+grH8Q3t/Zvpv9mYZnuSJYioPnII3YoD2J2jB9cdqANqiub1TV7mSyvZdJulQG1t5LeQxhgrPIwJIPXgDj27Vbh1We5ktFRRHNmWO4gPaRV6Z9M8g9wQaANmiuc0OW7kvUa8124e5kUtNpl1bRxiPA58oBVfaGI+Ys4I785ro6AGyf6tvoadTZP9W30NOoAKKq6hfxabZm5nWR1DKgWJdzMWYKAB35NZ0XiZHimEmmX8N3HN5K2brGZJW27gVKuUwV5yWGO+KANuisux12K9WFWtLm1uJJmhe3nC74mVdx3bWKkYxypI+YVHceIo4yEtbG8vp2MoSG3VMv5bBWOWZVAycAkigDYorPXWrc+HxrBjmWAw+d5ZT950+7jP3u2M9aoTeIZJbW+hjsbuwvYgiwi6VDv8xtiOu1mGN2eDgjHIoA36KoLq0BgjkCyEPcm2XgZZgxUnr0+Un6DpVRPEbTWP2m00bUrlX5gVFiBnHPK7nAUcdXK5yMZoA2qKyLbVm1G60/7KskMc0Uk8qSKNwAwoU9cHcex/h64rXoAKKz9TvXsHgm+eSM5QW8SgyTyHG1Vzx2YkkgDHPGaoW3iWSZbh5NNu0kRxDHY7U89pNu5hkPswAV53bfegDforCbxQptIpLXSdQurlgxeyiEQlhCttbducLwePlY57Zp41sHWGhUSuvkRlLZY8SM7ZJyDjbtXbnOAN3rigDaorKi13z9UFrDpt89uXaP7cqoYQ65yp+beOQRnbtz3q/aLOlsou5FkmySxUcDJJAHA6Dj8KAJqKKKACiiigBE+8/1/oKKE+8/1/oKKAEX7z/X+gqvd2X2q6spvM2fZZjLjbndlGXHt97P4VYX7z/X+gp1AGG/hpTNqDRXLJHemJhEUyIirl2xz0YnOOxJPerM+jCTXY9ShuXgYRNHIiqCHJGFfnoVGR7556CtOigDFt9K1V9Rhm1fVLa6gtXLwRwWRhfcVK5djIwbhj91V/pW1RRQA2T/AFbfQ06myf6tvoadQBWu7P7XLasZNqQTeay4zvwpAHtgkH8KzLrQ737SLzTNRht7zz3kLT2pljZGCjaVDqcgIuDu9eOcVuUUAYMmg30U1rPp+qRxzxmT7Q9xa+b528qSQAy7WG0AHkAcYNT2OhvYwkC8MkotBbrK0fIbLFpCM9WYg446Vr0UAYup6fP/AGTYaXp7GPEka+cY96osY3AsMjIJRRjIznrS2+iXDSRXGp3sdzdeakkzRQeWjBFYKqqWYqAzbuSxz39NmigDnLfw5qSxJFdaxFJFbiUWwjtNjKXBAdzvO5gGbkbQc9KTW/CS6x9lgdrGWwhh8prS+sRcpx0ZAWCqw9SrcdhzXSUUAZmkaLHpKxrE4ZIrWK1jUJtCqmf5k/oK06KKAM7VtPu7xrWbTruK1ubWUurTQGZGBUqQVDKeh4IPB9elYureCE1aztku206+mhmllY6ppq3UT72ycR7l2sAAAwPA7GurooA5qXwmwjtrKym0+10uFABbJpqh4m7tC6sojJ6/dbB6Yq7HoCRasdSilC3bzM0koj5kiKhRGeeg2qQfUdOTWxRQBiabol3b6q19qN7bXMgUoj29n5Duv/TVt53kY4wFHPStuiigAooooAKKKKAET7z/AF/oKKE+8/1/oKKAK8sjJMwU4H09qb58n979KKKADz5P736UefJ/e/SiigA8+T+9+lHnyf3v0oooAQzOQQW4PtS+fJ/e/SiigA8+T+9+lHnyf3v0oooAPPk/vfpR58n979KKKADz5P736UefJ/e/SiigA8+T+9+lHnyf3v0oooAPPk/vfpR58n979KKKADz5P736UefJ/e/SiigA8+T+9+lHnyf3v0oooAPPk/vfpR58n979KKKADz5P736UefJ/e/QUUUAHnyf3v0o8+T+9+lFFAE9uxZCW5OaKKKAP/9k=)![POS2.JPG](data:image/jpeg;base64,/9j/4AAQSkZJRgABAQEAeAB4AAD/4RD8RXhpZgAATU0AKgAAAAgABAE7AAIAAAARAAAISodpAAQAAAABAAAIXJydAAEAAAAgAAAQ1OocAAcAAAgMAAAAPgAAAAAc6gAAAAgAAAAAAAAAAAAAAAAAAAAAAAAAAAAAAAAAAAAAAAAAAAAAAAAAAAAAAAAAAAAAAAAAAAAAAAAAAAAAAAAAAAAAAAAAAAAAAAAAAAAAAAAAAAAAAAAAAAAAAAAAAAAAAAAAAAAAAAAAAAAAAAAAAAAAAAAAAAAAAAAAAAAAAAAAAAAAAAAAAAAAAAAAAAAAAAAAAAAAAAAAAAAAAAAAAAAAAAAAAAAAAAAAAAAAAAAAAAAAAAAAAAAAAAAAAAAAAAAAAAAAAAAAAAAAAAAAAAAAAAAAAAAAAAAAAAAAAAAAAAAAAAAAAAAAAAAAAAAAAAAAAAAAAAAAAAAAAAAAAAAAAAAAAAAAAAAAAAAAAAAAAAAAAAAAAAAAAAAAAAAAAAAAAAAAAAAAAAAAAAAAAAAAAAAAAAAAAAAAAAAAAAAAAAAAAAAAAAAAAAAAAAAAAAAAAAAAAAAAAAAAAAAAAAAAAAAAAAAAAAAAAAAAAAAAAAAAAAAAAAAAAAAAAAAAAAAAAAAAAAAAAAAAAAAAAAAAAAAAAAAAAAAAAAAAAAAAAAAAAAAAAAAAAAAAAAAAAAAAAAAAAAAAAAAAAAAAAAAAAAAAAAAAAAAAAAAAAAAAAAAAAAAAAAAAAAAAAAAAAAAAAAAAAAAAAAAAAAAAAAAAAAAAAAAAAAAAAAAAAAAAAAAAAAAAAAAAAAAAAAAAAAAAAAAAAAAAAAAAAAAAAAAAAAAAAAAAAAAAAAAAAAAAAAAAAAAAAAAAAAAAAAAAAAAAAAAAAAAAAAAAAAAAAAAAAAAAAAAAAAAAAAAAAAAAAAAAAAAAAAAAAAAAAAAAAAAAAAAAAAAAAAAAAAAAAAAAAAAAAAAAAAAAAAAAAAAAAAAAAAAAAAAAAAAAAAAAAAAAAAAAAAAAAAAAAAAAAAAAAAAAAAAAAAAAAAAAAAAAAAAAAAAAAAAAAAAAAAAAAAAAAAAAAAAAAAAAAAAAAAAAAAAAAAAAAAAAAAAAAAAAAAAAAAAAAAAAAAAAAAAAAAAAAAAAAAAAAAAAAAAAAAAAAAAAAAAAAAAAAAAAAAAAAAAAAAAAAAAAAAAAAAAAAAAAAAAAAAAAAAAAAAAAAAAAAAAAAAAAAAAAAAAAAAAAAAAAAAAAAAAAAAAAAAAAAAAAAAAAAAAAAAAAAAAAAAAAAAAAAAAAAAAAAAAAAAAAAAAAAAAAAAAAAAAAAAAAAAAAAAAAAAAAAAAAAAAAAAAAAAAAAAAAAAAAAAAAAAAAAAAAAAAAAAAAAAAAAAAAAAAAAAAAAAAAAAAAAAAAAAAAAAAAAAAAAAAAAAAAAAAAAAAAAAAAAAAAAAAAAAAAAAAAAAAAAAAAAAAAAAAAAAAAAAAAAAAAAAAAAAAAAAAAAAAAAAAAAAAAAAAAAAAAAAAAAAAAAAAAAAAAAAAAAAAAAAAAAAAAAAAAAAAAAAAAAAAAAAAAAAAAAAAAAAAAAAAAAAAAAAAAAAAAAAAAAAAAAAAAAAAAAAAAAAAAAAAAAAAAAAAAAAAAAAAAAAAAAAAAAAAAAAAAAAAAAAAAAAAAAAAAAAAAAAAAAAAAAAAAAAAAAAAAAAAAAAAAAAAAAAAAAAAAAAAAAAAAAAAAAAAAAAAAAAAAAAAAAAAAAAAAAAAAAAAAAAAAAAAAAAAAAAAAAAAAAAAAAAAAAAAAAAAAAAAAAAAAAAAAAAAAAAAAAAAAAAAAAAAAAAAAAAAAAAAAAAAAAAAAAAAAAAAAAAAAAAAAAAAAAAAAAAAAAAAAAAAAAAAAAAAAAAAAAAAAAAAAAAAAAAAAAAAAAAAAAAAAAAAAAAAAAAAAAAAAAAAAAAAAAAAAAAAAAAAAAAAAAAAAAAAAAAAAAAAAAAAAAAAAAAAAAAAAAAAAAAAAAAAAAAAAAAAAAAAAAAAAAAAAAAAAAAAAAAAAAAAAAAAAAAAAAAAAAAAAAAAAAAAAAAAAAAAAAAAAAAAAAAAAAAAAAAAAAAAAAAAAAAAAAAAAAAAAAAAAAAAAAAAAAAAAAAAAAAAAAAAAAAAAAAAAAAAAAAAAAAAAAAAAAAAAAAAAAAAAAAAAAAAAAAAAAAAAAAAAAAAAAAAAAAAAAAAAAAAAAAAAAAAAAAAAAAAAAAAAAAAAAAAAAAAAAAAAAAAAAAAAAAAAAAAAAAAAAAAAAAAAAAAAAAAAAAAAAAAAAAAAAAAAAAAAAAAAAAAAAAAAAAAAAAAAAAAAAAAAAAAAAAAAAAAAAAAAAAAAAAAAAAAAAAAAAAAAAAAAAAAAAAAAAAAAAAAAAAAAAAAAAAAAAAAAAAAAAAAAAAAAAAAAAAAAAAAAAAAAAAAAAAAAAAAAAAAAAAAAAAAAAAAAAAAAAAAAAAAAAAAAAAAAAAAAAAAAAAAAAAAAAAAAAAAAAAAAAAAAAAAAAAAAAAAAAAAAAAAAAAAAAAAAAAAAAAAAAAAAAAAAAAAAAAAAAAAAAAAAAAAAAAAAAAAAAAAAAAAAAAAAAAAAAAAAAAAAAAAAAAAAAAAAAAAAAAAAAAAAAAAAAAAAAAAAAAAAAAAAAAAAAAAAAAAAAAAAAAAAAAAAAAAAAAAAAAAAAAAAAAAAAAAAAAAAAAAAAAAAAAAAAAAAAAAAAAAAAAAAAAAAAAAAAAAAAAAAAAAAAAAAAAAAAAAAAAAAAAAAAAAAAAAAAAAAAAAAAAAAAAAAAAAAAAAAAAAAAAAAAAAAAAAAAAAAAAAAAAAAAAAAAAAAAEFuYSBNYXJpamEgRXJlxaEAAAAFkAMAAgAAABQAABCqkAQAAgAAABQAABC+kpEAAgAAAAM5MAAAkpIAAgAAAAM5MAAA6hwABwAACAwAAAieAAAAABzqAAAACAAAAAAAAAAAAAAAAAAAAAAAAAAAAAAAAAAAAAAAAAAAAAAAAAAAAAAAAAAAAAAAAAAAAAAAAAAAAAAAAAAAAAAAAAAAAAAAAAAAAAAAAAAAAAAAAAAAAAAAAAAAAAAAAAAAAAAAAAAAAAAAAAAAAAAAAAAAAAAAAAAAAAAAAAAAAAAAAAAAAAAAAAAAAAAAAAAAAAAAAAAAAAAAAAAAAAAAAAAAAAAAAAAAAAAAAAAAAAAAAAAAAAAAAAAAAAAAAAAAAAAAAAAAAAAAAAAAAAAAAAAAAAAAAAAAAAAAAAAAAAAAAAAAAAAAAAAAAAAAAAAAAAAAAAAAAAAAAAAAAAAAAAAAAAAAAAAAAAAAAAAAAAAAAAAAAAAAAAAAAAAAAAAAAAAAAAAAAAAAAAAAAAAAAAAAAAAAAAAAAAAAAAAAAAAAAAAAAAAAAAAAAAAAAAAAAAAAAAAAAAAAAAAAAAAAAAAAAAAAAAAAAAAAAAAAAAAAAAAAAAAAAAAAAAAAAAAAAAAAAAAAAAAAAAAAAAAAAAAAAAAAAAAAAAAAAAAAAAAAAAAAAAAAAAAAAAAAAAAAAAAAAAAAAAAAAAAAAAAAAAAAAAAAAAAAAAAAAAAAAAAAAAAAAAAAAAAAAAAAAAAAAAAAAAAAAAAAAAAAAAAAAAAAAAAAAAAAAAAAAAAAAAAAAAAAAAAAAAAAAAAAAAAAAAAAAAAAAAAAAAAAAAAAAAAAAAAAAAAAAAAAAAAAAAAAAAAAAAAAAAAAAAAAAAAAAAAAAAAAAAAAAAAAAAAAAAAAAAAAAAAAAAAAAAAAAAAAAAAAAAAAAAAAAAAAAAAAAAAAAAAAAAAAAAAAAAAAAAAAAAAAAAAAAAAAAAAAAAAAAAAAAAAAAAAAAAAAAAAAAAAAAAAAAAAAAAAAAAAAAAAAAAAAAAAAAAAAAAAAAAAAAAAAAAAAAAAAAAAAAAAAAAAAAAAAAAAAAAAAAAAAAAAAAAAAAAAAAAAAAAAAAAAAAAAAAAAAAAAAAAAAAAAAAAAAAAAAAAAAAAAAAAAAAAAAAAAAAAAAAAAAAAAAAAAAAAAAAAAAAAAAAAAAAAAAAAAAAAAAAAAAAAAAAAAAAAAAAAAAAAAAAAAAAAAAAAAAAAAAAAAAAAAAAAAAAAAAAAAAAAAAAAAAAAAAAAAAAAAAAAAAAAAAAAAAAAAAAAAAAAAAAAAAAAAAAAAAAAAAAAAAAAAAAAAAAAAAAAAAAAAAAAAAAAAAAAAAAAAAAAAAAAAAAAAAAAAAAAAAAAAAAAAAAAAAAAAAAAAAAAAAAAAAAAAAAAAAAAAAAAAAAAAAAAAAAAAAAAAAAAAAAAAAAAAAAAAAAAAAAAAAAAAAAAAAAAAAAAAAAAAAAAAAAAAAAAAAAAAAAAAAAAAAAAAAAAAAAAAAAAAAAAAAAAAAAAAAAAAAAAAAAAAAAAAAAAAAAAAAAAAAAAAAAAAAAAAAAAAAAAAAAAAAAAAAAAAAAAAAAAAAAAAAAAAAAAAAAAAAAAAAAAAAAAAAAAAAAAAAAAAAAAAAAAAAAAAAAAAAAAAAAAAAAAAAAAAAAAAAAAAAAAAAAAAAAAAAAAAAAAAAAAAAAAAAAAAAAAAAAAAAAAAAAAAAAAAAAAAAAAAAAAAAAAAAAAAAAAAAAAAAAAAAAAAAAAAAAAAAAAAAAAAAAAAAAAAAAAAAAAAAAAAAAAAAAAAAAAAAAAAAAAAAAAAAAAAAAAAAAAAAAAAAAAAAAAAAAAAAAAAAAAAAAAAAAAAAAAAAAAAAAAAAAAAAAAAAAAAAAAAAAAAAAAAAAAAAAAAAAAAAAAAAAAAAAAAAAAAAAAAAAAAAAAAAAAAAAAAAAAAAAAAAAAAAAAAAAAAAAAAAAAAAAAAAAAAAAAAAAAAAAAAAAAAAAAAAAAAAAAAAAAAAAAAAAAAAAAAAAAAAAAAAAAAAAAAAAAAAAAAAAAAAAAAAAAAAAAAAAAAAAAAAAAAAAAAAAAAAAAAAAAAAAAAAAAAAAAAAAAAAAAAAAAAAAAAAAAAAAAAAAAAAAAAAAAAAAAAAAAAAAAAAAAAAAAAAAAAAAAAAAAAAAAAAAAAAAAAAAAAAAAAAAAAAAAAAAAAAAAAAAAAAAAAAAAAAAAAAAAAAAAAAAAAAAAAAAAAAAAAAAAAAAAAAAAAAAAAAAAAAAAAAAAAAAAAAAAAAAAAAAAAAAAAAAAAAAAAAAAAAAAAAAAAAAAAAAAAAAAAAAAAAAAAAAAAAAAAAAAAAAAAAAAAAAAAAAAAAAAAAAAAAAAAAAAAAAAAAAAAAAAAAAAAAAAAAAAAAAAAAAAAAAAAAAAAAAAAAAAAAAAAAAAAAAAAAAAAAAAAAAAAAAAAAAAAAAAAAAAAAAAAAAAAAAAAAAAAAAAAAAAAAAAAAAAAAAAAAAAAAAAAAAAAAAAAAAAAAAAAAAAAAAAAAAAAAAAAAAAAAAAAAAAAAAAAAAAAAAAAAAAAAAAAAAAAAAAAAAAAAAAAAAAAAAAAAAAAAAAAAAAAAAAAAAAAAAAAAAAAAAAAAAAAAAAAAAAAAAAAAAAAAAAAAAAAAAAAAAAAAAAAAAAAAAAAAAAAAAAAAAAAAAAAAAAAAAAAAAAAAAAAAAAAAAAAAAAAAAAAAAAAAAAAAAAAAAAAAAAAAAAAAAAAAAAAAAAAAAAAAAAAAAAAAAAAAAAAAAAAAAAAAAAAAAAAAAAAAAAAAAAAAAAAAAAAAAAAAMjAyMjowMTowNCAxNjo1MTozMgAyMDIyOjAxOjA0IDE2OjUxOjMyAAAAQQBuAGEAIABNAGEAcgBpAGoAYQAgAEUAcgBlAGEBAAD/4QsjaHR0cDovL25zLmFkb2JlLmNvbS94YXAvMS4wLwA8P3hwYWNrZXQgYmVnaW49J++7vycgaWQ9J1c1TTBNcENlaGlIenJlU3pOVGN6a2M5ZCc/Pg0KPHg6eG1wbWV0YSB4bWxuczp4PSJhZG9iZTpuczptZXRhLyI+PHJkZjpSREYgeG1sbnM6cmRmPSJodHRwOi8vd3d3LnczLm9yZy8xOTk5LzAyLzIyLXJkZi1zeW50YXgtbnMjIj48cmRmOkRlc2NyaXB0aW9uIHJkZjphYm91dD0idXVpZDpmYWY1YmRkNS1iYTNkLTExZGEtYWQzMS1kMzNkNzUxODJmMWIiIHhtbG5zOmRjPSJodHRwOi8vcHVybC5vcmcvZGMvZWxlbWVudHMvMS4xLyIvPjxyZGY6RGVzY3JpcHRpb24gcmRmOmFib3V0PSJ1dWlkOmZhZjViZGQ1LWJhM2QtMTFkYS1hZDMxLWQzM2Q3NTE4MmYxYiIgeG1sbnM6eG1wPSJodHRwOi8vbnMuYWRvYmUuY29tL3hhcC8xLjAvIj48eG1wOkNyZWF0ZURhdGU+MjAyMi0wMS0wNFQxNjo1MTozMi45MDA8L3htcDpDcmVhdGVEYXRlPjwvcmRmOkRlc2NyaXB0aW9uPjxyZGY6RGVzY3JpcHRpb24gcmRmOmFib3V0PSJ1dWlkOmZhZjViZGQ1LWJhM2QtMTFkYS1hZDMxLWQzM2Q3NTE4MmYxYiIgeG1sbnM6ZGM9Imh0dHA6Ly9wdXJsLm9yZy9kYy9lbGVtZW50cy8xLjEvIj48ZGM6Y3JlYXRvcj48cmRmOlNlcSB4bWxuczpyZGY9Imh0dHA6Ly93d3cudzMub3JnLzE5OTkvMDIvMjItcmRmLXN5bnRheC1ucyMiPjxyZGY6bGk+QW5hIE1hcmlqYSBFcmXFoTwvcmRmOmxpPjwvcmRmOlNlcT4NCgkJCTwvZGM6Y3JlYXRvcj48L3JkZjpEZXNjcmlwdGlvbj48L3JkZjpSREY+PC94OnhtcG1ldGE+DQogICAgICAgICAgICAgICAgICAgICAgICAgICAgICAgICAgICAgICAgICAgICAgICAgICAgICAgICAgICAgICAgICAgICAgICAgICAgICAgICAgICAgICAgICAgICAgICAgICAgCiAgICAgICAgICAgICAgICAgICAgICAgICAgICAgICAgICAgICAgICAgICAgICAgICAgICAgICAgICAgICAgICAgICAgICAgICAgICAgICAgICAgICAgICAgICAgICAgICAgICAKICAgICAgICAgICAgICAgICAgICAgICAgICAgICAgICAgICAgICAgICAgICAgICAgICAgICAgICAgICAgICAgICAgICAgICAgICAgICAgICAgICAgICAgICAgICAgICAgICAgIAogICAgICAgICAgICAgICAgICAgICAgICAgICAgICAgICAgICAgICAgICAgICAgICAgICAgICAgICAgICAgICAgICAgICAgICAgICAgICAgICAgICAgICAgICAgICAgICAgICAgCiAgICAgICAgICAgICAgICAgICAgICAgICAgICAgICAgICAgICAgICAgICAgICAgICAgICAgICAgICAgICAgICAgICAgICAgICAgICAgICAgICAgICAgICAgICAgICAgICAgICAKICAgICAgICAgICAgICAgICAgICAgICAgICAgICAgICAgICAgICAgICAgICAgICAgICAgICAgICAgICAgICAgICAgICAgICAgICAgICAgICAgICAgICAgICAgICAgICAgICAgIAogICAgICAgICAgICAgICAgICAgICAgICAgICAgICAgICAgICAgICAgICAgICAgICAgICAgICAgICAgICAgICAgICAgICAgICAgICAgICAgICAgICAgICAgICAgICAgICAgICAgCiAgICAgICAgICAgICAgICAgICAgICAgICAgICAgICAgICAgICAgICAgICAgICAgICAgICAgICAgICAgICAgICAgICAgICAgICAgICAgICAgICAgICAgICAgICAgICAgICAgICAKICAgICAgICAgICAgICAgICAgICAgICAgICAgICAgICAgICAgICAgICAgICAgICAgICAgICAgICAgICAgICAgICAgICAgICAgICAgICAgICAgICAgICAgICAgICAgICAgICAgIAogICAgICAgICAgICAgICAgICAgICAgICAgICAgICAgICAgICAgICAgICAgICAgICAgICAgICAgICAgICAgICAgICAgICAgICAgICAgICAgICAgICAgICAgICAgICAgICAgICAgCiAgICAgICAgICAgICAgICAgICAgICAgICAgICAgICAgICAgICAgICAgICAgICAgICAgICAgICAgICAgICAgICAgICAgICAgICAgICAgICAgICAgICAgICAgICAgICAgICAgICAKICAgICAgICAgICAgICAgICAgICAgICAgICAgICAgICAgICAgICAgICAgICAgICAgICAgICAgICAgICAgICAgICAgICAgICAgICAgICAgICAgICAgICAgICAgICAgICAgICAgIAogICAgICAgICAgICAgICAgICAgICAgICAgICAgICAgICAgICAgICAgICAgICAgICAgICAgICAgICAgICAgICAgICAgICAgICAgICAgICAgICAgICAgICAgICAgICAgICAgICAgCiAgICAgICAgICAgICAgICAgICAgICAgICAgICAgICAgICAgICAgICAgICAgICAgICAgICAgICAgICAgICAgICAgICAgICAgICAgICAgICAgICAgICAgICAgICAgICAgICAgICAKICAgICAgICAgICAgICAgICAgICAgICAgICAgICAgICAgICAgICAgICAgICAgICAgICAgICAgICAgICAgICAgICAgICAgICAgICAgICAgICAgICAgICAgICAgICAgICAgICAgIAogICAgICAgICAgICAgICAgICAgICAgICAgICAgICAgICAgICAgICAgICAgICAgICAgICAgICAgICAgICAgICAgICAgICAgICAgICAgICAgICAgICAgICAgICAgICAgICAgICAgCiAgICAgICAgICAgICAgICAgICAgICAgICAgICAgICAgICAgICAgICAgICAgICAgICAgICAgICAgICAgICAgICAgICAgICAgICAgICAgICAgICAgICAgICAgICAgICAgICAgICAKICAgICAgICAgICAgICAgICAgICAgICAgICAgICAgICAgICAgICAgICAgICAgICAgICAgICAgICAgICAgICAgICAgICAgICAgICAgICAgICAgICAgICAgICAgICAgICAgICAgIAogICAgICAgICAgICAgICAgICAgICAgICAgICAgICAgICAgICAgICAgICAgICAgICAgICAgICAgICAgICAgICAgICAgICAgICAgICAgICAgICAgICAgICAgICAgICAgICAgICAgCiAgICAgICAgICAgICAgICAgICAgICAgICAgICAgICAgICAgICAgICAgICAgICAgICAgICAgICAgICAgICAgICAgICAgICAgICAgICAgICAgICAgICAgICAgICAgICAgICAgICAKICAgICAgICAgICAgICAgICAgICAgICAgICAgIDw/eHBhY2tldCBlbmQ9J3cnPz7/2wBDAAcFBQYFBAcGBQYIBwcIChELCgkJChUPEAwRGBUaGRgVGBcbHichGx0lHRcYIi4iJSgpKywrGiAvMy8qMicqKyr/2wBDAQcICAoJChQLCxQqHBgcKioqKioqKioqKioqKioqKioqKioqKioqKioqKioqKioqKioqKioqKioqKioqKioqKir/wAARCALiAOoDASIAAhEBAxEB/8QAHwAAAQUBAQEBAQEAAAAAAAAAAAECAwQFBgcICQoL/8QAtRAAAgEDAwIEAwUFBAQAAAF9AQIDAAQRBRIhMUEGE1FhByJxFDKBkaEII0KxwRVS0fAkM2JyggkKFhcYGRolJicoKSo0NTY3ODk6Q0RFRkdISUpTVFVWV1hZWmNkZWZnaGlqc3R1dnd4eXqDhIWGh4iJipKTlJWWl5iZmqKjpKWmp6ipqrKztLW2t7i5usLDxMXGx8jJytLT1NXW19jZ2uHi4+Tl5ufo6erx8vP09fb3+Pn6/8QAHwEAAwEBAQEBAQEBAQAAAAAAAAECAwQFBgcICQoL/8QAtREAAgECBAQDBAcFBAQAAQJ3AAECAxEEBSExBhJBUQdhcRMiMoEIFEKRobHBCSMzUvAVYnLRChYkNOEl8RcYGRomJygpKjU2Nzg5OkNERUZHSElKU1RVVldYWVpjZGVmZ2hpanN0dXZ3eHl6goOEhYaHiImKkpOUlZaXmJmaoqOkpaanqKmqsrO0tba3uLm6wsPExcbHyMnK0tPU1dbX2Nna4uPk5ebn6Onq8vP09fb3+Pn6/9oADAMBAAIRAxEAPwD6Nn/1Lf571Tq5P/qW/wA96p0AFFFFABRRRQAUUUUAFFQX15HYWM13MGZIULFUGWPsB3J9KzV8SRqt39r0++tZLbYRHKiFpldtqsm1jnJBGDg+ooA2aKw7jxMLaNnbSNRcQ83WwRH7KOuX+fnjnCbiARkVJd+I4rW6aNbC9nhilSKe5iVPLhLAEE5YMR8wztBx3oA2KKyhr0Z1KO2WzujBI5jW92p5PmDPy/e3djzt28dan0zUxqkJmitLiGAgGOSYKBKD3UBicfUDOeM0AXqKCQASeAOtYtr4nguJk8yyvLW3kt2uI7qdUEbquN3AYsMAg8qAexNAG1RWKniaMPMLnTb+0CwmaFpkQfaFGAdoDEg5YDDhTz0q3e6xb2DSiVJXMUaOwjXcTvbaoA6kkg8UAX6KoaZqv9ovcxyWN1ZS27hWjudmSCMhgUZhgj3z6gVfoAKKzdT1j+z5Fig0+71GbbvaK0CbkTONx3soI9gST2BqOfW4YJiQl3MxdIVgSMcuyl+AcEHbjOSAPzNAGtRWKniRZLFZE0u/N20jxjTwI/Oyn3ud/l4GRzvxyBnJxVmw1qDUWQRwzxl1kYiVQNux9hzz65x9DQBo0VjjWfPuIZoEma2+yee0ax7ncswEYwPXDd/rTY/Eitbs02mX8FyLgW/2NxG0hYruGCrlcFec7uO+KANqimxO0kKO8bRMygmNyMqfQ4JGfoTTqAHR/wCsX6ir1UY/9Yv1FXqAI5/9S3+e9U6uT/6lqp0AYtr4iW5sNRmNs0cti0oMTP8A6xUZgGBx0O0/QgjtU8GtLLr9xpkkLRmNFaOUtlZSRll9iAR9QfY1l3ei3x0GY2kSi/D3IWMuAJY5JGO0noOCGHoR9auyaTNPc6g/+qkZ4pbWbIO11TGcemcgjuCaAI7nW9Ukazj0bTbS4luI5JHF3etAqKjKvBWJ8k7vQVp6ZfNf2fmSw+RKjtHLFu3BWU4OD3HoeOOw6VgJ4cl1L+yv7WS6tvItpfNFnqEsBSRnQhd0TqWGAfbiujs7ODT7VLa0j8uJM4GSSSTkkk8kk8knk0AT0UUUAZmuwXN3b29raMY2knUtL5e9Ywnz5YZHBKgYyOtRQaLcM0c+o3qXF15qSTPHB5aMEB2qqlmKgMd3JY5/TYqvJf20dyLd5MSllULtJ5YEgfkpP4UAZkuh3kl5dL/aSDTLp/MltxbfvScAFRJuxtOOmzPJwwqDTtJ1C4AkvbtFsppjctaG2Kyht25VZy2NoAX5doPHXHFb32iI3Rtg370J5hXB4XOM5+oNSUAcnpvgOz066ubiO30hLhldbe7g0pI7lCwILPLuJdueoC5711MEK29vHDGMJGgRR6ADFLLIIomkcMVUZIRSx/ADk/hTqAIb2Brqxngjk8ppY2QSYztyMZxVG+0RbyN0Wcwr9lNvFtXPl5IO7nr91ePb3rUqOeeO2hMszbUBAJwT1OB09zQBiTaFqV3aO17qsD6gAohmjsysMe1w/wDqy5JyVGfn7cYqeDRbjzfOv75biZrhJpCkHlqQi4VFG4kAN83JJrYooAoW9tcW+pTMNrxXDNLI5GCDhVVRz2CnJ+lX6KKAMbVNFu9Sv0Zry2FmMHy3s900bescu4bPxVj6EVPBpHlX63Lz7yJZZSuzGWfABzn+FRt989q0qKAOS1KO80q/tf7Oe4e6ZJQSNOeeOYu+4jerAQsCB8znbjse1r/hHdSjijSz1aO3VrJbacta+Y5YbjvRtwCkliTlWzx0ro6KAMDUfDT3dvJHbXMCb2jHl3FsZYmjRSvlugddwySeo5xwcU7RfC1toYhS0FvFDFJLKIba2WFA74AIVeBhQR75zW7RQAUUUUAOj/1i/UVeqjH/AKxfqKvUARz/AOpb/PeqdXJ/9S3+e9U6ACiiigAooooAKKKKACsDWdPl1TWrW3s9QuNMeBGuZJ7RIi5YjYoPmI4xjf2zx1rfooA4We4fRbW+N9rM11LdXQtYbvULmK0G1FyUMscYC5YuBhSxJ4PcS6DFdahZWlndXF1BEZLiZ1i1GaVhGp8tU89wsjAks2Tg8e1drRQBy0AfybO7N3eNJfXBcDz3KpApMgATOOVVRnBJ3EZ5xVC21OGSW/1PTtUk1GWGCRmltr55oB6K8H3Y2XOcL8x2nJ9e4ooA4qK4t2W4uPDus3WoRTweTJc/bGniM7sqIUJJVWGWJCYA4yOlbOmaetvrd8guLq5iWOEut1cNMPNyTuUMSE42nC4HfFblFABRRRQAUUUUAFFFFABRRRQAUUUUAFFFFADo/wDWL9RV6qMf+sX6ir1AEc/MLY9v51V2P/cb8jVyT7v4j+dLQBS2P/cb8jRsf+435GrtFAFLY/8Acb8jRsf+435GrtFAFLY/9xvyNJtb+635Vepo/wBYfoP60AVNj/3G/I0bH/uN+Rq7RQBS2P8A3G/I0bH/ALjfkau0UAUtj/3G/I0bH/uN+Rq7RQBS2P8A3G/I0bH/ALjfkau0UAUtj/3G/I0bH/uN+Rq7RQBS2P8A3G/I0bH/ALjfkau0UAUtj/3G/I0bH/uN+Rq7RQBS2P8A3G/I0bH/ALjfkau0UAUtj/3G/I0bH/uN+Rq7RQBS2P8A3G/I0bH/ALjfkau0UAU0VhIuVYDI6irtMf7o+o/nT6AGyfd/EfzpaST7v4j+dLQAUViWniRLnT9SnNs0ctg0oMLP/rFRmAcHHRtp7cEEdqnt9bSXxBcaXJA0ZjRWjlLZWUkZZfYgEH3B9jQBqUVz9zruqyPZRaLplnczXMckri7vngVFRlXgrE+Sd3oKD4gvp44YNO0yF9SfzPMgubsxRJ5bBW/eKjE8sMYXkdcUAdBTR/rD9B/WorOWea1V7u3+zTch4xIHAIPUMOoPUcA+oHSpR/rD9B/WgB1FFFAGNqniNNMmmQadfXgtkWS4ktkQrChz8x3MM4C5IXJwRwafP4ht4LqaP7NdSRwbRLOiAorMAVUc7mY5AwoJyRnFUYtJ1K/ubySe8WCwvJ2M1q1qfNZVwgAk3YVWVMkbSfm4Iq5c6JNJp8sdreLDdNdfaknaHeoYNlQyZGQAAvUHjqKAGR+Jo/KuDeaZf2U0DRj7PKiM8gdtqMux2BBIPGcjHIFOg8SRyQTmfTr62uoZRELOVUMsjEZXbtcqQRzndxg5xg1SutI1V57bbfRvqEj+dLdm0PkJ5akInl787dz5wXyeefRmreDRrGnIl9Jp97d+f58jahpwuLd227ceSWGAB0+bI7k5OQC9H4mWWOFV0u/+1yM6tZ4j8yMpjduO/Zj5hyGIOa26yNG8O2miMgsYbW3ijh8tILW2WCNSWLOwVeBk449uprXoAp6jqSaakO6Ca4knk8uOKBQWZtpPcgAYB5JwO9Z6eJ1lsUkh0nUJLxmdf7PURecpRtrZJfywAe+/B7ZrTls/N1K3umk+WBHCx46s2Pmz7AEfjWT/AGBqNvNFLpeqxQOUKXJmtPN8zLs+5PnGxsseTuHTigC/Y6zb6h5AijmQyxNKVkUAx7W2lW54OcjjI4PNUbnxZDDbedb6bf3gFut06wImUiJPzEs6jopOAckdAaZceHL5ZCulastrBJafZpfMtfNlyCx3q+4BSS5JyrZ9qtnQ1+x3tus21boInCfcjVQuwc+gbn/aoA1I3EkauucMARkY606oLNrhrVWu0SOUknYn8IzwPrjGe2c066laC0mlRGkaNGYIgyWIHQD1oAy08SRvqMVuNPvvIlne3W9Kp5PmKSNv3t/O04O3HvUml6r9qd1mLEuZJkOAFSIPsXPfnBP51S0zQtSit4E1HUopUt03W8aWuxkkKkFpG3neQWbGAvXnJ5pJvDd+uYtO1aO1tZLJLSRWtd8nyhsMj7wF+8cgq3tigC3F4jinkRbexvZUMKTySJGpWJGDEZ+bJPy/dUMfmHFQS+IZprO+jSwu9PvIgixC6EZ3+Y2xHGxmGM9jg8cipbvQJJdLvba0u1gluZFdXeIsiqoUBGUMCy4XBAYZyelVNG8GWujkm3Syt/MukuZo7KxW3jdlTaBtBP8AF82SSe2e9AHSjgDJz70UUUANf7o+o/nT6Y/3R9R/On0ANk+7+I/nS0kn3fxH86WgDlbvQ78+H5zaRKNQD3IWNnAEsUkjHaT0HBDD0IHTmr0mkT3FzqEn+pkaSKW0myDtdUAzj0zkEdwT61uUUAcknhqbU/7J/tiO7tfItZvOFlqMsBSRnQhd0TqWGAfbir+o2cenWFvbWnh2TVbaMllSCWPzo3z9/Mrrycklt+7PrnNb1FAGfokV1DpUaXwdZNzFUkl81o0LHarP/EQMAnJ+p61eH+sP0H9adTR/rD9B/WgB1VbjUrS0S5e4m2LaxiSY7SdqnOO3J4PA5/MVarmtZbVbvUfK0HTdPvIoGzdG7vHtg0uBtAKxSbto5OcYO30oA6OKRJokkjO5HUMp9QadXGRN/aOjI93c3cNrZaUjSpaXTwlpCM/fUhsgIMcj73vRPFfaKBdQ3l3dX8WlPJcC4uXaJnG0ITGMquDuOVXJAOc0AdnTDIqzLGQ25gSCEJHGOp6Dr0PX8K8/0W41K8tLqePULdor5o7dZ7DXJdQBlZsM6lokWMhdx2pxnsMc6moXkekPcCXUp7TTUljtpru4umIhyGkdy7k7c7kUHOFzxjigDr6K4HVL6wsdPh0/StTnnjvmaSH7drc0AmAGCsdxh5myfmATPsQODb09JdR0myj1O8vIYINN+0XIhvZFc+YcoDKNrnaqn5uCep6kUAdnUazxvcSQK2ZIwrOMHgHOOfwNcLPcxSrp2mXms3D30dvEPskWoyW93vIz5gC/68fMM7vl+U5zzXdpGqElQNzY3NgZYgYyaAH0UUUAFFFFABRRRQAUUUUAFFFFADX+6PqP50+mP90fUfzp9ADZPu/iP50tJIcJk9AR/OmefH/e/SgCSio/Pj/vfpR58f8Ae/SgCSio/Pj/AL36UefH/e/SgCSmj/WH6D+tN8+P+9+lIJk3k7uMDt9aAJaKj8+P+9+lHnx/3v0oAkoqPz4/736UefH/AHv0oAkoqPz4/wC9+lHnx/3v0oAkoqPz4/736UefH/e/SgCSio/Pj/vfpR58f979KAJKKj8+P+9+lHnx/wB79KAJKKj8+P8AvfpR58f979KAJKKj8+P+9+lHnx/3v0oAkoqPz4/736UefH/e/SgCSio/Pj/vfpR58f8Ae/SgBz/dH1H86fURlRsBTk5Hb3qWgCOf/Ut/nvVOrk/+pb/PeqdABRRRQAUUUUAFFFFABRUF9eR2FjNdzBmSFCxVBlj7AdyfSs1fEkard/a9PvrWS22ERyohaZXbarJtY5yQRg4PqKANmisWbxGINpfS7/CsBckCIi1B6Fzv54wcJuIBGQKbf+ImhkaGysbmYeYIBd7VMCylgu0/MHPJ5IGOCCQaANyishPECSXghjsLxoZFYwXWEEc7KCSq5bdnAOCwCnsaq2Hie4udHhupdEv/ALVPukjsozCZDFn5Xz5mwDBHVgSc4FAHQ0VinxPbFfMhtLuWFbdbmWVUULEhVmG7cwOfl6AE8jtzTG8TsJJol0LVHmSMSpGFiBlQ/wAQJkAXHo5U+gNAG7RWRLr1qsMd0DcmP7Ok3lpGCWEjBUBHXdnOAPfrxSReIkeO487Tr23uIZREttIqGSYkZXbtcrgjnkjGOcUAbFFY0fiRZI4lXTL77XIzqbPEfmRlcZ3Hfsx8w5DEHNbNABRRRQAUUj7tjeXjdj5c9M1kQ6zJDeW1jdWd4+/90b8oixPKFJIxuD87Tzt2+9AGxRWLpeoXN9eRbpMxNFJOw2j7rSYiHT+6GNWde1KbSdFuLy1spb2ZABHBEUBZicD77KMZI759KANGiuefxNNBdOJ9KvGhjEKzGNUJt3cZO878EDK8JuP4Yq6+vRrqMdutndSQNJ5JvVVfJSTptOW3HnjIUjPBIoA1o/8AWL9RV6qMf+sX6ir1AEc/+pb/AD3qnVyf/Ut/nvVOgDnYtf1bzXuLjSbRdLW4aATx3zNNxJ5e4xGIKBnnhycetLH4g1ISz3FzpduulRTvD9oivC8wCuULtEYwAuRk4cnHam6V4UtYpnvL5btrg3Uswikv5nhGZGZWEO8xg4weF4PPWoI01aWC80YaPcQRzXEpN/LLD5JjeQsSoVy5baeAVHPegCe41bxNHri2MGiaTJHIryRyvq0qsUVlGSotjg/MOMke9dGOnPWqEttK3iG2uVTMMdtLGzZHDM0ZAx1/hP5VfoAKKKKAMzXYLm7t7e1tGMbSTqWl8vesYT58sMjglQMZHWooNFuGaOfUb1Li681JJnjg8tGCA7VVSzFQGO7ksc/pru6xxs7kKqgkk9hUYuYzbJcLuaNwpUqjEkHpwBnv+FAHOy+CLC48UPqt1Z6Rch5BLun0tHuVcYxicnhRjgbcjsatW+gXiSLHcakkllFcPNFClttf5t3DvuO7BbIIVegznrW28iR7fMdV3NtXccZPoPekmlSCB5pm2xxqWZvQAZNAHL6N4Fs9IFy8VvpEV08TQw3dnpSW8yhhjLuGJdu5I2g+lJqXgiLVpLCTUY9GvXt4FglF5pKzqQM8xBn/AHROe5ccDjiurVgyhh0IyMjFLQBlDQo0sri2idY455UYqkYCrGu0eWADgDauPx6VNcaa0zX7rcbJLqEQq23PlABvfnlie1X6KAMv+xF+1CUTYQSxMI9n8EakKmc/3juz+HvVDXPCUWtQOJvsM8jXPnhNQsRdQ/cCAGMsMkAcEEc/lXR0UAZOkeH7XRmQWUNtbxJD5awWtssMaksWdgq8DJx+XU1rUUUAFFFFAAeR6Vydl4IFvf8A2+eaxe/WOSNL2LTwk7BhgGSQuWcjnuAc9BiusooApWGmpYSSsjbgyxxoNuNiIuAvvzk/jRqtlNf2iR206QSJNHKGkiMinawbBAZeuPX8+lXaKAM7+ycwNG8+fMu/tMh2fewwIXr22qM+1ZOl+CLDT9ek1J7PSJZBI0kM6aWiXSsxOS82SWPJGQFPrmunooAdH/rF+oq9VGP/AFi/UVeoAjn/ANS3+e9U6uT/AOpb/PeqdABRRRQAUUUUAFFFFAGZ4iaX+w5obcK01yVt4wzbQS529cHHBJ6HpWTHe3P2a3ffM94Gke5gRiFXyVP7tV/u7imO7AjOa6migDiLK6064uoNRt9blvBFbvc3c4neaFJANgwmSqEbnyqgYx83rV/wsLW9e7ngvX1GGRAsky6g13bTk9Su7hG45VPlG4de3UUUAFFFFABRRRQAUUUUAFFFFABRRRQAUUUUAFFFFABRRRQA6P8A1i/UVeqjH/rF+oq9QBHPzC2Pb+dVdj/3G/I1ck+7+I/nS0AUtj/3G/I0bH/uN+Rq7RQBS2P/AHG/I0bH/uN+Rq7RQBS2P/cb8jSbW/ut+VXqaP8AWH6D+tAFTY/9xvyNGx/7jfkau0UAUtj/ANxvyNGx/wC435GrtFAFLY/9xvyNGx/7jfkau0UAUtj/ANxvyNGx/wC435GrtFAFLY/9xvyNGx/7jfkau0UAUtj/ANxvyNGx/wC435GrtFAFLY/9xvyNGx/7jfkau0UAUtj/ANxvyNGx/wC435GrtFAFLY/9xvyNGx/7jfkau0UAUtj/ANxvyNGx/wC435GrtFAFNFYSLlWAyOoq7TH+6PqP50+gBsn3fxH86Wkk+7+I/nS0AFFc3F4h1cyvc3GkWi6Uty0Aniv2efiTy9xiMQUDPPDk49aln8QXsby3cOlpJpFuzLLcm5xL8pwzLFswygg8lweDgHjIBv0VizavqcmoTRaTpkF3b2r7Lh5bzypC20NiNNhDcMPvMn9a2hyBxj2oAKaP9YfoP606mj/WH6D+tAEN9eR6fYTXc4dkhQsVRcs3sB3J9KzovEsRa6S8sL2ylt9hWOZFZpg5IQpsZs5IIwcEdwKk16C5vLa3tLNjG8twrNL5e9Ywnz5YZGQSoGMjOaqyaDqEtt576pD/AGuJEkFyLQ+SNoIC+Vvzt+ZjjfnJ69qAJIvEqtBN9o0y+tbuJ1QWUojMkpbO3aVcpztPVhjBzilbxG4sonGiakb2TdjTsRLMApG45MgjIGRyHIOeM1FcaFqUto2zUrSS6nYG6N1YebBKuMBRHvBUDt856nOaZc+GruW1trOG/tTZouJI7mxErA5J3RHePLIzgZDAADA9QCxd+JY7a2SZNN1C4AjE1wkcaq1shGcuHZeRg/KuW9qkl14LqS2tvp17dxCRY5rqBUMcDEAgMCwc8MDlVIGeSOayr3wHYX/iIajeWmkXsZCb/t2lpcXAKgAbJmPyjjOCp5JIIq8ug3r6yby6v7d0jLG3aKyEdwgIPytLuIZRnptHQZz3AJofEKTXjINPvVswrsuoFUMD7c7hwxcdDyygHsTToNZhFk7uLlmTy8LIqh3MgBVQBgZ+bHbpz61Sg8NXbLeNqN/avPcxGFpLSy8jehIyZBvbe+BgHgDJwKvtosb6y988pKGFUWELgKw3Dfn12tgenPrQAy31+O51KO2Syu1gmyIL1lTyZmAJKr827oCclQD2JrWrl/DPgiw8PXjXS2WjfaFUpFcWekpbTbT18xwSWY45I2g+ldRQAVDdXUVnavPcMVjQc4BJPYAAckk8ADrU1ZviDRo9e0WWwl8gq5VttxAJ4mKkEB4yQGXjkZH1FAFdfE0YhmN1pt/azRSxxi3kRGkfecKy7GYEHB75GDkCkj8TK9pI7aXfx3aTmAWDCMzO4UNwQ5TG0g5LADvg8VDo3hKz0aG2W2t9NtGjmM8y6bYLaxyvsKg7QTjAJ6lj71LNod4tzFdafqEUNys0ryNNbGRXSQjK4DqQwCqA2e3Q5oAii8RiW3kuLqK4s41mcLHsXzAsSbpA/JGNwK5X2wec1PD4mhd7gXdhfWKwwrMr3Ea/vkJwNoVmbOeNrANntTP+EaLW0UUt4ZCsbI7GLmQvIHkPXjdjHtn8Kj8SWjRW1zfCW4EjNB5bQWbXJh8ti4JiQ7nUseQvPPtmgC9pmsnUbqa2l068sJ4VDslyE5ViQpBRmHO08ZyO4FadY3h2K8aG4vtTJM91ICuYfKIRVAHyEkrk7mwSSN3PNbNABRRRQA1/uj6j+dPpj/dH1H86fQA2T7v4j+dLSSfd/EfzpaAOa0nwlaRTPeX63j3Ju5ZhFJqEzwDMrMjCHeYwcYPC8HnrUc1vqsdjdaDFpUksNyZQmoCaMRIkjEncpbfuG48BSDgcjPHU0UAczrMV5JdPFaeH7h7orsg1S3uYo1jA+75hLLJgHqoVwffOK6VAwRQ5y2OT6mlooAKaP9YfoP606mj/AFh+g/rQA6iiuInvbXVNXnS21i5/tWO9UW1lBeOnlxqQrM8SnDIdrklgR6YNAHb0V58mtnUvF0F1aXKm3imkWYprEheBUQlkktVTy1zt6u28Z/ALrVzeaTpWnyS3saNqQLXUmpazLZRrnlYkkVHCHL4G0KxC/e4oA9ApjSxo4V3VWYEhSeSB1P4ZrjLa2uZtMki1m9u44bGyaSRLTUZiTvZmUedhJGKqi/McE7uc5qxpthbTeKYjqF5cTajYaVErxNeyYffuDs0Iba2doGSvJ9wKAOqgmjubeOeE7o5FDocEZBGRwakrj9CubPUvEhnsdVe9MYfcbS/doo17RS2x+SJgCMfxkqc45FdhQAUUUUAFFFFABRRRQAUUUUAFFFFABRRRQA1/uj6j+dPpj/dH1H86fQA2T7v4j+dLSSHCZPQEfzpnnx/3v0oAkoqPz4/736UefH/e/SgCSio/Pj/vfpR58f8Ae/SgCSmj/WH6D+tN8+P+9+lIJk3k7uMDt9aAJags7VLGzjtoizLGMBnOS3qT7mn+fH/e/Sjz4/736UASUVH58f8Ae/Sjz4/736UASUVH58f979KPPj/vfpQBJRUfnx/3v0o8+P8AvfpQBJRUfnx/3v0o8+P+9+lAElFR+fH/AHv0o8+P+9+lAElFR+fH/e/Sjz4/736UASUVH58f979KPPj/AL36UASUVH58f979KPPj/vfpQBJRUfnx/wB79KPPj/vfpQA5/uj6j+dPqIyo2Apycjt71LQBHP8A6lv896p1cn/1Lf571ToAKKKKACiiigAooooAKKgvryOwsZruYMyQoWKoMsfYDuT6Vnw+IYma6S6sbyzkt9hWOZFLTByQpTYzZyQRg4I7gUAa9FYq+JFMP7zTL+K68/yBZssZkLbS4OVcpggZzu4745qRNe33yQLpl8YSSkl2BGYoXA5RsPu46FgpX3oA1qKx4PEcU14sb2N5BbyoXgvJVQRTADccAMWHAJ+ZVyOlJZ+JI7ucI2nahbI9sbmKWaJcSqMZAVWLAjcOCoz2zQBs0VhSeIJZbO/RbC6sLuFVES3QjO8uSqMNjMMbh0OD6itS9vE07T5Lq43usS5IRcs56YA7kntQBZorFHiWNfPW502/t5oZI0WB0RnlDkhWXa5GOD1IIwcgUk3iZYAGfStQKJgXTqIyLQkA4f5/mxkZ2b8UAbdFY8/iOOG+8hdPvZoluVtpLmNE8uN224zlgxGWA+UHBznFKPEMbahFAtjeG2lkMS3wVPJL9Nv3t/UY3bdvvQBr0VQGsWxt7efDhLh2VMgdFDEt16YUn8RUGna+uo3scH9nX1ss0Hnwy3CIqyLxkABiwI3DhgPbNAGtRRRQAUVSv7iVLuxt4G2tNMd5wD8iqSf12j8atyOscbO5wqgkn0AoAdRWBpvifz40/tKwurPdbfaVmeMCOReMhQGLgjcowyjPbNX9O1b7fcTwSWN1ZSwhWC3IT50OcMNrNxweDgjuBQBpR/6xfqKvVRj/ANYv1FXqAI5/9S3+e9U6uT/6lv8APeqdAHOxa/q3mvcXGk2i6Wtw0AnjvmabiTy9xiMQUDPPDk49aF1/VRNLcTaVajSo7loPPjvmafiTZuMRiC4z6OTj16UmleFLWKZ7y+W7a4N1LMIpL+Z4RmRmVhDvMYOMHheDz1qtF4WaGY6iFupLoX8kzWsl9I0EiGQkERF/LVgCGBAByOepoAtTa9q8V1eyrpNo+l2UhSScX7CchVBYiLytvGenmdvwrogcgEdDXOW/hS0m1S+vdQW8ZproyLEdQm8h1woBMIfyz07rXR0AFFFFAGZrsFzd29va2jGNpJ1LS+XvWMJ8+WGRwSoGMjrWdqPhSTV9Lki1WeyvbyR0dmuLASWx2Z2qYC5JX5icF85Oc9K6SmySJCm+V1RcgbmOBycD9aAMfR/DNpo4thaQWVssKuWisbNbeNpGx84VTxgAjnJ561Evh25nu55dSvoJQ8bxpJb2nkzFWUriR9xD4zxhVGcHFb9FAGCug39xaNFquqR3DiJoYTBa+UqKwwWILsS+3jOQOTxU+raJLqCTfZrtbd2hSKPdEXRQG3MGAZSytwCARwOta9FAHOaR4PtdJVhbrZwCW5S5mjsrJbeNii4ACgn+L5skk9ver+uQXV5Fa21m/lM86u0pj3qgTLjcMjILKoxkda1KKAMi20acXEN1qF4lxdLJ5krRw+WjEIVUKu4lVG5jgljk9ajGh3hup45NRRtMmmMxthbYlJJ3FTJuwUJ7bQccZrbooAzU0jbBbxtPu8u5a5kO3/WMSxx14wWB7/dFVbDQr2ARQ32ppcWlr/x6xx23lsOMAyMWbeR2wFHqDW5RQBzkHhq/Nmlvf6tFMkNs9tF5NoYsK2BuOXbLbQRkYHPQVtJZhdSN1v48lYUTH3BkknPvx/3zVmigAooooAoXlrOb6O8ttryJH5KI4+VQzKXYnPPCjip9QtTe6fPaiTy/OQoXAzgHg/pViigDH1jw9Hq8FzFM8ZjlgSFI5YRJGMPuO5ScMpwoK8cDrUHh7w+nh7bDZ2GlW4lBa6l06wW0R2GAoCBifU5JNb9FADo/9Yv1FXqox/6xfqKvUARz/wCpb/PeqdXJ/wDUt/nvVOgAooooAKKKKACiiigDP1y9isNHnmnvUsFxt+0yfdiJ7k9FHueBXOWEMV9ZwW1pd3bQXd4JPM/tB7tCkY3lopX+YqW2j0BzjHWuzooA891O9uNMtY7KC8jFhc3M4V9T1ua1ZtpCCNbjY7kltxAyD0wcAiuy0KK7g0O1j1Bg1wE+YiVpcDJIG9lVmwMDJAJxzWhRQAUUUUAFFFFABRRRQAUUUUAFFFFABRRRQAUUUUAFFFFADo/9Yv1FXqox/wCsX6ir1AEc/MLY9v51V2P/AHG/I1ck+7+I/nS0AUtj/wBxvyNGx/7jfkau0UAUtj/3G/I0bH/uN+Rq7RQBS2P/AHG/I0m1v7rflV6mj/WH6D+tAFTY/wDcb8jRsf8AuN+Rq7RQBS2P/cb8jRsf+435GrtFAFLY/wDcb8jRsf8AuN+Rq7RQBS2P/cb8jRsf+435GrtFAFLY/wDcb8jRsf8AuN+Rq7RQBS2P/cb8jRsf+435GrtFAFLY/wDcb8jRsf8AuN+Rq7RQBS2P/cb8jRsf+435GrtFAFLY/wDcb8jRsf8AuN+Rq7RQBS2P/cb8jRsf+435GrtFAFNFYSLlWAyOoq7TH+6PqP50+gBsn3fxH86Wkk+7+I/nS0AFFc3F4h1cyvc3GkWi6Uty0Aniv2efiTy9xiMQUDPPDk49aE8Q6sJpbibSLQaTHctb+fHfs0/Enl7jEYguM+jk49elAHSUVzc/iDWIbq+mXR7OTSrGQpJONQYTkKoLMIvK28Z6eZ2/CrEutaj/AGuyWemxz6dbyLDcTeeRMHYKQUjCkFQG5JYH0BxyAblNH+sP0H9adTR/rD9B/WgB1Y154kjs7x4hp99PFDMsM9zEqeXCWAIJywYj5hnaDjvxWzXN6dpGpXI82/vEWynmN01mbUrLu37lVpC2Nowvy7QeOuOKALk3iOKK+WFbC9ltjMIHvo1TyY5CwUKcsHPzHGVUgHqRg0qeIEk1Awrp979kBdf7QCoYNyZ3KcNvGNpGSoX35FQ2ug3sUvk3WppNp0cxmggS22SA7iwDuWIYAnIwq9BnPOWWugajHcXF1capbG7aMxxXFtYCJj0wZcuwkIx22jk4A7AE9v4jSVZpLjTb+zgRA8U80albhSQBs2MxySRhWCsc9KaviUGGXzdKv4bxJBGlk/lebKSCylSHKYIVjywxg5xVGbwc17ot1a6hLp001y6O6rpoFoxU5G6BnbdnPOWycDkYFEHg46fpKWejLodiJHLXcMeiqLac8c+UrqQRjglm6854wAX5PETLZwumjalJeShj/Z4WJZlCkBiSzhMAkchjnPGalXWYXuovlu0DLEDG8YUKZc7dwPzBhtwR23dD2pXnhu7uILa0j1C3NlHGEdLmyEsgIz88T7hsbnuGAwMAVbuNCM9rdRrdtHLPcRzLMFy0ezZgDJ5OE6+pzigBbjX441cWdld38wdlSG2CbpNuAzAuyqACcZYjJBxmp21i3XQhquyUwGISBAn7w56Lt/vZ4x61i674GsdZu7OR7XSZoraIQeVqWmLd7Uzn92WYbG9SdwOBkcVf1bT5TY2Gm6SqWqLKhVlgzHCsY3KCowMblUYBHB4xQA0eJ41+0Lc6Zf208MkaLA6IzyiRiFZdrkYOD1IIwcgUkvihYihfSdR8tWVbmULEVtGOOHw/zYyM+XvA71La6JOLmC71G9S5ulk8yVo4PLRiEKqFXcSqjcxwSxyetRR6Dei6lim1ON9Leczi2FtiUsW3lWl3EFMnoEB7ZNAEkviSOO/Fuun30sX2kWr3aInlRucAZywYjJxlVOCDnFKPEcR1CKFbC9NrLIYlv9qeSX5G372/qCN23b71LFo/lwWkTT7hBcNcSHZjzWbcfXj5mz36CqVp4dvo4Etb7VUntLYFbRIrby3X5dqmRizByM8YCjPUGgDQTWbZ7e0m2yBLtWdMgcKFLbjz0wP1FV9N8QrqV9Hb/wBm31qs1v8AaIZrhEVZV4yAAxZSNw4YD2zVWDw5ftaGLUtVhmZbRrSL7PaGFURsZOC7EsQoGc49AK2Esgmpm735HkLCke37gBJJz7/L/wB80AWqo6lqi6e0Ma2txdzz7vLhtwu5toyeWIAHQZJAyRV6qr2ZfUxeeZykBiRdv3SSCT156Lx7UAZlp4pS7ms1GlajFFdM0YmlSMLHKoOY2Afdn5W+ZQV4+9V+01eC9+yCBJCbmDzwCB+7TjG7ngknHfofSqklnHpVnYSytNPHp6EbIYGkeWRgF3YXJ7t/31kkYqPw/pl1pkUSyID5qs87uQWjGf3cS4PRQTk9M5PegDbf7o+o/nT6Y/3R9R/On0ANk+7+I/nS0kn3fxH86WgDmtJ8JWkUz3l+t49ybuWYRSahM8AzKzIwh3mMHGDwvB561Vi8KNDOdSC3ct0L+SdrSS/kaCRDIxBERfy1YAhgQAcjnqa6+igDmrbwlaTarf32oreM010ZFhOoTeQ67VAJgD+WendfrTdRj1B9eWO30aRZ2kRo9Vt5USMRKRlJRu3seWAXaynrkc46eigApo/1h+g/rTqaP9YfoP60AKzKiFnYKqjJJOABTWmRbczAl4wu7MalyRjPAGSfwrP8Q7n0WW2jZke7K2ysvUbyFJH0BJ/CsZYGsNRurWyvL1o5rm3ixLcvLtYAySFck7QUwNq4HoBQB1gOQCO/qKbJLHCm+V1jUEDcxwOTgfrXH6Rf2N/4je8h1lrvy95kkt9RcxRgnCxTW5+SJhuGP4yVOe4rb12I3rWOniR4/PuA7tGcMEj+fj/gQUfjQBr0V55qt9caNpcdtb3sa2NzezKJdW1qW2wq4QRi52yPkvuIGQccA8YrS0uC5aFBrF5cpFp1t5zpbXs0oO5y6hpMLJJtRB1AJ3HIOaAOxork/CstvfanPd2mqPqX7vEtxb6i1xbSNn/nmflicYPyp2POeK6ygAooooAKKKKACiiigAooooAKKKKACiiigBr/AHR9R/On0x/uj6j+dPoAbJ938R/OlpJDhMnoCP50zz4/736UASUVH58f979KPPj/AL36UASUVH58f979KPPj/vfpQBJTR/rD9B/Wm+fH/e/SkEybyd3GB2+tAEtFR+fH/e/Sjz4/736UAE9vFcoqzpvVWDgE8ZByPrzzUlR+fH/e/Sjz4/736UASUVH58f8Ae/Sjz4/736UASUVH58f979KPPj/vfpQBJRUfnx/3v0o8+P8AvfpQBJRUfnx/3v0o8+P+9+lAElFR+fH/AHv0o8+P+9+lAElFR+fH/e/Sjz4/736UASUVH58f979KPPj/AL36UASUVH58f979KPPj/vfpQA5/uj6j+dPqIyo2Apycjt71LQBHP/qW/wA96p1cn/1Lf571ToAKK4Wz13zNWkWDxb9t1EXrRNoebZtkYm2n5UQSrhOdzMR60Prd0niC5A1fVzIl95K2j6aBYhNwH/Hx5I5wT/y1znjB6UAd1RRRQAUUUUAFFMmlWCB5XDsEGSEUsx+gHJrKh8Qo0Ny13p97ZSwMq+RMqM8m44TbsZgckdCQR3xQBsUViWPiCS61EwXGn3FmNyw+XOELrIVZzkqzKRtVehPLfXD7jxFFHEWtLG8v2GWKWypkIDjzMsyjbwcc5ODgGgDYorHuPEcMYmMFrczxwwCeSZVURoChYZywJPA4AJ+YU/SdYlvpWtrywubO5jiWQmZVCyg8Fk2sxAz2bDD0oA1aKKpz6nBbS3CTBx9niWVjj7wYsAB6nK4x7igC5RWS2vot7FCLG8aF5BC90qp5UUhOAh+bcTk4yoIB4JFLa6/HdSxBbO7jhmlMUU8ioEkIDnj5t2Pk6kYORjvgA1aKgtLtL2EzQqwj3FVZh98A43D29DWdH4ijeWUnT71LNImkS+KoYZQvUDDFh0/iVQexNAGxRWGuryQXEoYXF0ESOOKBUTzZZSpdh2UEKV7gCnDxIjW0LR6ZfyXU3mAWSrH5qshwwYl9g5I53YPrQBtUVgDxNLNe6YlrpV21vdwvPNMxiAt1XghgZAcgkfdDD0zU1jrf/ErMt6spnVEkKBRlvM5RVHc87eccj8aANmigflRQAUUUUAOj/wBYv1FXqox/6xfqKvUARz/6lv8APeqdXJ/9S3+e9U6AMtdF2WsSJPiaG6e4jl2dNzsxXGeQQxX9aovoGqyXN1A2q2g0q5mMrwLYt5+CQSvmmXbg+uzOD6810VFABRRRQAUUUUAZ+t6dNqmlva29xHA7MDmWIyRsAeVdAyllPcbhWRZ+Dl0uwdNGksbC4N2LtTDYBIA2zYQYlYZGMn72ckcnHPT0UAYr6BJNZtHPfM08l19oknSPaTxtKgZ4+X5Qeo69ao6v4H0/VtYiu7iy0i4gWJYnivtLS4dVXOBG5I2DnoQw+ldRRQBkz6I0mn3dtBciFrmYSbxFkKo2gLtz02qB+dTabYXNu8lzqd1Hd3kihGeGExRqozgKpZiOSScsf5CtCigAqhPpS3GsQ3zyHbHHtMO3hmByrE+2Tx6kHtV+igDlbTwNZ22tXGo/ZtIaZneWC5GlILqN2zy027LYzxgKeOSatahYefBYaJa/aUMHlu1wsZCpGoKn58Y3EZGAcjOa6CigCrbRz/YWiZVtSNyQiMA+WnRfUZxg+lZMHhy5ZbltQvLV5rgBHa0s/IWRNwJ3je25iBjdkYycCugooA5nWvB0OsRL5w0+5kW5eYrqWni6hO7A+4WHzBVADA+vHOK0bDQYNMULYLBbRx23kQxQW6xpGSSWYKuByccDHStWigDEbw/LgxQ3qpbtYCzKmElxj+MNuwMgnIwe3PHMCWsl5qtxqlpBKqQwrDbQ3EZiDyruHmFWwdoDED15Izwa6KigBFztG7BOOcUtFFABRRRQA6P/AFi/UVeqjH/rF+oq9QAyUbo8HuQP1qP7Mn95v0qWT7v4j+dLQBD9mT+836UfZk/vN+lTUUAQ/Zk/vN+lH2ZP7zfpU1FAEP2ZP7zfpSfZ13kbm6Cp6aP9YfoP60AR/Zk/vN+lH2ZP7zfpU1FAEP2ZP7zfpR9mT+836UouImumtg2ZUQSMuDwpJAOenY/lUtAEP2ZP7zfpR9mT+836VK7KiM7nCqMk+gpsMyXFvHNESY5FDqSCMgjI4PIoAZ9mT+836UfZk/vN+lTUUAQ/Zk/vN+lH2ZP7zfpU1FAEP2ZP7zfpR9mT+836VNRQBD9mT+836UfZk/vN+lTUUAQ/Zk/vN+lH2ZP7zfpUrMFUsxwAMk+lRRXKzrDJAjvDMm9ZeAAOMZB55z6ducUAH2ZP7zfpR9mT+836VNRQBD9mT+836UfZk/vN+lTUUAQ+QqEMC2QR1+tT0x/uj6j+dPoAbJ938R/OlpJPu/iP50tAGZB4l0K61Z9Ltta06bUIyVe0ju0aVSOoKA5GPpQviXQn1htITWtObUlOGshdIZgcZxszu6e1cxbvqk6R2d3Y2MOlPqshjvlumeVWW4ZlBiMYCZI2hg56jjmkuYtUWHUbiW+sTpMeplzafZGFwxEinCzGQrkt0Hl57ZB5oA6c+JtBGsnSDrenDUgdpsvtcfnA4zjZnd0OelalcLeSarK2r2b2NiNInv8AynvmunM0O4IN3k+Xjg4wfM44OOK7ocCgApo/1h+g/rTqaP8AWH6D+tAGZ4kupLTQ5nhgmmLYRvJjkkZFPBbZH87Y9F5Pt1rktM0+bStJvHuLEJZXF9GJ49K0mW23whNxfyAzuSzEKxHJA5Awa9CooA4y10xdPh+26LozWyjUF8i0WHygqeWYwdg+4pZ2Y8dCTjOazvEGi39zqsenO1vNDJEGT7ZoU19G85JLyb0lRImBxgv0AG09a9EooA4+90gGw1C7ubOW8u12WlvJ5RaRUChGkQHoTvkOR1HerGgQaXa6nJe6Zp76bb3qpCqyWrwPdSjcxdkYBshRjcwBOD2xXUU0xo0iuyKXXO1iORnrigB1FFFAHJ3lrp+qeIbi117Rrm+nWRfsTtaO8UUe1fnSXGyNtxYn5g/AxnAqobO21LUj9o0i6bW4Lzf9umtXAt4lkyPLmIwVKKBtQnJb5hyTXb0UAcjF4atbqbSrm70//TJZJbi5nZCHRWDExFuoUlwCnQ7Tx1qm9pp2mw21jPpUyaa11cXJsrSyeRUUHy0HlRqTtbduxjHUniu6qIW8QumuQn75kEZbJ+6CSB+ZNAHnupadJFpUekW+ixR2zCS5t7S50mW+twCxIhMcbrGhAAI3NgFsKK1xpRgsFlvdOa/bStPiSCJkYhpfvMyjkkghMEZIxxzXYUUAeZ2+jbtP124udMhmtLuySMrDoc0ElxvYhmkjkZ3mdQAclQ3J4ORXQy6XHZ2ty2l6aYbeyNslpawQbAVRxI2xRjruI+q11dFAHB+JtP1BjaxTeTJFeb3ukn0ebUoZJDgKjJE64VV4BbK9zg811uh2MmmaHaWc0iyPDGFZkjMa/QKWbaB0A3HAHU1fooAKKKKAGv8AdH1H86fTH+6PqP50+gBsn3fxH86Wkk+7+I/nS0ARfZbfyTD5EflMxYpsG0knJOPXPP1qiPDOgrrB1ddE04akx3G9FpH5xOMZ343dPetOigCI20BjljMEZSYkyKUGHyMHI75FSgYGBwKKKACmj/WH6D+tOpo/1h+g/rQA6uduta1O21K6khso7jToJo4JGe48tlyBuZF2HecuAQWXpxk10VY0PhyOK+adtQvZYDMZ/scjJ5Xmli2/hQx56Att4BxnmgDKHxA06fxMmk2N1pc7GdrZo/7TQXQkGekABJUEHJJBGM4I5pkGteKZrOwc2GmB7y9Y8ag+Ftly2c+R1wMdO45543bLRDZTzFdSvZbd93l2sjJ5cOc52kKGPX+Jmx2xTLfw8lumnL9vu5BYRPCN/l/vkYAbXwg6YGCu08ck5OQDG074i6XqmsG2s7rS7i3Mcjg2+pJLcJsBJLwqPkXA67ickAgV0WlXV7e2Ynv7JLMyBWjjWfzGwQD83ygA5yMAn69qq23h4Q6fPZT6pf3dvKnlok7R/uo/7ilUBIxxltx962OnSgAooooAKKKKACiiigAooooAKKKKACiiigAooooAa/3R9R/On0x/uj6j+dPoAbJ938R/OlpsxxCSOox/Oq3nyf3v0oAt0VU8+T+9+lHnyf3v0oAt0VU8+T+9+lHnyf3v0oAt00f6w/Qf1qt58n979KTznzndz9KALlFVPPk/vfpR58n979KALdFVPPk/vfpR58n979KALdFVPPk/vfpR58n979KALdFVPPk/vfpR58n979KALdFVPPk/vfpR58n979KALdFVPPk/vfpR58n979KALdFVPPk/vfpR50n979BQBboqp58n979KPPk/vfpQBboqp58n979KPPk/vfpQBboqp58n979KPPk/vfpQBZf7o+o/nT6qLK7OoY5GR2q3QBHP/qW/z3qnVyf/AFLf571ToAwovFG+7ZZdG1GCzE5gF+/kmFmD7OiyGQAtxkoPfFKfE23UJYX0fUFtIpvIbUMwmHdkDoJPMxk4zs/Tmsq20bUIit1cX2oXFmdQkeTTGjjCKvnMVddsYkODtbBYgjPtVGW1tm1m+WK311tWN8ZIVKXn2I/MCrEH/R8Y5J69cfNQB1L68RfNDBpd/c28blJbyFYzHGwOCMFw7Y/2VI6+la1cxfXiwajLHpltqsGpSSZCLaSNbTc4yz4MSgjkncrY9+K6egAooooAKqWmpQ3l5dW8IfdakBmK4Vs5+6e+CCD7g03VHuhZmLTvlupz5ccrIWWIkffYAjgDnGRk4HeucFprml298l3NHef6LEiSabYyQlUDkPgGSQs+1iRg59s0AdY1xElzHbs372RWZVweQuMn9R+dSVxsWl2Yt9UvNG0iW0iECGKP7K0LTuD5jN5ZAbcSEBJAYleegqDxJZ6hK1u0yx+XeFjcRTaTLqEZ6COJ44nUgAFjlsrkknHFAHc1HBcRXMXmQNuTcy5wRypIPX3Brl7TQ/It0Go2i3v9mWeYEFuVRpCxfCRktjbtQKMtjHWodFtdOt7y0vodPms5rePyby7ntHiknkbCiPLAGQbiTkZUcYNAHZUVheKmgezit7uC4mhlc5CWD3cTHGNssafMVOc9hleT659vImhSWKDR7qJI7OQwW1lbPLGsjNkplQRHwowCQo3YB4oA62iuGmtrKaUWOsaRNqbx2qxJF9kaWJp3zJJuONqHOw7nxjsc1UudE1O91mLTruaFvs6RLbyXGizXBjCooMkdyJVjjbO7qN3+8MCgDv7u5js7Oa5mz5cKF2x1wBmpFO5QcEZGcHtXMnSVnBu5LEm8vb0h5Wjy8cIYcZP3QViUEcZJFZOn2txqXiy31STT44tplaYyaVNHcIQpHlm4kbDoS3RU2nHB4oA7dbpJVLW6tMFlMTbcDaQcHrjge1TVxuh6FaLpdnBY6UthDJbTT3CLZm3zO42crgHOC45HTHbFM1SPVJPDkN9tkt5pBHG6NZSXLQwgZYGGNldizAZCnOMZBwaAO1orB8I6W+l6Q6t9nVZ5TKsVrYNZxxggDAhZ2K5xk5I5J4Fb1AEcdxHLNLEjZeEgOMHgkZHP0qSuLSyttT1YtJpNwuqi+88Xc9o6iCJWABSUjHzIgBVTn5uR1qnpdjqE2vPql+Ee6s2keTZoc0VyQQcRJcPKUkXkcIu04HANAHfswVSzHAAyT6U2GZLiCOaE7o5FDKcYyCMjrXBjS9Pm0TV500Zp0ntxDLO+lyxT3IJAbzImG6ZlADbtv+6OtdvYWdpp9hDa6dbR2ttGoEcMUYjVB6BQBigC1H/rF+oq9VGP/WL9RV6gCOf/AFLf571Tq5PzC2Pb+dVdj/3G/I0ANop2x/7jfkaNj/3G/I0ANop2x/7jfkaNj/3G/I0ANop2x/7jfkaTa391vyoASinbH/uN+Ro2P/cb8jQA2inbH/uN+Ro2P/cb8jQA2msiPt3qrbTuXIzg+tSbH/uN+Ro2P/cb8jQA2inbH/uN+Ro2P/cb8jQBDFbxQNK0S7TK+9znO5sAZ/ICpKdsf+435GjY/wDcb8jQA2inbH/uN+Ro2P8A3G/I0ANop2x/7jfkaNj/ANxvyNADaKdsf+435GjY/wDcb8jQA2inbH/uN+Ro2P8A3G/I0ANop2x/7jfkaNj/ANxvyNABH/rF+oq9VJFYSLlWAyOoq7QA2T7v4j+dLSSfd/EfzpaACivPLG6t5NZYWdxr51p9QkX98959jaNZjuA8z9wQIweE5445Bpzywy61qJtJPEb60t26weWb02YwRtBz/o23HX8e9AHoNFH1ooAKaP8AWH6D+tOpo/1h+g/rQA6iqupXv9n6bNdCIzNGvyRA4MjHgLntkkCsv/hILu1GoDV7G3tGtI0mRlvQ0bIxYAu7KoQgqcjkY6E9KAN6iuW0vxhJq2nCWyt7C8me7NtGbDURPbv8m8sJdg4A4I28HjmnHV9Y/tLUEvrK0WxiWG3T7PfOZGmkxkf6pcD5xyG4wDjJ4AOnorGg1TUJ7qNrXTY30okobprvEvHG4RlcFeOu/PfBrn7v4hWej28UM97phvXQ3TQ3+ppav5UjMyKgIJdtuABgDoMigDuaKbG4kjVwCAwBGaivbuOwspbmUMyxjO1BlmPQAe5OB+NAE9Fc/wD27qERu4dT0uKB4oVkQQXhffvbYik7FKsSDnGQOME9pZdfgsLRzMmwW8kiPvlLbYoxlpGY8/dweepIGec0AbdFcx4a8a2niXU57azm02dEi85GsNSS6ZVyBiVVGI254ALA4PPFas2r+VDeyLBu+zTLAg34812C8dOOXA79DQBpUVgjXr430JXTI/7OkumtftBuv3m4MVDCPZgrkHncCPQit6gAooooAKKKKACiiigBr/dH1H86fTH+6PqP50+gBsn3fxH86Wkk+7+I/nS0AZ40a3FmtuHkGy4a5SQEbkcuXODjp8xH0OKsWlnHZrKIix82VpW3HoWOTj2qxRQAUUUUAFNH+sP0H9adTR/rD9B/WgDP1uxm1KG3tY3kijM6vLLGwDRhQWUjOcneF7H3qpJ4XWWzRG1W/N4syzG/PlGVmUFRlTH5eME8BAOcjnmt2igDOs9Fgs50mE080itI+6VgdzPjJPHYLgegpseiRJeSztdXEiyXQuhCxTajhNuBhQcdDyTyBjjitOigDGtPDi2kM0A1TUJLZ0ZIYHdAturDGFKoCevG8tipBoQj1Jbm11C8tosKJLSIp5UpUAAnKlgcAD5WUHHOa1aKACszxDBLcaJNHBbXFy+VYJaypHKCGBDIX+XcCAQGIBxzWnRQBz+j6LO1u8+ry3LXEs8cuJ3RpAIwNivsATOcsQgAyeM9TebQrR21BmMpOoDEh34KDaB8vp0z9a0qKAKem2MthAUuNRu9Qcn/AFt15YbHYYjVV/TPqTWdL4d8u5muo76+nUTG6isWeMRCXBPXaGIJ5wzEA4xjFbtFAGHo/h06eLd7rULu7MKgxwTMnlwuRhmXaoYk5P3i2M8YrcoooAKKKKACiiigAooooAa/3R9R/On0x/uj6j+dPoAZMcQkjqMfzqt58n979KsT/wCpb/PeqdAEnnyf3v0o8+T+9+lc1H4ovJNW+wHwprKMNrNK0lnsVCxUPxPnHBOAM8dKsDxJEbsL9gvRZmTyhqG1PJL7tuPvb+vG7bt96AN3z5P736UefJ/e/So6KAJPPk/vfpSec+c7ufpTKKAJPPk/vfpR58n979KiZgqlmOABkn0psMyXEEc0J3RyKGU4xkEZHWgCfz5P736UefJ/e/So6KAJPPk/vfpR58n979KjqraahBehfKLBmjWXYw5CsSAfTnBoAvefJ/e/Sjz5P736VVnuVt2hVgzNNJ5ahR3wTn6YBpJr63t2lE0gUwxedJwflTnn9D+VAFvz5P736UefJ/e/SolYMoYdCMjIxS0ASefJ/e/Sjz5P736VEzBVLMcADJPpTYZkuII5oTujkUMpxjIIyOtAE/nyf3v0o8+T+9+lR0UASefJ/e/Sjz5P736VHRQBJ58n979KPPk/vfpUdFAEnnyf3v0o8+T+9+lR0UASrK7OoY5GR2q3VGP/AFi/UVeoAjn/ANS3+e9U6uT/AOpb/PeqdAGckUg8TzylG8s2cah8cEh3JGfXkfnWIs0v9jL4c+w3ovFAiMn2Z/J2Bv8AWebjZjAztzu7YrrKKACiiigAooooAyfFMUdx4Wv4Z7U3cUsWx4VgMxKkgEhACWwDnABPFc/e6ZpRmm0qTw9JOiRqulwJYt9nhXaPmDBdkThicklWwBjNdtRQBg64vkafp9vfRXN3Zbwl35EDzM4CHG5UBYqWxngj14zWJDb6fb2EJk0m4/sS6uJSbS1tHmUYwkatFGD+7IDHGNoOM4rrNR0iz1XyvtizZiJKtDcSQtg9QSjAlTgZU8HHSrUUUcEKRQoscaKFVFGAoHQAUAZvh2wXT9K8qK1+xwtKzw2oAAgQnhQBwPXA4GcVgXdlZQ6nq2pf2PKs0l3HFdz21g/nSW4QfdZV3SAsMELk447V2lFAGH4b0+1s/tc2maf/AGbZXDKYrYQ+TkgHL+XxtLZ6EA/Lkisy40ezu9Y1eVdJEd7dTQ2r3YtCjtAVUsRLjkEBgcHjCg44rr6KAOF1nSn01L5tFtFsLae6jW4Eemy3KygISWaGJld9zMASCc7ecjNbfh2wk0PwzIGRHyXmSCxsjbKgxwqQs7bemcE9SeB0rfooA4AaXp82iavOmjNOk9uIZZ30uWKe5BIDeZEw3TMoAbdt/wB0damutI0yRrjSh4fkaWMBdLC2LLb2qbRh0fGyJgxYnkPx0PFdzRQByGq6bOdN1DUoIWGoGYRxTtavNJFEuEZlRSrHIDH5CGIPB6VP4O086dDNIwgRb5g6R2mkS2KDA5Zo3dyGOeS20nHTvXUUUAFFFFABRRRQAUUUUAOj/wBYv1FXqox/6xfqKvUARz8wtj2/nVXY/wDcb8jVyT7v4j+dLQBS2P8A3G/I0bH/ALjfkau0UAUtj/3G/I0bH/uN+Rq7RQBS2P8A3G/I0m1v7rflV6mj/WH6D+tAFTY/9xvyNGx/7jfkau0UAUtj/wBxvyNGx/7jfkau0UAUtj/3G/I0bH/uN+Rq7RQBS2P/AHG/I0bH/uN+Rq7RQBS2P/cb8jRsf+435GrtFAFLY/8Acb8jRsf+435GrtFAFLY/9xvyNGx/7jfkau0UAUtj/wBxvyNGx/7jfkau0UAUtj/3G/I0bH/uN+Rq7RQBS2P/AHG/I0bH/uN+Rq7RQBTRWEi5VgMjqKu0x/uj6j+dPoAbJ938R/OlpJPu/iP50tAHN/arj/hDZJvPk80XLKJN53Y+0kYz9OPpVObxDqlq2tQw+HtY1BIp5BHdW89qEUbFOB5k6sMf7v0rVbwzE16ZP7QvhZtL5zacGTyDJu3bs7d/3udu/b7VoR6dFFFdxqz4u3Z3yRwWABxx7UAGlO0mjWTyMXdreMszHJJ2jk1bqK2gW1tIreMkpEiopbqQBjmpaACmj/WH6D+tOpo/1h+g/rQA6sS51eSO/kjsrNrmdpxaoGuCqHEfmFiMEKBnBIBJ98AVt1Rt9Jgt7pbhXkZ1MpG4gjMjBmPT2AHtQBiHXdduH0xYNOsYXe5lW+D3zEJHESGKHyvnGcdQnpxnIr6b8RtL1TU5IbO60y4txBJMpttSSa4UIMkyQqPkGOh3E5IBANbqaDBHPbSJcXAWCKWJo8qVmEhBYt8uc5GcqRTLfw/5WnzWdzql/ewyAIonMf7tBj5BtQZGBjLZbHegCnc+IzZWi3fiC1TT4o4Wu2K3n+rUBRhzhVyWcjBJXjOfSvo/jmDWFuhaf2feyRuiwjTdSW6SQvuwrMFARhtJI5wOQTV8adLq8l9Lfw3FgJAkMGJE8xBGxYSDaWUZYggHPAGR1FSTaA8+mRW02sag11DJ5keofuhMrYIzt8vy+hIxsxz0oAo3mqeJ0Wyhj0nT4bqe8Eb/APExZo/KA3llbyck4UggquCeCetT/wBsXUrSro1gt1dO7sVuLxo4lRWKBi21iu4qcBVOcEn1q4NFxNZTHULxpbQuS7MjefuGCGyuAOARs24x6ZFV5PDEe63NpqeoWXlQiCQQOn+kIM4DlkJBySdybTz1oAhbxHfT20Z03So5Z/sxnlS4u/KSIhtu0sEYnO18ED+HnGa2rK5N5p9vcmNojNEshjY5K5GcGqv9iWq211BGZI47mFYCFI+RFUgBePc9c8mtBQFUKowAMAUARXl3DYWU13dyCOCCNpJHPRVAyTXKab8QrTVPtxsjpt75EHnQpp+ppcu2SFCSBRiNiSAOWHXniurvLWO+sprWbcI5kKMUbBGe4PY1Sg0VktEhvdSvdQKzLL5lx5YY7TlVwiKuM47ZOOTQBWOtajHcPDNptunkR+fcuLwlYoyWxj93kthScYA7bu5ZDrerzPbxf2PAk1xGZgj3pxGg253kRnByxAA3dOoycaM2kwTx3ySPJi+wJSCMgBQu0cdMD9TUj6fG9xPPvkWSaEQZUj5FG7leOvze/QUAZKa/qM0UEkGkxMt5IVtQ13guAGO9vkO1cKp4yfm6ccq2v6gElkGlRvEkwtlK3XzSy7lUhRs+6CX5JH3enPGpFpsEM1q6bgLSEwxLkYAO3n6/KB+dMj0mCKK0jDyEWsrTLkj53IbJbj1cnjHNAGVdeIdVtorhl0eCU2ez7TtvTjLDJWPMfzsAV4O0HdjNX9O1K+udTurPULCK18pEliaK483cjFgNw2rtb5TwCw96mbSYGhkjZpCJbkXLnIyzBgQOnT5QPoKnhtEhuri4UsXuCu7d2CjAA9up+pNAE9FFFADX+6PqP50+mP8AdH1H86fQA2T7v4j+dLTZjiEkdRj+dVvPk/vfpQBboqp58n979KPPk/vfpQBboqp58n979KPPk/vfpQBbpo/1h+g/rVbz5P736UnnPnO7n6UAXKKqefJ/e/Sjz5P736UAW6KqefJ/e/Sjz5P736UAW6KqefJ/e/Sjz5P736UAW6KqefJ/e/Sjz5P736UAW6KqefJ/e/Sjz5P736UAW6KqefJ/e/Sjz5P736UAW6KqefJ/e/Sjz5P736UAW6KqefJ/e/Sjz5P736UAW6KqefJ/e/Sjz5P736UAW6KqefJ/e/Sjz5P736UAWX+6PqP50+qiyuzqGORkdqt0ARz/AOpb/PeqdXJ/9S3+e9U6AKP9rwf2Ul9sk2OwQR4G/eW27cZxndx1qjF4m33zRyaPqEVos5txfuYTCz79nRZDIBu4yUFMSzn/AOEj+ymFxYxym+EmPlLsNuzPruLP+Vc/Ba239rSrBb66dWGovIFlS8+xhfOzuw/+j42c5XnPTmgDv6KKKACiiigCK6uEtLKe5kDssMbSFUGSQBk496jkv4o2tVwztdNiNVAzjGST7AdT9PWpLqLz7SaIjIkjZcfUYrlJ4tUk8JtfKkttetBFCim3eV4IgV3ny1ZWJPJIUhsYxyKAOwqNLiN7iSBWzJEFLjB4Bzjnp2NcXomgM0Ecc0UBtL25WeSK10qSwjARSctG7swZnK5ztJ29D1pf7L0+6vpLdNElivY7pWtpmsmSO0hQhQ0cmAq/Kh+VTk5GRigDtiQqkk4AGSaZBPHc28c8J3RyKHQkEZBGRwaz9WujceGZ5rBZZ/tEW2PykJYhuMgfQ5rnfJtbK1vNR0LR7m1t5okgkIspkllbPMrRKBK+0cZxuOTzjmgDtqK8/sLAabo9+L2y8q3urpQF03RJUidQobMlsrO5DFiGPGcc45pupaXPDpmnWNrYWtlp0vmGSzOizXtuzkgKDDHIvlDHzYbKgk55GaAPQiQASeAOtVNO1D+0oGnS1ngiJ/dPNt/fLjIdQGJAP+1g+1ZU2kvH4EOkXEcd60lv9nZBB8h3nH3CWwoz0JOAOtZF5o+kxTT6O/h1pkjRV0yGOxP2aIbRlw4HlxPvLEkkNwMZoA7eiuUuNF+0295Nc2zT3bNHZwTOhLIm0I0i5+79+Q7h274pl54X0vdrDrokMsRt0VYDBuW4lAY7yuMO3KjcckYPNAHXUVDaQfZrKCDcW8qNU3Mck4GM02/ONNuT5P2jETfudu7zOD8uO+emKAJIJ47mLzIG3JuK5xjkEg/qDTWukS+jtcMZJI2kGBwApAOf++hXnt7plvB4fstI0fQreO3W0E6RXGhTTQzyEfMGiUxqj/KOZCDzwOtbMemX0d1bCdZJbC3hgspoRG26X5cl855TcygjuAcnAIIB19FcLpthqd/4nR72aJfsN1JKofRZkkiQ8bI7lpfLKkKgIReQBkA8juqACiiigB0f+sX6ir1UY/8AWL9RV6gCOf8A1Lf571Tq5PzC2Pb+dVdjf3W/75oAbRTtj/3G/I0bH/uN+RoAbRTtj/3G/I0bH/uN+RoAbRTtj/3G/I0m1v7rflQAlFO2P/cb8jRsf+435GgBtIyq6lXUMrDBBGQRT9j/ANxvyNGx/wC435GgBoAVQFGAOAB2op2x/wC435GjY/8Acb8jQA2inbH/ALjfkaNj/wBxvyNADaKdsf8AuN+Ro2P/AHG/I0ANop2x/wC435GjY/8Acb8jQA2inbH/ALjfkaNj/wBxvyNADaKdsf8AuN+Ro2P/AHG/I0ANop2x/wC435GjY/8Acb8jQA2inbH/ALjfkaNj/wBxvyNABH/rF+oq9VJFYSLlWAyOoq7QA2T7v4j+dLSSfd/EfzpaACiucW5uDZxaT58n2oXv2dpd53+Uv7zcT1yY8DPq1YFtJcprMl59k16I/wBpNG2ozakXstnnbdog85scfLnylwecjrQB6FRXHtYFYdY1yHUNQjvbaeZkDX8zQbU6J5JYxgEDHCg85BzzXXq25A3TIzQAtNH+sP0H9adTR/rD9B/WgB1FVry8+yNb7o90c0wiZ842ZBwffLYH41zWseP7LSfISWbS7aSfe8f9pamlorxK+3cpZTuJ6gYx6sM0AddRXMz+Jbm7tLqTSrVPs8enC8F084yu9HKhU2kMcqOpA579KvaVqt/PdLa6tYxWryQ+dA0Vx5vmIMA7htXawLDgbhz1oA2KKzNV1G7tJre202ziurm4DlFmuDCg2gH5mCsQOewNZGp+MxpukW97PHp1oXd0m/tLU1tY0ZG2siuVO9sg44AI6kUAdVRXOzeJ5mlsTp9lBLBdQxzbrm7EDuHBIWIFSJGGOQWXGRzzVrSbzVrjWdWh1C2tYrS3mVbZ4rlndgUU/MpjUDrn7zckjtkgGxRXIXHi280W01C48RJpVmi332azeTUtkbfLkeY7xqEGBnjcecDPGZrLxhJq9lbNoVtY6hcTmVd0OohrYNHtziZUO5Tu6hc54IHOADqaK5268S3UdnZSwWFuslwCZReXnkRxlTtKK+xgz5zgHbkDqKpap8QtO0vWl0+4n02F49guIbrU44rkFwCBHFg+ZjIzyPbdQB19FIc7TtAJxwCcVzGma5r1xp4M2m2cl/cvJJbRR3reUIQeGeQxAr1AGFYnOfXAB1FFYEev6hd2qJp+lxSajh/Ogmu9kUW1yhzIEYnJU7cJzjnFV/8AhJRPqemxhHS4mt3cWIkGXkztAJ6FRtkOfYcZwKAOnopqFjGpkAV8fMFOQD7HAzTqACiiigBr/dH1H86fTH+6PqP50+gBsn3fxH86Wkk+7+I/nS0AUhpVuutNqg3+e0Pk4z8oGc5x6ngZ9AKzU8K7b13k1rUpbJ5zcf2cwgEIYvv6rGJCN3OC5/Lit+igDBPhYPfTyTavqMllPKZn04+SINxOTyIxIRkZwXIPQ8cVvUUUAFNH+sP0H9adTR/rD9B/WgCG/so9QsJrSZnVJVxuQ4ZT2YHsQeR9KpXehLLHbixv7vTJIIxEJLTyyWjH8JDoy4464yMnBGa1aKAKD6PBIt4HkmP2y3W3kJbJ2gMMg46/MeTmqsOhTWcjzwalc3NwdscTXZQiCLcCyLtQZyB1bJPHNbNFAGNrWl3Oo6hYta3VxZCJZd1zbFN8ZIAHDqynPPVTTG8LxL9mNrqN9avCrJI8bRlrhWbcwcshxliTldp561uUUAYc3hdJLe3tY9U1CG0ihWCS2R4yk6KMANuQleOpQqTWjBp4t9SubtLiYrcBd0B2+WrAY3DjdkgAdccdKt0UAZU+gpNJcut/eQtNKJozGU/0eQLtLJlT1HUNuHtUtrpIgktZZ7y5u57ZHXzpym6TfjJIVQP4R0AHtWhRQBkXWgGaCOK11XULFVLb/s7RnzVZiSpDowHXqAG96P8AhH0iuoZLHUL2yhQKJLaFkKThQFG4spYcADKlScc5rXooAr28U/2VlvJQ8jsxynAUEnAH0GBmsr/hGNlvYpb6xqNvJZxeQJ4zDuljyPkYGMr2HKgN79a3aKAMWbwzEZYXsdQvtPEcQhkW2kU+egJOGLqzZyxO5SrZPWpzoFngiPzIyDEYyhGYvL+6F49znOc7j61p0UAFFFFABRRRQA1/uj6j+dPpj/dH1H86fQAyY4hJHUY/nVbz5P736VYn/wBS3+e9U6AJPOk/vfpR58n979KjooAk8+T+9+lHnyf3v0qOigCQzv2P8qTznzndz9KZRQBJ58n979KPPk/vfpVa6uFtLOa5dWZYY2kZUGSQBnj3qOS/ija1XDO102I1UDOMZJPsB1P09aALvnyf3v0o8+T+9+lR1GlxG9xJArZkiClxg8A5xz07GgCx58n979KPPk/vfpUdFAEnnyf3v0o8+T+9+lR0UASefJ/e/Sjz5P736VHRQBJ58n979KPPk/vfpUdFAEnnyf3v0o8+T+9+lR1HJcRRSxRyNh5mKoME5IBJ+nANAFjz5P736UefJ/e/SqsdyktxNCgY+TgM/wDDk87fqBg/iKmoAk8+T+9+lHnyf3v0qOigCTz5P736UefJ/e/So6jluI4XiWRtrTPsQY+8cE4/IGgCysrs6hjkZHardUY/9Yv1FXqAI5/9S3+e9U6uT/6lv896p0ARfaoPswuPPj8ggMJd42kHvnpVOLxFolxqr6XBrFhLqEZIe0S6QyqR1BQHI/KstFzqCaD/AAx3RuiP+mAO9fw8whfotZoi1NIGuLi9sX0tdWYrarass5b7ScYlMhB+bnAQEjjI60AdTda3pVlfw2N7qdnb3c/+qt5bhUkk/wB1Scn8KvVys90bTSNZmtrKyvp47qVr2G8n8oGPquSEfPybcAjBHcV08Tb4UYLt3KDj0oAfRRRQBFdRefaTREZEkbLj6jFcpPFqknhNr5Ultr1oIoUU27yvBECu8+WrKxJ5JCkNjGORXYUUAcPomgM0Ecc0UBtL25WeSK10qSwjARSctG7swZnK5ztJ29D1pf7L0+6vpLdNElivY7pWtpmsmSO0hQhQ0cmAq/Kh+VTk5GRiu3pGVXUq6hlYYIIyCKAGW88d1bxzwNujkUMjYIyD35qSgAKoCjAHAA7UUAFFFFAGX4ikkj0dyiXDxmRBMLVGeTytw37VX5icZ+7z6c1yF3aJFZ3U3h2z/s6xe5SGWNdLlnUoqlmJt4mR/mdwGxzx8wxmu51DTbbVLYQXYk2hgytDM8TqfUOhDDqRwe9SWtrBZWyW9rGI4k6KDn3JJPJJPJJ5NAHK6R4bX7PZ2GoW9vNZAy3JgisWtrdSwCKghZnwMFyVJ6noOlPtLlpoorRdPvkMV5JcXW+0dFG0syqpIAfnYAVyOK62igDjZNCNlFa3tlp+dXjs55pLlUzI0jL/AKvceo3OSFzj5elO020s49S+3aFpFxbt9n2ebPavC08rtjfIHAYlQnLMM4bg812FFAHKaxFp8N5ZWGo2VxqFpFE8kqR2r3Akkc7QXVQeD+86jb644pkGgk2aW8unqyWVpI9tbSqGjWSRyyx4PynYFUegyPauqS3iS4knVcSyhVds9QM4H6n86koA8+0PT7mFbvVbpneT7OYJ5LPQp7S7lZiMsxklZpdvJG1T3256Ustk9r4fuLjRLBdPS5nTz5otHnBmjAJLPaqyyMc4Un7xB6YFegUUAcXovhtfLt7W+t7eSxYyXRgg097SAEqEVPJZ2xkF2Kk8k8gU6w0DThf6FFd6LHi2hnntt9luW1ZnDKgbbiPaCcDI6cdK7KigB0f+sX6ir1UY/wDWL9RV6gCOf/Ut/nvVOrk/+pb/AD3qnQAzyYhcGcRp5xXYZNo3Fc5xn0yelUIvDmhwas2qQ6Np8eoOSzXaWqCViepL4z+taVFAFK60bS769hvL3TbS4uoP9TPLArvH/usRkfhV2iigAooooArajefYNOmuREZmjX5IgcF2PAXPbJIFZn9vXVt9vGrWNvataxpKjLeBkZGJALMyqEIKnI5GOhNW9ZsZdRht7aN5IozOryyxsAyBQWUjOcncF7H3qrJ4ZWWzRG1S++1rKsxvj5RlZgCB8pTy8YJ4CAc5HPNAFPTPF0mq6eJbK3sbyZ7o28ZsdQE9u/ybywl2DgDqNvB45px1bV/7Sv0vbO1WxjWG3TyL1zI0z4yP9WuB845Ddgcc8atpo0NpOkwmnlkVpH3SsDuZ8ZJ47AYHoKamixpdyzNc3EiyXIuhExXajBduBhc46HknkDtxQBFBqd/PdRtbadG+lklDctdYl443CMrgrx13574qodcvfspfStMS4PkC7k+03pQKrEkAHa3OBkDAA6ZFWrXw8trFNANTv5LZ0ZIoGdAturDGFIUE9eN5bFQR+HXnuriSe7u7e3kfY1pE6eXNEqhVDHaWHQn5WXrg0AVdR8WWmmSNf3tzDbQNHFDCl3crBH5rgudzNwMLt55PXAOcVqeHNcj8QaSL2I2rASNGWs7kXELEd0kAG4fgOcjFF1oKTqTbX13ZT+cZhcW5QspKhSMOrKRgAYIPT15rShj8mFYzI8hUYLucs3uaAH1zba9qNpPrFzqEFhDp1rIsVvK99sBbAyzlkAQfMMkM3QgA9+krEl8NLJhotUvoHW6e5jdBETGX+8o3RkFTk8kFhngigDMi8YRX+n6dcPNbJ596YgbC7FxHPtHSOQBd4LFV6DvngVqXuryW3zS2TNcQw+aIY7jqzNsRD0BLc9eAR361Kvh2zELRSNNKrRyxkyPk/vH3sc4znOOfYVM2kQvMJZZZpH3RMSxHzeXnbnj1JP1/KgCiuu36TXFtdaZGt0roltHDdb1l3BiNzFBsICktw2B0J6Vc0jULu+W4W/s47Wa3kETiKfzUZtoY7WKqSPmA5APXis/XtOnUrPp0GoS3D3PnGWymgWSE7AnSb5Cm3IOckZyAT00tFsZLDTEiuX3zuzSytuLfMzFiMnrjOO3ToKAL9FFFABRRRQAUUUUAOj/1i/UVeqjH/rF+oq9QBHP/AKlv896p1dlG6PB7kD9aj+zJ/eb9KAK1FWfsyf3m/Sj7Mn95v0oArUVZ+zJ/eb9KPsyf3m/SgCtRVn7Mn95v0pPs67yNzdBQBXoqz9mT+836UfZk/vN+lAFairP2ZP7zfpR9mT+836UAVqKs/Zk/vN+lH2ZP7zfpQBWoqz9mT+836UfZk/vN+lAFairP2ZP7zfpR9mT+836UAVqKs/Zk/vN+lH2ZP7zfpQBWoqz9mT+836UfZk/vN+lAFairP2ZP7zfpR9mT+836UAVqKs/Zk/vN+lH2ZP7zfpQBWoqz9mT+836UfZk/vN+lAEEf+sX6ir1QeQqEMC2QR1+tT0ANk+7+I/nS0kn3fxH86WgCh/bFv/ZKX+yTY7BBHgb95bZtxnGd3HWqEXinffNFJo2ow2a3BthqDmEws+/Z0WQyAbuMlBTEsrj/AISX7KYXFhHKb9ZMfKXYbdmfXcWf8q52C0tv7YlWC3146uupPIFlS8+xBfOzuAf/AEfGznK856fNQB2VrrlpdtqCxCQPp8jJMjLgnAzuX1B5GfUH0q9DKJoI5UBCyKGGeuCM1y9xY3cNhqF9aW0jXUU9x+5C4a4iY8qM9T0K+4x3NdJYqU0+3VwVYRKCCMEHAoAnpo/1h+g/rTqaP9YfoP60AOorP12J5tBvFiRpJBEWRFBJLDkAAdTkVyvia21GSC3nkVVS9cm6jl0qbUEC4xHC8ULq2OWJJyu7Oe1AHdVFBcRXKs0DblV2jJwR8ynBHPuK5XTvDyxW9vb6pax3dvp9q0iRLaGOEvI5bYkRZ8bQgAXLYyPaq2j21hHd2V//AGZPZ3trn7fe3Fo8bu75HlBmGZFLvkbdyjbx2oA7iisHxVcQJDZ293DcT28k4knS2heV9iDd9xAWYbtgwAetc7dWC22m/YLDR1tLDUbl5YoJNLluIIhtVQslvEV2hzubDlVHfmgD0Co2uIkuY7dmxLIrMq46gYyf1H51wP8AZ8cfhvS9M1PSnuHMTSLZHR3ms2Z2LbCgLCErwBvbaoPU9tvT9F01PF4nk0eNLqy0+GK3uXti5RctuVZyOSOBjdnHbBoA6eiuH1K2sdd1PUYZtLnur55RFZXD2rtFbhBjzFlxsRlcueoY44zxVdbW51bxla3zWEcRt7oiV5tJm+0QqqkjZdM4Xa20ZVEKncRnPJAO8uLiK1t5J522RxqWZsZwKUOxmKeWwUKCJDjBPPHXOR9O9cbf+HtNudBtn1fREvJdQvI3u/MsjcOitJ5m1htJCg4U8YGSTjk0+9hhgbGp6Zcy6TcXEiPbQWTzLhAscStEik+WQGbpt6ZoA693ZWQLGzhmwSpHyDHU5PTtxk80y7uo7Kymup8+XChdsdcAZrktQs4bDTzDp+mzWdolr5UNvGmNrTyBWCKCQCqqTtHTd2pLTS7SW4efRNKmsbO+eCOXfavA021i7yOjAMOAF3MATnuMUAdmp3KDgjIzg9qZJcRRTRRO2HmJCLg84GT+lcJoGl6he+KhqGpPALq2kdpXbQ5oJgDkCIXLylJE5HCKVOAcA1q67a2jeJxqM2h/brywsGe0m+xlyGLchZAp2sABgA7juOAaAOnnmS3t5JpThI1LsfQAZNEEont45QrKJFDBWHIyM4PvXnemaNeOdSktbaCIX8MUKzR6PNaNJvc72mEkheRlVfvNtPPvVrWrfURpFsjptd52j1GWbSpr9bgrwgMUTqxjOSRjKjoR1oA72iuLsPDUS2Udpq9lDe2dnaSOLZLMxW7mRifLWEs4woQAKS2Nw6cV02iWZ0/QbG0YbTDAiFf7pA6fhQBcf7o+o/nT6Y/3R9R/On0ANk+7+I/nS0khwmT0BH86Z58f979KAJKKj8+P+9+lHnx/3v0oAkoqPz4/736UefH/AHv0oAkpo/1h+g/rTfPj/vfpSCZN5O7jA7fWgCWio/Pj/vfpR58f979KAJKa8aSY3orbTuGRnB9ab58f979KPPj/AL36UAIbeJrpLkpmZEKK2TwpIJH/AI6PyqWo/Pj/AL36UefH/e/SgCSio/Pj/vfpR58f979KAEt7eK1hEUCbEBLYyTySSTz7k1LUfnx/3v0o8+P+9+lAElFR+fH/AHv0o8+P+9+lACTW8U7RNKm4wv5icnhsEZ/Impaj8+P+9+lHnx/3v0oAkoqPz4/736UefH/e/SgCSio/Pj/vfpR58f8Ae/SgCSio/Pj/AL36UefH/e/SgBz/AHR9R/On1EZUbAU5OR296loAjn/1Lf571ToooAKKKKACiiigAooooAKKKKACiiigAooooAKKKKACiiigAooooAKKKKACiiigAooooAKKKKAHR/6xfqKvUUUAf//Z)![POS3.JPG](data:image/jpeg;base64,/9j/4AAQSkZJRgABAQEAeAB4AAD/4RD8RXhpZgAATU0AKgAAAAgABAE7AAIAAAARAAAISodpAAQAAAABAAAIXJydAAEAAAAgAAAQ1OocAAcAAAgMAAAAPgAAAAAc6gAAAAgAAAAAAAAAAAAAAAAAAAAAAAAAAAAAAAAAAAAAAAAAAAAAAAAAAAAAAAAAAAAAAAAAAAAAAAAAAAAAAAAAAAAAAAAAAAAAAAAAAAAAAAAAAAAAAAAAAAAAAAAAAAAAAAAAAAAAAAAAAAAAAAAAAAAAAAAAAAAAAAAAAAAAAAAAAAAAAAAAAAAAAAAAAAAAAAAAAAAAAAAAAAAAAAAAAAAAAAAAAAAAAAAAAAAAAAAAAAAAAAAAAAAAAAAAAAAAAAAAAAAAAAAAAAAAAAAAAAAAAAAAAAAAAAAAAAAAAAAAAAAAAAAAAAAAAAAAAAAAAAAAAAAAAAAAAAAAAAAAAAAAAAAAAAAAAAAAAAAAAAAAAAAAAAAAAAAAAAAAAAAAAAAAAAAAAAAAAAAAAAAAAAAAAAAAAAAAAAAAAAAAAAAAAAAAAAAAAAAAAAAAAAAAAAAAAAAAAAAAAAAAAAAAAAAAAAAAAAAAAAAAAAAAAAAAAAAAAAAAAAAAAAAAAAAAAAAAAAAAAAAAAAAAAAAAAAAAAAAAAAAAAAAAAAAAAAAAAAAAAAAAAAAAAAAAAAAAAAAAAAAAAAAAAAAAAAAAAAAAAAAAAAAAAAAAAAAAAAAAAAAAAAAAAAAAAAAAAAAAAAAAAAAAAAAAAAAAAAAAAAAAAAAAAAAAAAAAAAAAAAAAAAAAAAAAAAAAAAAAAAAAAAAAAAAAAAAAAAAAAAAAAAAAAAAAAAAAAAAAAAAAAAAAAAAAAAAAAAAAAAAAAAAAAAAAAAAAAAAAAAAAAAAAAAAAAAAAAAAAAAAAAAAAAAAAAAAAAAAAAAAAAAAAAAAAAAAAAAAAAAAAAAAAAAAAAAAAAAAAAAAAAAAAAAAAAAAAAAAAAAAAAAAAAAAAAAAAAAAAAAAAAAAAAAAAAAAAAAAAAAAAAAAAAAAAAAAAAAAAAAAAAAAAAAAAAAAAAAAAAAAAAAAAAAAAAAAAAAAAAAAAAAAAAAAAAAAAAAAAAAAAAAAAAAAAAAAAAAAAAAAAAAAAAAAAAAAAAAAAAAAAAAAAAAAAAAAAAAAAAAAAAAAAAAAAAAAAAAAAAAAAAAAAAAAAAAAAAAAAAAAAAAAAAAAAAAAAAAAAAAAAAAAAAAAAAAAAAAAAAAAAAAAAAAAAAAAAAAAAAAAAAAAAAAAAAAAAAAAAAAAAAAAAAAAAAAAAAAAAAAAAAAAAAAAAAAAAAAAAAAAAAAAAAAAAAAAAAAAAAAAAAAAAAAAAAAAAAAAAAAAAAAAAAAAAAAAAAAAAAAAAAAAAAAAAAAAAAAAAAAAAAAAAAAAAAAAAAAAAAAAAAAAAAAAAAAAAAAAAAAAAAAAAAAAAAAAAAAAAAAAAAAAAAAAAAAAAAAAAAAAAAAAAAAAAAAAAAAAAAAAAAAAAAAAAAAAAAAAAAAAAAAAAAAAAAAAAAAAAAAAAAAAAAAAAAAAAAAAAAAAAAAAAAAAAAAAAAAAAAAAAAAAAAAAAAAAAAAAAAAAAAAAAAAAAAAAAAAAAAAAAAAAAAAAAAAAAAAAAAAAAAAAAAAAAAAAAAAAAAAAAAAAAAAAAAAAAAAAAAAAAAAAAAAAAAAAAAAAAAAAAAAAAAAAAAAAAAAAAAAAAAAAAAAAAAAAAAAAAAAAAAAAAAAAAAAAAAAAAAAAAAAAAAAAAAAAAAAAAAAAAAAAAAAAAAAAAAAAAAAAAAAAAAAAAAAAAAAAAAAAAAAAAAAAAAAAAAAAAAAAAAAAAAAAAAAAAAAAAAAAAAAAAAAAAAAAAAAAAAAAAAAAAAAAAAAAAAAAAAAAAAAAAAAAAAAAAAAAAAAAAAAAAAAAAAAAAAAAAAAAAAAAAAAAAAAAAAAAAAAAAAAAAAAAAAAAAAAAAAAAAAAAAAAAAAAAAAAAAAAAAAAAAAAAAAAAAAAAAAAAAAAAAAAAAAAAAAAAAAAAAAAAAAAAAAAAAAAAAAAAAAAAAAAAAAAAAAAAAAAAAAAAAAAAAAAAAAAAAAAAAAAAAAAAAAAAAAAAAAAAAAAAAAAAAAAAAAAAAAAAAAAAAAAAAAAAAAAAAAAAAAAAAAAAAAAAAAAAAAAAAAAAAAAAAAAAAAAAAAAAAAAAAAAAAAAAAAAAAAAAAAAAAAAAAAAAAAAAAAAAAAAAAAAAAAAAAAAAAAAAAAAAAAAAAAAAAAAAAAAAAAAAAAAAAAAAAAAAAAAAAAAAAAAAAAAAAAAAAAAAAAAAAAAAAAAAAAAAAAAAAAAAAAAAAAAAAAAAAAAAAAAAAAAAAAAAAAAAAAAAAAAAAAAAAAAAAAAAAAAAAAAAAAAAAAAAAAAAAAAAAAAAAAAAAAAAAAAAAAAAAAAAAAAAAAAAAAAAAAAAAAAAAAAAAAAAAAAAAAAAAAAAAAAAAAAAAAAAAAAAAAAAAAAAAAAAAAAAAAAAAAAAAAAAAAAAAAAAAAAAAAAAAAAAAAAAAAAAAAAAAAAAAAAAAAAAAAAAAAAAAAAAAAAAAAAAAAAAAAAAAAAAAAAAAAAAAAAAAAAAAAAAAAAAAAAAAAAAAAAAAAAAAAAAAAAAAAAAAAAAAAAAAAAAAAAAAAAAAAAAAAAAAAAAAAAAAAAAAAAAAAAAAAAAAAAAAAAAAAAAAAAAAAAAAAAAAAAAAAAAAAAAAAAAAAAAAAAAAAAAAAAAAAAAAAAAAAAAAAAAAAAAAAAAAAAAAAAAAAAAAAAAAAAAAAAAAAAAAAAAAAAAAAAAAAAAAAAAAAEFuYSBNYXJpamEgRXJlxaEAAAAFkAMAAgAAABQAABCqkAQAAgAAABQAABC+kpEAAgAAAAMzNQAAkpIAAgAAAAMzNQAA6hwABwAACAwAAAieAAAAABzqAAAACAAAAAAAAAAAAAAAAAAAAAAAAAAAAAAAAAAAAAAAAAAAAAAAAAAAAAAAAAAAAAAAAAAAAAAAAAAAAAAAAAAAAAAAAAAAAAAAAAAAAAAAAAAAAAAAAAAAAAAAAAAAAAAAAAAAAAAAAAAAAAAAAAAAAAAAAAAAAAAAAAAAAAAAAAAAAAAAAAAAAAAAAAAAAAAAAAAAAAAAAAAAAAAAAAAAAAAAAAAAAAAAAAAAAAAAAAAAAAAAAAAAAAAAAAAAAAAAAAAAAAAAAAAAAAAAAAAAAAAAAAAAAAAAAAAAAAAAAAAAAAAAAAAAAAAAAAAAAAAAAAAAAAAAAAAAAAAAAAAAAAAAAAAAAAAAAAAAAAAAAAAAAAAAAAAAAAAAAAAAAAAAAAAAAAAAAAAAAAAAAAAAAAAAAAAAAAAAAAAAAAAAAAAAAAAAAAAAAAAAAAAAAAAAAAAAAAAAAAAAAAAAAAAAAAAAAAAAAAAAAAAAAAAAAAAAAAAAAAAAAAAAAAAAAAAAAAAAAAAAAAAAAAAAAAAAAAAAAAAAAAAAAAAAAAAAAAAAAAAAAAAAAAAAAAAAAAAAAAAAAAAAAAAAAAAAAAAAAAAAAAAAAAAAAAAAAAAAAAAAAAAAAAAAAAAAAAAAAAAAAAAAAAAAAAAAAAAAAAAAAAAAAAAAAAAAAAAAAAAAAAAAAAAAAAAAAAAAAAAAAAAAAAAAAAAAAAAAAAAAAAAAAAAAAAAAAAAAAAAAAAAAAAAAAAAAAAAAAAAAAAAAAAAAAAAAAAAAAAAAAAAAAAAAAAAAAAAAAAAAAAAAAAAAAAAAAAAAAAAAAAAAAAAAAAAAAAAAAAAAAAAAAAAAAAAAAAAAAAAAAAAAAAAAAAAAAAAAAAAAAAAAAAAAAAAAAAAAAAAAAAAAAAAAAAAAAAAAAAAAAAAAAAAAAAAAAAAAAAAAAAAAAAAAAAAAAAAAAAAAAAAAAAAAAAAAAAAAAAAAAAAAAAAAAAAAAAAAAAAAAAAAAAAAAAAAAAAAAAAAAAAAAAAAAAAAAAAAAAAAAAAAAAAAAAAAAAAAAAAAAAAAAAAAAAAAAAAAAAAAAAAAAAAAAAAAAAAAAAAAAAAAAAAAAAAAAAAAAAAAAAAAAAAAAAAAAAAAAAAAAAAAAAAAAAAAAAAAAAAAAAAAAAAAAAAAAAAAAAAAAAAAAAAAAAAAAAAAAAAAAAAAAAAAAAAAAAAAAAAAAAAAAAAAAAAAAAAAAAAAAAAAAAAAAAAAAAAAAAAAAAAAAAAAAAAAAAAAAAAAAAAAAAAAAAAAAAAAAAAAAAAAAAAAAAAAAAAAAAAAAAAAAAAAAAAAAAAAAAAAAAAAAAAAAAAAAAAAAAAAAAAAAAAAAAAAAAAAAAAAAAAAAAAAAAAAAAAAAAAAAAAAAAAAAAAAAAAAAAAAAAAAAAAAAAAAAAAAAAAAAAAAAAAAAAAAAAAAAAAAAAAAAAAAAAAAAAAAAAAAAAAAAAAAAAAAAAAAAAAAAAAAAAAAAAAAAAAAAAAAAAAAAAAAAAAAAAAAAAAAAAAAAAAAAAAAAAAAAAAAAAAAAAAAAAAAAAAAAAAAAAAAAAAAAAAAAAAAAAAAAAAAAAAAAAAAAAAAAAAAAAAAAAAAAAAAAAAAAAAAAAAAAAAAAAAAAAAAAAAAAAAAAAAAAAAAAAAAAAAAAAAAAAAAAAAAAAAAAAAAAAAAAAAAAAAAAAAAAAAAAAAAAAAAAAAAAAAAAAAAAAAAAAAAAAAAAAAAAAAAAAAAAAAAAAAAAAAAAAAAAAAAAAAAAAAAAAAAAAAAAAAAAAAAAAAAAAAAAAAAAAAAAAAAAAAAAAAAAAAAAAAAAAAAAAAAAAAAAAAAAAAAAAAAAAAAAAAAAAAAAAAAAAAAAAAAAAAAAAAAAAAAAAAAAAAAAAAAAAAAAAAAAAAAAAAAAAAAAAAAAAAAAAAAAAAAAAAAAAAAAAAAAAAAAAAAAAAAAAAAAAAAAAAAAAAAAAAAAAAAAAAAAAAAAAAAAAAAAAAAAAAAAAAAAAAAAAAAAAAAAAAAAAAAAAAAAAAAAAAAAAAAAAAAAAAAAAAAAAAAAAAAAAAAAAAAAAAAAAAAAAAAAAAAAAAAAAAAAAAAAAAAAAAAAAAAAAAAAAAAAAAAAAAAAAAAAAAAAAAAAAAAAAAAAAAAAAAAAAAAAAAAAAAAAAAAAAAAAAAAAAAAAAAAAAAAAAAAAAAAAAAAAAAAAAAAAAAAAAAAAAAAAAAAAAAAAAAAAAAAAAAAAAAAAAAAAAAAAAAAAAAAAAAAAAAAAAAAAAAAAAAAAAAAAAAAAAAAAAAAAAAAAAAAAAAAAAAAAAAAAAAAAAAAAAAAAAAAAAAAAAAAAAAAAAAAAAAAAAAAAAAAAAAAAAAAAAAAAAAAAAAAAAAAAAAAAAAAAAAAAAAAAAAAAAAAAAAAAAAAAAAAAAAAAAAAAAAAAAAAAAAAAAAAAAAAAAAAAAAAAAAAAAAAAAAAAAAAAAAAAAAAAAAAAAAAAAAAAAAAAAAAAAAAAAAAAAAAAAAAAAAAAAAAAAAAAAAAAAAAAAAAAAAAAAAAAAAAAAAAAAAAAAAAAAAAAAAAAAAAAAAAAAAAAAAAAAAAAAAAAAAAAAAAAAAAAAAAAAAAAAAAAAAAAAAAAAAAAAAAAAAAAAAAAAAAAAAAAAAAAAAAAAAAAAAAAAAAAAAAAAAAAAAAAAAAAAAAAAAAAAAAAAAAAAAAAAAAAAAAMjAyMjowMTowNCAxNjo1Mjo1NAAyMDIyOjAxOjA0IDE2OjUyOjU0AAAAQQBuAGEAIABNAGEAcgBpAGoAYQAgAEUAcgBlAGEBAAD/4QsjaHR0cDovL25zLmFkb2JlLmNvbS94YXAvMS4wLwA8P3hwYWNrZXQgYmVnaW49J++7vycgaWQ9J1c1TTBNcENlaGlIenJlU3pOVGN6a2M5ZCc/Pg0KPHg6eG1wbWV0YSB4bWxuczp4PSJhZG9iZTpuczptZXRhLyI+PHJkZjpSREYgeG1sbnM6cmRmPSJodHRwOi8vd3d3LnczLm9yZy8xOTk5LzAyLzIyLXJkZi1zeW50YXgtbnMjIj48cmRmOkRlc2NyaXB0aW9uIHJkZjphYm91dD0idXVpZDpmYWY1YmRkNS1iYTNkLTExZGEtYWQzMS1kMzNkNzUxODJmMWIiIHhtbG5zOmRjPSJodHRwOi8vcHVybC5vcmcvZGMvZWxlbWVudHMvMS4xLyIvPjxyZGY6RGVzY3JpcHRpb24gcmRmOmFib3V0PSJ1dWlkOmZhZjViZGQ1LWJhM2QtMTFkYS1hZDMxLWQzM2Q3NTE4MmYxYiIgeG1sbnM6eG1wPSJodHRwOi8vbnMuYWRvYmUuY29tL3hhcC8xLjAvIj48eG1wOkNyZWF0ZURhdGU+MjAyMi0wMS0wNFQxNjo1Mjo1NC4zNTE8L3htcDpDcmVhdGVEYXRlPjwvcmRmOkRlc2NyaXB0aW9uPjxyZGY6RGVzY3JpcHRpb24gcmRmOmFib3V0PSJ1dWlkOmZhZjViZGQ1LWJhM2QtMTFkYS1hZDMxLWQzM2Q3NTE4MmYxYiIgeG1sbnM6ZGM9Imh0dHA6Ly9wdXJsLm9yZy9kYy9lbGVtZW50cy8xLjEvIj48ZGM6Y3JlYXRvcj48cmRmOlNlcSB4bWxuczpyZGY9Imh0dHA6Ly93d3cudzMub3JnLzE5OTkvMDIvMjItcmRmLXN5bnRheC1ucyMiPjxyZGY6bGk+QW5hIE1hcmlqYSBFcmXFoTwvcmRmOmxpPjwvcmRmOlNlcT4NCgkJCTwvZGM6Y3JlYXRvcj48L3JkZjpEZXNjcmlwdGlvbj48L3JkZjpSREY+PC94OnhtcG1ldGE+DQogICAgICAgICAgICAgICAgICAgICAgICAgICAgICAgICAgICAgICAgICAgICAgICAgICAgICAgICAgICAgICAgICAgICAgICAgICAgICAgICAgICAgICAgICAgICAgICAgICAgCiAgICAgICAgICAgICAgICAgICAgICAgICAgICAgICAgICAgICAgICAgICAgICAgICAgICAgICAgICAgICAgICAgICAgICAgICAgICAgICAgICAgICAgICAgICAgICAgICAgICAKICAgICAgICAgICAgICAgICAgICAgICAgICAgICAgICAgICAgICAgICAgICAgICAgICAgICAgICAgICAgICAgICAgICAgICAgICAgICAgICAgICAgICAgICAgICAgICAgICAgIAogICAgICAgICAgICAgICAgICAgICAgICAgICAgICAgICAgICAgICAgICAgICAgICAgICAgICAgICAgICAgICAgICAgICAgICAgICAgICAgICAgICAgICAgICAgICAgICAgICAgCiAgICAgICAgICAgICAgICAgICAgICAgICAgICAgICAgICAgICAgICAgICAgICAgICAgICAgICAgICAgICAgICAgICAgICAgICAgICAgICAgICAgICAgICAgICAgICAgICAgICAKICAgICAgICAgICAgICAgICAgICAgICAgICAgICAgICAgICAgICAgICAgICAgICAgICAgICAgICAgICAgICAgICAgICAgICAgICAgICAgICAgICAgICAgICAgICAgICAgICAgIAogICAgICAgICAgICAgICAgICAgICAgICAgICAgICAgICAgICAgICAgICAgICAgICAgICAgICAgICAgICAgICAgICAgICAgICAgICAgICAgICAgICAgICAgICAgICAgICAgICAgCiAgICAgICAgICAgICAgICAgICAgICAgICAgICAgICAgICAgICAgICAgICAgICAgICAgICAgICAgICAgICAgICAgICAgICAgICAgICAgICAgICAgICAgICAgICAgICAgICAgICAKICAgICAgICAgICAgICAgICAgICAgICAgICAgICAgICAgICAgICAgICAgICAgICAgICAgICAgICAgICAgICAgICAgICAgICAgICAgICAgICAgICAgICAgICAgICAgICAgICAgIAogICAgICAgICAgICAgICAgICAgICAgICAgICAgICAgICAgICAgICAgICAgICAgICAgICAgICAgICAgICAgICAgICAgICAgICAgICAgICAgICAgICAgICAgICAgICAgICAgICAgCiAgICAgICAgICAgICAgICAgICAgICAgICAgICAgICAgICAgICAgICAgICAgICAgICAgICAgICAgICAgICAgICAgICAgICAgICAgICAgICAgICAgICAgICAgICAgICAgICAgICAKICAgICAgICAgICAgICAgICAgICAgICAgICAgICAgICAgICAgICAgICAgICAgICAgICAgICAgICAgICAgICAgICAgICAgICAgICAgICAgICAgICAgICAgICAgICAgICAgICAgIAogICAgICAgICAgICAgICAgICAgICAgICAgICAgICAgICAgICAgICAgICAgICAgICAgICAgICAgICAgICAgICAgICAgICAgICAgICAgICAgICAgICAgICAgICAgICAgICAgICAgCiAgICAgICAgICAgICAgICAgICAgICAgICAgICAgICAgICAgICAgICAgICAgICAgICAgICAgICAgICAgICAgICAgICAgICAgICAgICAgICAgICAgICAgICAgICAgICAgICAgICAKICAgICAgICAgICAgICAgICAgICAgICAgICAgICAgICAgICAgICAgICAgICAgICAgICAgICAgICAgICAgICAgICAgICAgICAgICAgICAgICAgICAgICAgICAgICAgICAgICAgIAogICAgICAgICAgICAgICAgICAgICAgICAgICAgICAgICAgICAgICAgICAgICAgICAgICAgICAgICAgICAgICAgICAgICAgICAgICAgICAgICAgICAgICAgICAgICAgICAgICAgCiAgICAgICAgICAgICAgICAgICAgICAgICAgICAgICAgICAgICAgICAgICAgICAgICAgICAgICAgICAgICAgICAgICAgICAgICAgICAgICAgICAgICAgICAgICAgICAgICAgICAKICAgICAgICAgICAgICAgICAgICAgICAgICAgICAgICAgICAgICAgICAgICAgICAgICAgICAgICAgICAgICAgICAgICAgICAgICAgICAgICAgICAgICAgICAgICAgICAgICAgIAogICAgICAgICAgICAgICAgICAgICAgICAgICAgICAgICAgICAgICAgICAgICAgICAgICAgICAgICAgICAgICAgICAgICAgICAgICAgICAgICAgICAgICAgICAgICAgICAgICAgCiAgICAgICAgICAgICAgICAgICAgICAgICAgICAgICAgICAgICAgICAgICAgICAgICAgICAgICAgICAgICAgICAgICAgICAgICAgICAgICAgICAgICAgICAgICAgICAgICAgICAKICAgICAgICAgICAgICAgICAgICAgICAgICAgIDw/eHBhY2tldCBlbmQ9J3cnPz7/2wBDAAcFBQYFBAcGBQYIBwcIChELCgkJChUPEAwRGBUaGRgVGBcbHichGx0lHRcYIi4iJSgpKywrGiAvMy8qMicqKyr/2wBDAQcICAoJChQLCxQqHBgcKioqKioqKioqKioqKioqKioqKioqKioqKioqKioqKioqKioqKioqKioqKioqKioqKir/wAARCAESAN8DASIAAhEBAxEB/8QAHwAAAQUBAQEBAQEAAAAAAAAAAAECAwQFBgcICQoL/8QAtRAAAgEDAwIEAwUFBAQAAAF9AQIDAAQRBRIhMUEGE1FhByJxFDKBkaEII0KxwRVS0fAkM2JyggkKFhcYGRolJicoKSo0NTY3ODk6Q0RFRkdISUpTVFVWV1hZWmNkZWZnaGlqc3R1dnd4eXqDhIWGh4iJipKTlJWWl5iZmqKjpKWmp6ipqrKztLW2t7i5usLDxMXGx8jJytLT1NXW19jZ2uHi4+Tl5ufo6erx8vP09fb3+Pn6/8QAHwEAAwEBAQEBAQEBAQAAAAAAAAECAwQFBgcICQoL/8QAtREAAgECBAQDBAcFBAQAAQJ3AAECAxEEBSExBhJBUQdhcRMiMoEIFEKRobHBCSMzUvAVYnLRChYkNOEl8RcYGRomJygpKjU2Nzg5OkNERUZHSElKU1RVVldYWVpjZGVmZ2hpanN0dXZ3eHl6goOEhYaHiImKkpOUlZaXmJmaoqOkpaanqKmqsrO0tba3uLm6wsPExcbHyMnK0tPU1dbX2Nna4uPk5ebn6Onq8vP09fb3+Pn6/9oADAMBAAIRAxEAPwD6BooooAKKKKACiiigAooqG8uksrR7iVWZEwSEGTjOKAJqKzrrWoreWWGKCe6mQhVigCkyPjO0EkAEDBJJAGRzUCeIkljtvJ0+9e4n35tgqB4ijBXDEttGCeoYg9s8UAbFFYeneInuruOGewuY4riWRbe72qIn2lsD727JVc52hT2NblABRWZqOt/YLjyYdPvL91UPMLRUJhQ5wxDMpPQ8LubjpTJ9bjt7hxHDeXUjS+QkESJyypvJBJGByASxwDjp1oA1qKxV8SLLYwy2+mX81zKX/wBCURiVNjbW3EuEAB/2ue2a0tPvY9RsIruFJEjlG5RIu1sZ647UAWKKiuriO0tJrmbIjhQu2PQDJrKXxNGFujdadf2nkQeegmRMzp/sBWJzkgbW2nJHFAG1RWLceJPs0LO2k6gxjy06IIiYI+fnb58YIGdoJbH8NTS66F1BbaDT726jDiOa6gVDHAxAIDAsHPDA5VSBnnHNAGpRWQviKA3YRrS6S2dWaK9ZUEMpUEkD5t3QE5KgHHBNQp4oDxzMdI1GMJaG7i8xYl89BjIXL/KRkcPtoA3aKpaNeXN/o9tdX9nJZXEqBngkKkof+Asw/Wpb+9j06wlu5w7JEuSsa7mb0AHck8YoAsUVjJ4jjJuEuNPvreaF0VIZEQtPvztKbWI52n7xBGCTgUR+JI2tt02nX0Fz54tzZuiNKHK7h91ipGOchsDvjBoA2aKyLXxNp0qQLfyLpd1cTNBHaX0saSvIp5VQGIY9Puk9a16ACswaznSY7oQfvnlEHkb+km/YRnHQHJzjoK06xV024HiUuUH2BSbpTuH+uK7CMemMt9WoAgj8Qan9rMk+mWiaabs2qTJfM05bzPLBMRiAxn0cnFJJr+rRz3c50m0bSrWVkedb9vPwvDN5Ri28c8b+g9eKx4NB26zM8PhH7NqTXrS/27i2XdGZd33lcynKfLtKgHoeK2LTwpaPqF1e6gt40kl28iwtfzGBlz8p8kP5fbPK9eetAHRUUUUAFV9QtPt+m3Fpv2edEyB8Z25GM471YpHdY42eRgqKCWZjgAetAHN614Ot9WtLOJ00+5a2ZmYapp63cchYgs2wsuHOOCDxk8GtCy0KHTUKWAhto1thBDHDAsaRcsSwVcDkkcDHSpbDXLHUrqW3tWmEsY3ETW0kW9f7yF1AdeRyuRV7zE83yt6+Zt3bM849celAGFa6PqVjHbiS8hvfsm2O0QW/lCNeFLud53sFzyNo56d636Kb5iCQRl13kbgueSPXH4igDHvNFu73V0nmvLc2kbB0Q2f7+MjHCTbuFOORtJ5PNWLTSPst0k7T+YyiX+DGWkfcT19gKvXE8drbyTztsijUs7HsBUgORQBx1/Bf6bexWuky3P2mS0ELMdOeSOU5Y7xKG2REMxJ35yOgNdTZWzWduluGUxRIqRgKQQAMcnPP5CrFFAGbrsM11pv2S2LK1xIkZcJuCLnLEj0wCPxqBNFuph5mq30dxcs8ZZobcxJsRtwVVLMRk9SWOa2aKAOY1DwTY6l4lOqXlppF0j7S4vNLSadSoAASUn5V46FTyTgiri6FdSawbq9vbeWJC3k+VZ+XOAQRsaXcQyjPQKvQZzW3RQByOl+ALHTo7gLbaPHPJGYUurPSUgm8s43b3DEsxHUjaOelbWpaQ99He+VciJ7i1FvGWj3CPkkkjIznIyMjp1rUooAr2ZujG/20Rhg2E8tcZUADJGTjJyQM8AjvSXtp9sjiQvtRJklYYzu2nIHtyB+VWaKAMa+0W7muGu7C/jt7wTiWN5rcyxgeXs2FQykjknIYcmpbXR2hu4rm4ujPMrPJKxTbvkYBQQM8AKCAOeDySck6lFAFewtPsVr5RfzGLu7PjG4sxY8fjViiigAooooAKKKKACiiigAqtf6haaXaG61Cdbe3UgNK/Cpnux6Ae54qzRQBxTahHDDc6i2uNcadNJHEmrytGqwxsSzhXUKmwYUB8dTySRxreGbe3We/uLK4uLi2LrDDJcTvMSqjJw7ksRudupPtxit+igAri9VutOsde1fVJb6WG6toorXa2oNHHCHGfMZGJjRTkfOVPKnGTXaUUAcBp8moz6TeQW4jke5vY4oI31Sa8iYBRK7CWRA20rxgDb6dabrOr3LLZQLdQbL2MvKL3WJdOeSbO3yo2jjY5XaQUUg9M7ua9BooAqaXFcw6Tax37iS5SJRKwYtlsc8kAn6kDPpVuiigAooooAKKKKACiiigAooooAKKKKACiiigB2x/7jfkaNj/ANxvyNXaKAKWx/7jfkaNj/3G/I1dooApbH/uN+Ro2P8A3G/I1dooAo7W/ut+VLsf+435GrY/1h+g/rTqAKWx/wC435GjY/8Acb8jV2igClsf+435GjY/9xvyNXaKAKWx/wC435GjY/8Acb8jV2igClsf+435GjY/9xvyNXaKAKWx/wC435GjY/8Acb8jV2igClsf+435GjY/9xvyNXaKAKWx/wC435GjY/8Acb8jV2igClsf+435GjY/9xvyNXaKAKWx/wC435GjY/8Acb8jV2igClsf+435GkKsOqsB7ir1Rz/6lqAJKKKyhrWdHjuxb/v3mEHkb+km/YVzjoDk5x0FAGrRXNx+ItU+1mS40qzTSzeG0SeO/Zpy3meWCYjEBjPo5OKde6v4ktNVhhXRtKltZ7gRRuNVkExTPL+X9nxkLkkb8cYzzQB0VFFFADR/rD9B/WnU0f6w/Qf1p1ABWWdfs1tYJ3WVRMhfbtyyAccgHruIUAZJJGK1K5y78IQ3eiXljNJDO1xL5gN1bCWIKHLrG0ZOGQZORkZyTkdgCwviVBDMbnTL+2niljjFtIsbSSbzhWXY7DBwepBGDkCoH8UTQ3cvnaRe/ZohEJmURk2rMMnzD5mCACvCbiOe1Lo3hKz0aG2W2t9NtGjmM8y6bYLaxyvsKg7QTjAJ6lj7086Hf/abjztQjmsJpjcParbbZXbIITzC+NuAoxtycfexxQBvVDd+Z9jlMMnlOFJDiMyFfoo6n0H8+lLamc2sRuwgnKjzBHnaG7gZqvqcGpTwp/ZF/DZzK2Sbi28+Nx6FQyH8mH40AYOj65JDayyyXWo6vDLcCG1FxapDc79pZkaPbHtAAGN6qepPGDVq78TyKAlppd4SzrD9odUMUczMF8tsPuJBPJUFcgjdV210YwXUNzNc+dKrSSynZt8yRgF3DngBQVA54PX1rWmg3sFzEtxqcctlBcvcQwLbbXO7ccO+47sM2QQq9BnPWgDdrG1TxGmmTTINOvrwWyLJcSWyIVhQ5+Y7mGcBckLk4I4NbNc3FpOpX9zeST3iwWF5OxmtWtT5rKuEAEm7CqypkjaT83BFAF648QxQXiRJZ3c8BkWKW7iVfKhZiAA2WDHkgfKGxnnFMPiOPErR2F7IiSNDG6hAJ5QxXYmXBzwTk4XA61nW/gSwh8TS6tLZ6NMzSmeOZtJT7WkhJOTPnkDPGFBAA5q/c6LeHRbaxsL21Xy12zfbLL7RHPnqSm9SDnJ+935BoAU+I2+xxuNG1I3r7sadtiEwCkZJYv5eORzvwc8E01/E8RtoXtNNv7yaaJ5RbQogdNrBWVi7KoOc9W52nGaYPD9/aSW7aTqsdvth8mcTWvm7l3Fhsw67CCxAzuAGBjirMWhC3hukt7llaa2FujsuSmNxLHnklnJPSgC/ZXcd/YQXcIYRzxrIocYYAjIyPWoNT1MadEmy1nvbiUkRW1vsDyEDJwXZVHHqwq3DEsEEcMYwkahVHoAMVma3pd7qflJbXVmlv0mgvLH7Qr+6/Ou1h6ncPagBk2vwx28dzNDfW+yBp5LYxLv67QjDk7ix42nBx1I6oniaP/SUuNNvraeBkVIJEQvcb87Sm1yOdp+8VIwScDmnDQAJEJundV8hf3g3MViJYAnPJLHJP6Vn+IYJrGZL63muBcPdiSOSPTpLxEHl+XsaONg2CCxDZABPPuAbGlaqNUSbdZXNlLA4jlhuQm5GKhsZRmU8Ecgkc9auT/6lqztCtb23ske9dRLO8k06Mg37mbKjIOBtXAIweg5450Z/9S1AElYa6XcjxOZCg/s9WN0p3D/XldhGPTGWz6tW5RQBwVvoG3W5nh8H/ZtTa+eX+38Wy7ozLu++rmY5T5dpUA9DxWrFqWqp4gnkufCmrSgyeRBcRzWnlRxZ+9gzh+fvH5c8AYOK6iigAooooAaP9YfoP606mj/WH6D+tZfiW8FloMzNcNa+YVhE6nBi3MAXz2wCTntigDWori7Zo5zP/YOrXdxY6hNBHFc/bHnBfLNK0TsTxsAHy/LnoOtZ13NqM3iltIsbq2RrWZfs0c3iC4juVTgtI0AibzlOT99yuAB8uDQB6LRXEjUre88QT3VhqUuoXNqJG8i0v5B5IVSRFNa/dGcY3EbyTxis3R7/AFW+iur5b+ykaWH7NJJYa3LeL57sqriNokSEqSeF59QetAHo7MqIWdgqqMkk4AFCsGUMpBBGQR3rh9asLa2ttXt7nU79bOZbaCeSbUZVCyO+GYNuHljaVyF2qc9K7S1t47S0it4TIY4kCKZJWkYgerMSWPuSTQBLTY5ElTdE6uuSMqcjIOD+tVtVmS30e8ml37I4HZtjFWwFJ4IwQfcV51f3drpmg2uk6PfNdtFZi7Cy+Ip4HuCw3b4nQSSSAEHjIQZ59gD0triJbpLcv+9dGdVx1UEAn/x4VLXIM97/AG5GlzMVs1jhsJ7pHIk80rvI6fKGLKCwOc4Ax1rKtNV1G+8USTSXNmgsZpDPHDrM7ywwLn5XsxDtyQByzE5OQegoA9Eork/CstvfanPd2mqPqX7vEtxb6i1xbSNn/nmflicYPyp2POeK6ygAooooAKKKKACiiigAqOf/AFLVJUc/+pagCSio/Pj/AL36UefH/e/SgCSio/Pj/vfpR58f979KAJKKj8+P+9+lHnx/3v0oAcP9YfoP61FPaJcTW8khbNvIZFAPBO0rz+DGnCZN5O7jA7fWl8+P+9+lAElFR+fH/e/Sjz4/736UASUVH58f979KPPj/AL36UASUVH58f979KPPj/vfpQBJRUfnx/wB79KPPj/vfpQBJRUfnx/3v0o8+P+9+lAElFR+fH/e/Sjz4/wC9+lAElFR+fH/e/Sjz4/736UASUVH58f8Ae/Sjz4/736UASUVH58f979KPPj/vfpQBJUc/+pajz4/736U2WVGjIU5P0oArUUVzD61fxyadCHVnjuJRfEqPmiRvLz7cujfQGgDp6K5q9m1C/kihttUuNPS41F4Ulto4i6okbZA8xGHLoeSCafLb6pcW11Ytrl5azWZEiXltFBvmQqcBw8bLnIOSqrnA6cigDoqKx/DNveR6PBPqGr3mpyXMUcpNykK+WSoJC+VGnHPfNbFABRRUN5dJZWclzIrMkYyQgyTQBNRWd/bdsZ7mJFld7eVIiFUfOzdl55xzn0wfSqVp4m8y7WO6sbiO3lmlSK92qsOE3cHLbuQhO7bt96AN6isc+J7C4tYptEP9uCbcYxpsscgIU4Y7ywQAE4+9n0zVdPFP/EuW6/s+6ut26VktkUGGHcdrvvYc7RnAy3oKAOgorD/4SJ11q7t5dPuEsbeFHF5+7ZZHboiqHL5ORgbev4ZeniNPJkNxpt9bzpMkQtXWNpH3fdYbXK4OCevGDnGKANmisObxQkGTJpWo7Y5EjuGVI2FuzBSAcPlvvAfJu5/OnprouVuIZbS+0+eOWOICRYy58w4V1wzLjqeeRg5FAGzRWNF4lhlvYYvsN4lvM8kaXjqgiLJuyPvbsEKSG27cd6B4lhDTGeyvIIUga4inkRQtwi4ztAYsDyOGC5zxQBs0VXsrp7u3817We15IVJ9oYjscKTgH0OD6gVWk1u2inSF1l3vc/ZlAUfewDu6/d5HPuKANGisS88QPHNbrYWNxeGQynyolXfIqcZUsyqAWIwWIBH1FPTX7WaGG6X7UitbrN5Plrlt52qpHJ3ZBAAOOtAGxRWFL4huFt4j/AGRfW1y9ysQtp0RmcYLEqUcr0U87uD97FaOl6iNUsftH2ae1YO0bwXAXejKcEHaSp5HUEigC5RRRQAUUUUAFZQ0KL+0NSuWlLC/jEZjxxH8uGI+vH5Vq0UAYdxod+NL0+HTdQt4byyk8wz3No0qSMVYMSiyIRncT9786uWOmSW8Fwbu5+03d1zLMI9i9MAKuThR6ZJ5PNaFFAEFjbfYtOtrXfv8AIiWPdjG7AAzj8KnoooAKq6lZnUNLuLRZWgM0ZQSqMlCe+KtUUAZUWhJBf/aYpiAluIo0Zc7XG794Tnk/MfzPrUtvpS2/2ACXcllCY1Ur95iAN2c+gP8A31WhRQBk6hpd/PqJutO1GO08yDyJQ9t5pwCSrIdw2kFj1DA8cVk3PgHTrrV4bq4tNJu4UjjjYXulpPMNgAGyVj8o4zgq3JJGM11lFAHP6l4YOp2uo21xNaSw3c0c0UVxZCVFKqo2yKWxIvyjj5ceven6P4WtNHjtltbfT7XypGmlTT7FbaOSQrtDbQTjAJ6lj71u0UAZw0n9wkbz7v8ASzcyHZ9/5iwXrxg7f++aZJo7PeNc/afmM5nA2dD5WxR17cn61qUUAZMugRy2NvZtM3kw2r2/C8ksoXfz3xu4/wBqszSPA9npdrKqWuj288rIHl03Sltd8auG2NhiSTjBOce1dTRQAViXHhwTteuLyRJLqeOVX2g+SFKkqv1K5z7j0rbooAoDTPLmkkt5BF/oq28KhOIgM89eeo44+7VGXw7KtuPsF6kFxE0RgeSDzEQRoVCsoYFh8zHgjr7Vu0UAZ8Gn3P2m2uL68W4lhV8hIti7mxyBk4AAIwST8x5qxYWn2KzWEv5jbmZnxjczMWJx9TViigAooooAKKKKALP2ZP7zfpR9mT+836VNVP8Atex22bG4UC9fy7fIIMjbS2MdjhT19KAJvsyf3m/Sj7Mn95v0qjqPiLTtLRmuWuHKzCApbWctw5crvwFjVmPy85AwKs6bqlpq1qZ7J3Kq21klieJ0brhkcBlOCDggdaAJfsyf3m/Sj7Mn95v0qaigCD7Ou8jc3QUv2ZP7zfpUg/1h+g/rTqAIfsyf3m/Sj7Mn95v0qamtLGjojuqtIcICcFjjOB68AmgCP7Mn95v0o+zJ/eb9KmooAh+zJ/eb9KPsyf3m/SpqKAIfsyf3m/Sj7Mn95v0qaigCH7Mn95v0o+zJ/eb9KmooAh+zJ/eb9KPsyf3m/SpqRmVELOwVVGSScACgCL7Mn95v0o+zJ/eb9KlVldAyMGVhkEHIIpaAIfsyf3m/Sj7Mn95v0qamySxwpvldY1BA3McDk4H60AR/Zk/vN+lH2ZP7zfpU1NeRIyod1Uu21cnG4+g9+KAI/syf3m/SmyQKkZYFsj1qxUc/+pagCSuMe0km1e9t1jYjRy91b8cM8jCRcfTa6/Q12dFAHGzLe3Vjo1zpFzb21ze6hJcpLdW7TIFaOQrlFdCfkwPvDHvXRaTp9zZLPLqF1HdXly4eWSKHyo+FCgKhZiBgd2J960KKACiiigBo/wBYfoP606mj/WH6D+tOoA5HUr+6iutSKzXEdvY3sM0rAn5kIi/dr7H5iQP60+4sjf3ZGq3N1ElvbPdXCwXLRFDIcKodSGXaqH7pGevc11dFAHKSyazpnhmO4n1OH7MtgsZSS3drgTMAAxm8zBwSONmeOtU4Xhm+0N4e1q7vLa8WK3N0L1p1MzPhmiYkqpVAxITC5xxkGuwubVLryfNLARSrKAD94jpn2zz+AqegDiNSk05L670q61i/huoAGsLOLUJVnnYjd5gw26Qbm24OUULyAKnvba5vrW6nuNQvY5opYbW3FtcvEgmG0F8KRu+dyCDlSF6V2FFAHEi9t9U1T9xq90dbhvdn2GG6dRbxCTB8yEHbtKKTucHJb5T0FT2viO1vUjgg1IS3H22WS7SOUlraOMs2x+fk4VRtOM5NdfRQBy2m2U66ppNzNfXz3U0Mk9xG9y5i2HnZ5edowzjBxuwuM11NFFAGNrt1cWt3potPMaSaV4lVc7SxjYgtjsMZ/CsVWu7zQ5bZ7u4YLI+nCVm+aWR5SjOex2r07Zz6V2dFAHG3Tx6C+oN/al1bae08ENxc3N00i2xKlncM5IjBBReMKCcgCtLw0baOW5FhfXF1YTMGtWubp5y5A+dkdyWZOV7kdccV0FRm3iNyLgpmVUKBiegJyQPyH5CgDC1qW7bVzY2Us8b3Nk37xCdsQVvmYdg3IA78j0qkhm1y000yTzxx3zxsgV8ERRLvL892fAz1wR0rrqKAPPr++TT7E6XFeysLm5mNst9rUtsZEU7TGs4DzMdwZgF5x3A4NnT7eHULrwsmrXdyl4lpJeRRDUpgXPy4U/Mvm7VYgllJI69TXcUUAFRz/wCpapKjn/1LUAHnx/3v0o8+P+9+lVKKALfnx/3v0o8+P+9+lVKKALfnx/3v0o8+P+9+lVKKALQmTeTu4wO31pfPj/vfpVSigC358f8Ae/Sjz4/736VUooAt+fH/AHv0o8+P+9+lVKKALfnx/wB79KPPj/vfpVSigC358f8Ae/Sjz4/736VUooAt+fH/AHv0o8+P+9+lVKKALfnx/wB79KPPj/vfpVSigC358f8Ae/Sjz4/736VUooAt+fH/AHv0o8+P+9+lVKKALfnx/wB79KPPj/vfpVSigC358f8Ae/Smyyo0ZCnJ+lVqKACiisVvEaINND27b724aBwGz5JXIJPHI3AL2+8KANqisO/1u+RvK0qwt7mdrw20YubpoUbEe9mLLG5GMEYwenUUx9d1EWjQDTYF1fzhAsBuiYNxQuG8zZnbgH+DORjHegDfoqrp1zcXVmHvLb7LcKxSSMNuUEHqrYG5T1BwPoKtUAFQX15HYWM13MGZIULFUGWPsB3J9KnrM12C5u7e3tbRjG0k6lpfL3rGE+fLDI4JUDGR1oAii8RxFrpLuxvbOS32FY5kVmmDkhSmxmzkgjBwR3ApI/EatDN5+m31tdRuqCzlEZkkLZ27SrlOcHqwxg5xUcmhX8tv576nD/awkSQXItD5I2ggL5W/O35mON+cnr2ouND1GW1bZqNq91OwNybqw82GVcYCiPeCoHb5j1Oc0ASN4hcWcbjRtSN5Juxp+IhMApG45MgjIGRyHIOeM0t14jjtrdZk06/nAjEs6RxqrWyEZy4ZhyMH5Vy3tVe58OXUttb2kN9bG0RcSR3NkJSDkndEdw8sjOBkMAAMD1rXngawvvEI1C7tdJvIyE3/AG7TEnuAVAA2TMflHGcFTySQRQBqy64F1Fba30+9uow6xy3MCoY4GIBAYFg54YHKqQM845psOvpNdsg0+9W0CsVvyqGF9ucjhiw6HllAPYmol0O8fWDd3V9bukZYwNFZiOdQQflaTcQyjPTaOgznvFD4cumW7bUL62ea5jMLSWtn5G9CRkuN7b2wMZ4AycCgC5BrEIs3dxcsybMLIqh3MgBVQBgZ5x26fjRb69HcajHbrZ3SwzZEN4yp5UrAEkD5t3QE5KgHsTT20eN9Xe9eQlTEqLCFwFYbhvz67WwPTn1rK8N+C7Hw/dtcrZ6P9oClI7iz0tLebaeu9wSWY45I2g+lAHRTzC3t5JmDMI0LkL1OBniqB1+0EkyASloYFnbCjnd0Qc8t049x61oTxedbyRE4Eilc+mRisi08OJbS2DNcvKLSMh96jM7kghyfYgnH09KAGDxG66lJDJp109t9qW2W5jRdkbEL97LZPzEjKAgY5qVvFGmyrjSpl1eXzmgMWnyxyssiqWKsdwCnj+Ijkip4tJ8uG0jafd5E7XEh2Y8xjuPrxy2e/QVV1G11O71xJNNuY7T7NBtD3FsZUfe3zAAMvICDnPG7kGgB0XiSOeG2MOn3rzz+Zm22oHiKMFfcS20YJ6hiD2zxToPEUU9/FCLG8S2nyIL51QQykAnA+beOFJBKgHsTUlpoqWrSZmeQPB5WSAGyWZnfPTLFs9B0qnBoGoGzEGoarHP5MTRWphtfK8vK7Q7/ADnc4BPI2jk8egA+38U280imWyvba2kt2uI7qZFCOq4yAAxYHkdVAPYmnx+I0zcC702+szDEZkE6p+/TIGV2ucHJAw208jin3+h/bE2xXHkeXAIoMJu8shlbOM8j5FGOOAeeagm0PUbqyla61SFtRYJsnS0Kwx7HD48ouSQSBn58nsRQBdvdZt7B5Fljmdo1jYiNNxO99igDOScg0ul6p/aX2hXsrmylt5PLeK52Z6AggozAggjvn1Aqtb6LcfaBcX98txMZ1mfZB5akKhVUA3EgBiW5JNaFpafZmuHL73nmMrHGMcAAfgABQBYooooAK53+w7l9U1N3VRC0ZNm2Rw74Z+O2HRT+NdFRQBzM+gS6jpulQ3yXERFy9zdfZrt4HjZlckB42DfeYDg8/SrF7pkWk6P5dhpLapB5nmXEDy+bPLgcMHlb5nBC/eboODwK3qKAM7Qo7qPTf9NjliLOzRwzS+ZJEhPyqzZOT+J9MnGa0aKKACiiigAprSojoruqtIcICcFjjOB68AmuW1G/uorrUds1xHb2V5DNKwJ+ZSI/3a+x+YkD+tPnszfXZGqXN1ElvbPc3CwXDRlDIcKodSGXaqH7pHr3NAHUUVwrXVu8Eem63q95DeQ2sRtbaG7eKe4crkuNhDS4J2kcjg5HNT3NzHd6xa2Nxq8kmoQiJXtbS+eCeJ8DdIYRxKhJyS/ygDgGgDs6K4PTr7U9X8X8T2Qe2uGEsUWszGSKEEgK9oIggJAHzM2ecg4wK7ygAooooAKKKKACiiigAooooAKKKKACiiigAooooAKKdsf+435GjY/9xvyNADaKdsf+435GjY/9xvyNADaKdsf+435GjY/9xvyNADaKXa391vypdj/3G/I0ANop2x/7jfkaNj/3G/I0ANop2x/7jfkaNj/3G/I0ANop2x/7jfkaNj/3G/I0ANop2x/7jfkaNj/3G/I0ANop2x/7jfkaNj/3G/I0ANop2x/7jfkaNj/3G/I0ANop2x/7jfkaNj/3G/I0ANop2x/7jfkaNj/3G/I0ANop2x/7jfkaNj/3G/I0ANop2x/7jfkaQqw6qwHuKAL1FFctJrd/HJpsKurPHcyi/JQfNEjeXn2OXRuOwNAHU0Vx2v6y8Fskt54i/sGyl1J4PtuYE8tEjYbd0yMvMiHqM84FV7nW7n/hG/Mg129uLU30cUOrafZpcTzxFQSVRInR/myNyx4wD6E0AdzRWD4Uv5r60uRLd3V4kMoSOa+thb3DDaCfMj2Jt5JxlFyO3c71ADR/rD9B/WnU0f6w/Qf1qK9u0sbOS5lVmSMZIQZJoAnorN/t21M9zCiyu9vKkRCqPnduy8845z6YPpVG08UeZeLHdWNzFbTTTJFelVWHCbuDlt3KoTu27fegDoKKx28S2dxpsd7oSPr0UhbYdLkikU7ThvnZ1Tj03Z9Aajn8U28drFcW1je3aNAtxL5KL/o8ZBIZ9zDsD8q7m46UAblFZNrrf/EvMl7Ey3MaxB40X77uoIVMn1OOfQ9uabH4jhkvliNndpbSKxivnVBDKVBJA+bd0BOSoUgcE0AbFFc6/ie4dbR7PRb+T7QGkWFljEksYQHK5kAX5mUfOV7+orZ0+9TUbCK7iSSNZB9yQYZCDggj1BBFAFmiisuPxDZyTW8ZEiNPC83zqAI1XruOeM4OPoaANSiucufFbW1xK40u9ntYoIpJTFGu6HfuJLbnA4UKdq5bnpV261+O2vlhWyu54fNWGW6iVfKgdiAA2WDHkgfKGxnnFAGtRWMviSORHeLTr6Rd5jgwqf6S4LAhAXz/AA53NtXBHNXtM1AanYi4EE1s25keCcLvjYHBU7SR17gkehoAt0Vmya7axTpC6S+Y919lUBR97AO7r93kc+4qreeIXjmtl0+wuL0ymU+VEq75FTjKlmVQCxGCxAI+ooA3KKwpPFUI0+G7ttOv7oPCs8scKIGt4z/E+5gOMHhSSccA0658Tw29wUi0++uYo5o4priFE8uIuFKk7mBI+YZ2gkdxQBt1HP8A6lqkqOf/AFLUASVkjQIv7Q1O5aVmGoRCMx44j+XDEH34/KtaigDKt9FMNvpaNc73sXMjvsx5zFGVj14yXJ71XvdBuzatHpN/Baul2LqD7RbGZIzzuUqHQkEknqME9xxW7RQBm6Tp13aNPcaneRXd7cbRJJBAYYwFGAFQsxHUnlj1/CtKiigBo/1h+g/rVfU7I6jpdzZrM0DTRlBKoyUJ749qsD/WH6D+tOoAyIdAS31D7TFOQEtxFGjLna43fvCc8n5z+Z9amttJW2OngS7ksYTGqlfvMQBuzn0Df99Vo0UAcz4l8IDxJdH7XJYzWjQeX9nvbAXPlvzh49zBVPPOVbOByKll8N3W64gtNRjg0+5jRZYDbbpBtVUwr7gApVcY2k8kgiuhooAzX0aOTWpL6SUlWiVFhC4CsNw359drYHpz61g6T8PbHTIrrZbaNFcSxNBHd2WkJbzBG4be4Yl2I6kbRz0rsKKAMe/0rUZdSjutM1KG0CwiApLa+bhc5JU71w33cE5HHINaVnax2VnFbQ52RKFBY5J9z7mpqKACsCPwrGkMEb3byBLlppSyDMqHcBH7KMge4B9TW/RQBmPpHmQ3KNPzc3SzyHZ1VSvydf7qAZ+vFY0XgSyj8ST6rJa6NLI8jTxTvpKG7SQ5OTPuyQM8YUEAAZrrKKAOZ1vwbb6vpWnWjJp1x9gG1V1PTxdwvwATsLLhuOGB4yeua1dG09dKtzY2tpbWllAFWCO3hWIE9WbavAGTwMdjWjRQBh3HhoTtfOt7Ikt1PHKj7QfJVSpKr9Suc+49KuDS/Lnlkt5BF/oq20ChOIQM89eeq8cfdrQooA5C5+H2m3WsQ3dzZ6PdwpFHGwvtKSecbFAHlysfkHGcFW5JIxmtxdHAt1iM2R9s+1SEJjf825V68Ywo/wCA1p0UAFRz/wCpapKjn/1LUASUUUUAFFFFABRRRQA0f6w/Qf1p1FFABRRRQAUUUUAFFFFABRRRQAUUUUAFFFFABRRRQAUUUUAFFFFABUc/+paiigD/2Q==)"
      ],
      "metadata": {
        "id": "hYlf_029X_dz"
      }
    },
    {
      "cell_type": "code",
      "source": [
        "X_val_numpy=np.array(inputs_str[:100])\n",
        "x_val_tensor = tf.convert_to_tensor(X_val_numpy)\n",
        "x_test_numpy=np.array(inputs_str[100:200])\n",
        "x_test=tf.convert_to_tensor(x_test_numpy)\n",
        "partial_x_train_numpy=np.array(inputs_str[200:])\n",
        "partial_x_train = tf.convert_to_tensor(partial_x_train_numpy)\n",
        "X_val_numpy"
      ],
      "metadata": {
        "colab": {
          "base_uri": "https://localhost:8080/"
        },
        "id": "TJhZIP2Sy39Q",
        "outputId": "a7a0f837-ee57-4d33-b7f0-aba04cca3647"
      },
      "execution_count": null,
      "outputs": [
        {
          "output_type": "execute_result",
          "data": {
            "text/plain": [
              "array(['CD NNS PRP VBP IN PRP ', 'CD CC VBG ', 'CD NNS ',\n",
              "       'CD : NNP IN NNP ', 'CD NNS ', 'CD NN ', 'CD NNP NNP ',\n",
              "       'CD : DT NNP NNP ', 'CD ', 'CD JJ NNP ', 'CD NNP . ',\n",
              "       '( CD ) NNPS IN NNP ', 'CD ', 'DT JJ JJ NN ', 'IN DT NN ',\n",
              "       'NNP NNP ', 'DT NNP ', 'NNP NNP : NNP NNP ', 'NN . ',\n",
              "       'DT NNP NNP ', 'DT NNP IN NNP NNP IN DT CD NN ', 'NN ', 'NN ',\n",
              "       'NNS IN NNP ', 'NNP NNP CD ', 'NN . ', 'NNP NNP : DT NN ', 'NN ',\n",
              "       'NN : NN ', 'DT NN ', 'NN : NNP NN . ', 'NN : NN ', 'NNS ',\n",
              "       'DT IN NNP ', 'DT IN NNP ', 'RB JJ ', 'RB IN DT NNP ', 'NN ',\n",
              "       'NNP NN NN NN NNP ', 'NNP NNP ', 'NNP NNP ', 'JJ NNP NN ',\n",
              "       'NNP NNP ', 'DT NNP NNP ', 'NNP NNP ', 'NNP NNP ', 'NNP NNP ',\n",
              "       'DT JJ NNP IN NNP ', 'DT NN ', 'NN DT ', 'IN DT ', 'NN ',\n",
              "       'NNP NNP ', 'NNS CC NNS ', 'NNP NNP ', 'DT NNP NNP ', 'JJ ', 'NN ',\n",
              "       'DT NN ', 'NN RB ', 'NNP NNP ', 'NNP IN NNP ', 'RB JJ IN PRP VBZ ',\n",
              "       'NNS ', 'DT NN ', 'IN NNP NNP ', 'JJ NNS : NNP NNP IN NNP ',\n",
              "       'JJ NNS : DT NNP NNP VBD NNP ', 'NNP IN NNP NNP ', 'NN ',\n",
              "       'DT NNS ', 'NNS ', 'NN ', 'NNP NNP ', 'NN ', 'NNP NNP ',\n",
              "       'NNP NNP IN NNP NNP ', 'DT NNP NNP : NN IN NNP : NNP NNP ',\n",
              "       'NNP NNP ', 'IN DT NNS ', 'VBN ', 'NNP NNP ', 'JJ ', 'JJ NNP ',\n",
              "       'NNP ', 'NNP ', 'NNP NNP ', 'NNP VBD JJ NNP ',\n",
              "       'DT NNP IN NNP NNP ', 'DT NNP ', 'NN ', 'NNP CC NNP NNP NNP ',\n",
              "       'VBG NNP ', 'VBG NNP NNP ', 'VBG EX ', 'DT NNP ', 'VBN ', 'JJ ',\n",
              "       'NNP IN DT NNP NNP NNP ', 'JJ NN '], dtype='<U33')"
            ]
          },
          "metadata": {},
          "execution_count": 12
        }
      ]
    },
    {
      "cell_type": "code",
      "source": [
        "list_ratings= df['\"rating\"'].tolist()\n",
        "list_ratings[:3]\n",
        "list_int_ratings=[]\n",
        "list_float_ratings_linear=[]\n",
        "for i in list_ratings:\n",
        "  num=''\n",
        "  for j in i:\n",
        "    if j!= \"\\\"\":\n",
        "      #print(j)\n",
        "      num+=j\n",
        " # print(num)\n",
        "  if num==\"?\":\n",
        "    num='5'\n",
        "  rating=int(round(float(num)))\n",
        "  rating_linear=float(num)\n",
        "  #print(rating)\n",
        "  list_int_ratings.append([rating])\n",
        "  list_float_ratings_linear.append([rating_linear])\n",
        "\n",
        "list_int_ratings_numpy= np.array(list_int_ratings)\n",
        "list_float_ratings_numpy_linear= np.array(list_float_ratings_linear)\n",
        "list_int_ratings_numpy[:3]"
      ],
      "metadata": {
        "colab": {
          "base_uri": "https://localhost:8080/"
        },
        "id": "CyKgFKSuCcmm",
        "outputId": "613c4358-c402-4376-bfe8-d9ad02153f1d"
      },
      "execution_count": null,
      "outputs": [
        {
          "output_type": "execute_result",
          "data": {
            "text/plain": [
              "array([[7],\n",
              "       [8],\n",
              "       [8]])"
            ]
          },
          "metadata": {},
          "execution_count": 13
        }
      ]
    },
    {
      "cell_type": "code",
      "source": [
        "y_val_numpy=np.array(list_int_ratings_numpy[:100])\n",
        "y_val_tensor = tf.convert_to_tensor(np.array(list_int_ratings_numpy[:100]))\n",
        "y_test_numpy=np.array(list_int_ratings_numpy[100:200])\n",
        "y_test= tf.convert_to_tensor(y_test_numpy)\n",
        "partial_y_train_numpy=np.array(list_int_ratings_numpy[200:])\n",
        "partial_y_train = tf.convert_to_tensor(np.array(list_int_ratings_numpy[200:]))\n",
        "\n",
        "y=list_int_ratings_numpy[:]"
      ],
      "metadata": {
        "id": "e87pmL5eCrX0"
      },
      "execution_count": null,
      "outputs": []
    },
    {
      "cell_type": "code",
      "source": [
        "#possible POS tags:\n",
        "array_of_tags=['CC','CD','DT','EX','FW','IN', 'JJ', 'JJR','JJS','LS', 'MD', 'NN', 'NNS','NNP', 'NNPS', 'PDT','POS', 'PRP','PRP$','RB','RBR','RBS',\n",
        "               'RP','TO','UH', 'VB', 'VBD', 'VBG', 'VBN', 'VBP', 'VBZ' , 'WDT', 'WP', 'WP$', 'WRB']\n",
        "\n",
        "array_of_ratings=[]\n",
        "array_of_ratings_counter=[]\n",
        "for r in array_of_tags:\n",
        "  array_of_ratings.append(0)\n",
        "  array_of_ratings_counter.append(0)\n",
        "\n",
        "\n",
        "for ind,tag in enumerate(array_of_tags): \n",
        "  for ind2,sentance in enumerate(inputs):\n",
        "    for word in sentance:\n",
        "      if word==tag:\n",
        "        array_of_ratings_counter[ind]+=1\n",
        "        array_of_ratings[ind]+=y[ind2]\n",
        "\n",
        "for i, _ in enumerate(array_of_tags):\n",
        "  if array_of_ratings_counter[i]!=0:\n",
        "    array_of_ratings[i]=array_of_ratings[i]/array_of_ratings_counter[i]\n",
        "\n",
        "print(array_of_ratings[:20])\n",
        "    \n"
      ],
      "metadata": {
        "colab": {
          "base_uri": "https://localhost:8080/"
        },
        "id": "hvM26Fb7NVHZ",
        "outputId": "4497e1bf-eaf2-41f3-a5cb-fa68d4fd4b86"
      },
      "execution_count": null,
      "outputs": [
        {
          "output_type": "stream",
          "name": "stdout",
          "text": [
            "[array([6.92592593]), array([6.6097561]), array([6.97674419]), array([8.]), array([6.66666667]), array([6.94736842]), array([6.93506494]), 0, array([6.66666667]), 0, array([7.33333333]), array([6.9540636]), array([7.06796117]), array([6.98030635]), array([6.33333333]), 0, array([6.58333333]), array([6.71428571]), array([7.]), array([6.27777778])]\n"
          ]
        }
      ]
    },
    {
      "cell_type": "markdown",
      "source": [
        "Graph that shows the average rating of a movie if a title has specific POS tag"
      ],
      "metadata": {
        "id": "eDClQ_3gdd3f"
      }
    },
    {
      "cell_type": "code",
      "source": [
        "import matplotlib.pyplot as plt\n",
        "\n",
        "plt.figure(figsize=(20, 3)) \n",
        "y_pos = np.arange(len(array_of_tags))\n",
        "plt.bar(y_pos, array_of_ratings,0.7, align='center', alpha=1)\n",
        "plt.xticks(rotation=45)\n",
        "plt.xticks(y_pos, array_of_tags)\n",
        "plt.ylabel('Rating')\n",
        "plt.title('POS tag')"
      ],
      "metadata": {
        "colab": {
          "base_uri": "https://localhost:8080/",
          "height": 315
        },
        "id": "DHmasGrgSZuV",
        "outputId": "e0905fe3-9154-4fbc-ced9-23af34dc8705"
      },
      "execution_count": null,
      "outputs": [
        {
          "output_type": "stream",
          "name": "stderr",
          "text": [
            "/usr/local/lib/python3.7/dist-packages/numpy/lib/stride_tricks.py:256: VisibleDeprecationWarning: Creating an ndarray from ragged nested sequences (which is a list-or-tuple of lists-or-tuples-or ndarrays with different lengths or shapes) is deprecated. If you meant to do this, you must specify 'dtype=object' when creating the ndarray\n",
            "  args = [np.array(_m, copy=False, subok=subok) for _m in args]\n"
          ]
        },
        {
          "output_type": "execute_result",
          "data": {
            "text/plain": [
              "Text(0.5, 1.0, 'POS tag')"
            ]
          },
          "metadata": {},
          "execution_count": 16
        },
        {
          "output_type": "display_data",
          "data": {
            "image/png": "[encoded data removed]",
            "text/plain": [
              "<Figure size 1440x216 with 1 Axes>"
            ]
          },
          "metadata": {
            "needs_background": "light"
          }
        }
      ]
    },
    {
      "cell_type": "markdown",
      "source": [
        "Graph shows how many specific POS tags have movies rated with rating 9 "
      ],
      "metadata": {
        "id": "NODThuuNdzMJ"
      }
    },
    {
      "cell_type": "code",
      "source": [
        "array_for_nines=[]\n",
        "array_for_eights=[]\n",
        "array_for_sevens=[]\n",
        "array_for_sixes=[]\n",
        "for r in array_of_tags:\n",
        "  array_for_nines.append(0)\n",
        "  array_for_eights.append(0)\n",
        "  array_for_sevens.append(0)\n",
        "  array_for_sixes.append(0)\n",
        "\n",
        "for ind2,sentance in enumerate(inputs):\n",
        "  if y[ind2]==9:\n",
        "    for word in sentance:\n",
        "      for ind,tag in enumerate(array_of_tags): \n",
        "        if word==tag:\n",
        "          array_for_nines[ind]+=1\n",
        "  if y[ind2]==8:\n",
        "    for word in sentance:\n",
        "      for ind,tag in enumerate(array_of_tags): \n",
        "        if word==tag:\n",
        "          array_for_eights[ind]+=1\n",
        "  if y[ind2]==7:\n",
        "    for word in sentance:\n",
        "      for ind,tag in enumerate(array_of_tags): \n",
        "        if word==tag:\n",
        "          array_for_sevens[ind]+=1\n",
        "  if y[ind2]==6:\n",
        "    for word in sentance:\n",
        "      for ind,tag in enumerate(array_of_tags): \n",
        "        if word==tag:\n",
        "          array_for_sixes[ind]+=1\n",
        "\n",
        "print(array_for_nines[:20])\n",
        "\n",
        "\n",
        "plt.figure(figsize=(20, 3)) \n",
        "y_pos = np.arange(len(array_of_tags))\n",
        "plt.bar(y_pos, array_for_nines,0.7, align='center', alpha=1)\n",
        "plt.xticks(rotation=45)\n",
        "plt.xticks(y_pos, array_of_tags)\n",
        "plt.ylabel('No of tags with rating 9')\n",
        "plt.title('POS tag')\n",
        "\n"
      ],
      "metadata": {
        "colab": {
          "base_uri": "https://localhost:8080/",
          "height": 268
        },
        "id": "WS2eth8HWpR5",
        "outputId": "83eefc97-4785-41f2-932b-608a48fd624e"
      },
      "execution_count": null,
      "outputs": [
        {
          "output_type": "stream",
          "name": "stdout",
          "text": [
            "[0, 1, 19, 0, 0, 7, 2, 0, 1, 0, 0, 8, 4, 38, 0, 0, 1, 2, 0, 0]\n"
          ]
        },
        {
          "output_type": "execute_result",
          "data": {
            "text/plain": [
              "Text(0.5, 1.0, 'POS tag')"
            ]
          },
          "metadata": {},
          "execution_count": 17
        },
        {
          "output_type": "display_data",
          "data": {
            "image/png": "[encoded data removed]",
            "text/plain": [
              "<Figure size 1440x216 with 1 Axes>"
            ]
          },
          "metadata": {
            "needs_background": "light"
          }
        }
      ]
    },
    {
      "cell_type": "code",
      "source": [
        "plt.figure(figsize=(20, 3)) \n",
        "y_pos = np.arange(len(array_of_tags))\n",
        "plt.bar(y_pos, array_for_eights,0.7, align='center', alpha=1)\n",
        "plt.xticks(rotation=45)\n",
        "plt.xticks(y_pos, array_of_tags)\n",
        "plt.ylabel('No of tags with rating 8')\n",
        "plt.title('POS tag')"
      ],
      "metadata": {
        "colab": {
          "base_uri": "https://localhost:8080/",
          "height": 250
        },
        "id": "6hKnFyUUcxiz",
        "outputId": "02c69679-9f1b-4cd7-e27e-0eb00bffba73"
      },
      "execution_count": null,
      "outputs": [
        {
          "output_type": "execute_result",
          "data": {
            "text/plain": [
              "Text(0.5, 1.0, 'POS tag')"
            ]
          },
          "metadata": {},
          "execution_count": 18
        },
        {
          "output_type": "display_data",
          "data": {
            "image/png": "[encoded data removed]",
            "text/plain": [
              "<Figure size 1440x216 with 1 Axes>"
            ]
          },
          "metadata": {
            "needs_background": "light"
          }
        }
      ]
    },
    {
      "cell_type": "code",
      "source": [
        "plt.figure(figsize=(20, 3)) \n",
        "y_pos = np.arange(len(array_of_tags))\n",
        "plt.bar(y_pos, array_for_sevens,0.7, align='center', alpha=1)\n",
        "plt.xticks(rotation=45)\n",
        "plt.xticks(y_pos, array_of_tags)\n",
        "plt.ylabel('No of tags with rating 7')\n",
        "plt.title('POS tag')"
      ],
      "metadata": {
        "colab": {
          "base_uri": "https://localhost:8080/",
          "height": 250
        },
        "id": "ShGwWZTlcysN",
        "outputId": "36dc9d23-2add-4ad0-95a3-7744ef85d5ca"
      },
      "execution_count": null,
      "outputs": [
        {
          "output_type": "execute_result",
          "data": {
            "text/plain": [
              "Text(0.5, 1.0, 'POS tag')"
            ]
          },
          "metadata": {},
          "execution_count": 19
        },
        {
          "output_type": "display_data",
          "data": {
            "image/png": "[encoded data removed]",
            "text/plain": [
              "<Figure size 1440x216 with 1 Axes>"
            ]
          },
          "metadata": {
            "needs_background": "light"
          }
        }
      ]
    },
    {
      "cell_type": "code",
      "source": [
        "plt.figure(figsize=(20, 3)) \n",
        "y_pos = np.arange(len(array_of_tags))\n",
        "plt.bar(y_pos, array_for_sixes,0.7, align='center', alpha=1)\n",
        "plt.xticks(rotation=45)\n",
        "plt.xticks(y_pos, array_of_tags)\n",
        "plt.ylabel('No of tags with rating 6')\n",
        "plt.title('POS tag')"
      ],
      "metadata": {
        "colab": {
          "base_uri": "https://localhost:8080/",
          "height": 250
        },
        "id": "v3_MmdbcczKG",
        "outputId": "417ef082-ce44-4f56-e7de-083434bc8054"
      },
      "execution_count": null,
      "outputs": [
        {
          "output_type": "execute_result",
          "data": {
            "text/plain": [
              "Text(0.5, 1.0, 'POS tag')"
            ]
          },
          "metadata": {},
          "execution_count": 20
        },
        {
          "output_type": "display_data",
          "data": {
            "image/png": "[encoded data removed]",
            "text/plain": [
              "<Figure size 1440x216 with 1 Axes>"
            ]
          },
          "metadata": {
            "needs_background": "light"
          }
        }
      ]
    },
    {
      "cell_type": "markdown",
      "source": [
        "One way to represent the text is to convert sentences into embeddings vectors. We can use a pre-trained text embedding as the first layer, which will have two advantages:\n",
        "\n",
        "*   we don't have to worry about text preprocessing,\n",
        "*   we can benefit from transfer learning.\n",
        "For this example we will use a model from TensorFlow Hub called google/nnlm-en-dim50/2.\n",
        "\n",
        "Link: https://www.tensorflow.org/hub/tutorials/tf2_text_classification"
      ],
      "metadata": {
        "id": "hObdp8bKzpoa"
      }
    },
    {
      "cell_type": "code",
      "source": [
        "import tensorflow_hub as hub\n",
        "model = \"https://tfhub.dev/google/nnlm-en-dim50/2\"\n",
        "hub_layer = hub.KerasLayer(model, input_shape=[], dtype=tf.string, trainable=True)\n",
        "hub_layer(X_val_numpy[:3])"
      ],
      "metadata": {
        "colab": {
          "base_uri": "https://localhost:8080/"
        },
        "id": "F81eypLTBbPG",
        "outputId": "ba7069d0-0294-414b-f8b4-3f94d93ee968"
      },
      "execution_count": null,
      "outputs": [
        {
          "output_type": "execute_result",
          "data": {
            "text/plain": [
              "<tf.Tensor: shape=(3, 50), dtype=float32, numpy=\n",
              "array([[-1.56222895e-01,  6.43003732e-02, -1.68057546e-01,\n",
              "         7.08885416e-02,  3.10888499e-01, -2.52496619e-02,\n",
              "        -2.73811013e-01,  1.95873961e-01, -1.57374382e-01,\n",
              "        -2.95143396e-01, -1.56194404e-01,  1.24479011e-01,\n",
              "        -1.27640245e-02, -2.07623899e-01,  3.65262255e-02,\n",
              "        -2.88017672e-02,  2.27471828e-01, -9.00218785e-02,\n",
              "        -1.16893940e-01,  2.26537749e-01, -9.40350257e-03,\n",
              "         6.04702206e-03, -1.83791921e-01, -9.85555500e-02,\n",
              "         2.05278277e-01, -4.70091999e-01, -9.22606513e-03,\n",
              "         1.17417879e-01, -3.50827649e-02, -1.46342263e-01,\n",
              "         8.67233649e-02, -7.12229088e-02, -2.25636944e-01,\n",
              "         2.07926072e-02,  4.75741297e-01, -1.02642037e-01,\n",
              "         2.84722149e-01,  2.06343979e-01, -5.64747602e-02,\n",
              "        -1.69357777e-01,  1.31777255e-02,  1.88045830e-01,\n",
              "        -5.99641353e-02,  7.97135476e-03, -7.17259794e-02,\n",
              "         2.08437815e-03,  3.25423181e-01, -7.14487350e-03,\n",
              "        -1.82698205e-01,  2.00062394e-01],\n",
              "       [-2.35798419e-01, -1.86165065e-01, -1.36429876e-01,\n",
              "         1.68392196e-01,  1.09442532e-01, -3.30495797e-02,\n",
              "        -1.66739613e-01, -1.63331889e-02,  4.09753919e-02,\n",
              "        -1.05498031e-01,  7.08449781e-02,  1.36382297e-01,\n",
              "         4.83714306e-04,  1.89266764e-02, -5.33960387e-02,\n",
              "         1.53214280e-02,  1.22997954e-01,  1.74791127e-01,\n",
              "         7.39378631e-02,  1.58132061e-01,  1.58776157e-02,\n",
              "         4.78687137e-03, -1.22168418e-02,  9.79933366e-02,\n",
              "        -6.32848218e-02, -2.60284066e-01,  1.07774906e-01,\n",
              "         5.51480055e-02, -1.71157703e-01, -1.19215427e-02,\n",
              "         6.11471087e-02, -6.04900569e-02, -3.85669037e-03,\n",
              "        -1.45116046e-01,  5.64605653e-01, -2.57524073e-01,\n",
              "         2.29476705e-01, -8.78596380e-02, -5.97481094e-02,\n",
              "         1.66679725e-01, -1.70280546e-01,  2.13766247e-02,\n",
              "        -6.23768046e-02, -1.75964478e-02, -1.89131871e-01,\n",
              "         5.52523993e-02,  9.27894413e-02, -5.65406606e-02,\n",
              "        -1.12574033e-01,  3.06867272e-01],\n",
              "       [-2.78326929e-01,  6.20146915e-02, -3.95797975e-02,\n",
              "         3.43163759e-02, -1.71171669e-02,  4.85944673e-02,\n",
              "        -1.17563466e-02,  8.31191689e-02, -5.67855388e-02,\n",
              "        -2.57257193e-01, -5.55158854e-02,  2.44574789e-02,\n",
              "        -3.41009013e-02, -1.43239228e-03, -1.39089242e-01,\n",
              "        -1.15444377e-01,  1.03393078e-01, -1.68376863e-01,\n",
              "         2.43613683e-02,  3.78488749e-02, -1.65613845e-01,\n",
              "         1.54971164e-02, -1.92328453e-01,  3.66360471e-02,\n",
              "         1.60495698e-01, -2.73252904e-01,  2.75610797e-02,\n",
              "        -2.12546721e-01,  1.35748208e-01, -1.60041954e-02,\n",
              "        -4.96244356e-02, -1.33407041e-01, -2.57497758e-01,\n",
              "         1.11406259e-01,  3.32469136e-01, -1.15929000e-01,\n",
              "         1.49114475e-01, -4.16879989e-02, -1.70194134e-02,\n",
              "         1.19792931e-01,  4.89633307e-02,  3.26773450e-02,\n",
              "        -3.12841177e-01, -2.05493346e-01, -1.92207143e-01,\n",
              "        -1.02994377e-02,  3.98208834e-02, -6.59016445e-02,\n",
              "        -3.79721485e-02,  2.55152047e-01]], dtype=float32)>"
            ]
          },
          "metadata": {},
          "execution_count": 21
        }
      ]
    },
    {
      "cell_type": "markdown",
      "source": [
        "The layers are stacked sequentially to build the classifier:\n",
        "\n",
        "\n",
        "1.   The first layer is a TensorFlow Hub layer. This layer uses a pre-trained Saved Model to map a sentence into its embedding vector. The model that we are using (google/nnlm-en-dim50/2) splits the sentence into tokens, embeds each token and then combines the embedding. The resulting dimensions are: (num_examples, embedding_dimension).\n",
        "2.   This fixed-length output vector is piped through a fully-connected (Dense) layer with 4 hidden units.\n",
        "\n",
        "\n",
        "3.   This fixed-length output vector is piped through a fully-connected (Dense) layer with 8 hidden units.\n",
        "4.   This fixed-length output vector is piped through a fully-connected (Dense) layer with 16 hidden units.\n",
        "5.   The last layer is densely connected with 10 output nodes. \n",
        "\n",
        "\n",
        "\n"
      ],
      "metadata": {
        "id": "BRaEXjVL1mzk"
      }
    },
    {
      "cell_type": "code",
      "source": [
        "model = tf.keras.Sequential()\n",
        "model.add(hub_layer)\n",
        "model.add(tf.keras.layers.Dense(4, activation='relu'))\n",
        "model.add(tf.keras.layers.Dense(8, activation='relu'))\n",
        "model.add(tf.keras.layers.Dense(16, activation='relu'))\n",
        "#model.add(tf.keras.layers.Dense(8, activation='relu'))\n",
        "model.add(Dense(10))\n",
        "\n",
        "model.summary()"
      ],
      "metadata": {
        "id": "mq2le2yHCR5t"
      },
      "execution_count": null,
      "outputs": []
    },
    {
      "cell_type": "code",
      "source": [
        "model.compile(optimizer=tf.keras.optimizers.Adam(),\n",
        "              loss=tf.keras.losses.SparseCategoricalCrossentropy(from_logits=True), # default from_logits=False\n",
        "              metrics=[tf.keras.metrics.SparseCategoricalAccuracy()])"
      ],
      "metadata": {
        "id": "_Au4UssqC9Zh"
      },
      "execution_count": null,
      "outputs": []
    },
    {
      "cell_type": "code",
      "source": [
        "history = model.fit(partial_x_train,\n",
        "                    partial_y_train,\n",
        "                    epochs=40,\n",
        "                    batch_size=256,\n",
        "                    validation_data=(x_val_tensor, y_val_tensor),\n",
        "                    verbose=1)"
      ],
      "metadata": {
        "id": "4arbSIg9DAf8"
      },
      "execution_count": null,
      "outputs": []
    },
    {
      "cell_type": "code",
      "source": [
        "results = model.evaluate(x_test, y_test)\n",
        "\n",
        "print(results)"
      ],
      "metadata": {
        "id": "x-xO7641GSbn"
      },
      "execution_count": null,
      "outputs": []
    },
    {
      "cell_type": "markdown",
      "source": [
        "Here inputs are encoded with one hot encoding and not hub layer:\n",
        "https://machinelearningmastery.com/use-word-embedding-layers-deep-learning-keras/\n",
        "\n"
      ],
      "metadata": {
        "id": "r06K9s8m5AUx"
      }
    },
    {
      "cell_type": "code",
      "source": [
        "from numpy import array\n",
        "from keras.preprocessing.text import one_hot\n",
        "from keras.preprocessing.sequence import pad_sequences\n",
        "from keras.models import Sequential\n",
        "from keras.layers import Dense\n",
        "from keras.layers import Flatten\n",
        "from keras.layers.embeddings import Embedding\n",
        "\n",
        "vocab_size = 50\n",
        "encoded_docs = [one_hot(d, vocab_size) for d in partial_x_train_numpy]\n",
        "encoded_docs_test = [one_hot(d, vocab_size) for d in x_test_numpy]\n",
        "#print(X_val_numpy)\n",
        "print(encoded_docs)\n",
        "\n",
        "# pad documents to a max length of 7 words(tokens)\n",
        "max_length = 7\n",
        "padded_docs = pad_sequences(encoded_docs, maxlen=max_length, padding='post')\n",
        "padded_docs_test = pad_sequences(encoded_docs_test, maxlen=max_length, padding='post')\n",
        "print(padded_docs[:3])\n",
        "print(padded_docs_test[:3])"
      ],
      "metadata": {
        "id": "sZgIhud3KYas"
      },
      "execution_count": null,
      "outputs": []
    },
    {
      "cell_type": "code",
      "source": [
        "# define the model\n",
        "\n",
        "model = Sequential()\n",
        "model.add(Embedding(vocab_size, 8, input_length=max_length))\n",
        "model.add(Flatten())\n",
        "model.add(tf.keras.layers.Dense(8, activation='relu'))\n",
        "model.add(tf.keras.layers.Dense(16, activation='relu'))\n",
        "model.add(tf.keras.layers.Dense(32, activation='relu'))\n",
        "model.add(tf.keras.layers.Dense(16, activation='relu'))\n",
        "model.add(tf.keras.layers.Dense(8, activation='relu'))\n",
        "model.add(Dense(10, activation='sigmoid'))\n",
        "# compile the model\n",
        "\n",
        "#model.compile(tf.keras.optimizers.Adam(lr = 0.01), \"categorical_crossentropy\", metrics = [\"accuracy\"])\n",
        "model.compile(optimizer=tf.keras.optimizers.Adam(),\n",
        "              loss=tf.keras.losses.SparseCategoricalCrossentropy(from_logits=True), # default from_logits=False\n",
        "              metrics=[tf.keras.metrics.SparseCategoricalAccuracy()])\n",
        "# summarize the model\n",
        "print(model.summary())\n",
        "# fit the model\n",
        "model.fit(padded_docs, partial_y_train_numpy, epochs=400, verbose=0)\n",
        "# evaluate the model\n",
        "loss, accuracy = model.evaluate(padded_docs_test, y_test_numpy, verbose=0)\n",
        "print('Accuracy: %f' % (accuracy*100))"
      ],
      "metadata": {
        "id": "f7ZTWL2XMIHg"
      },
      "execution_count": null,
      "outputs": []
    },
    {
      "cell_type": "markdown",
      "source": [
        "Link: https://www.tensorflow.org/text/guide/word_embeddings"
      ],
      "metadata": {
        "id": "m-mEfWbbDLm4"
      }
    },
    {
      "cell_type": "code",
      "source": [
        "\n",
        "\n",
        "# Vocabulary size and number of words in a sequence.\n",
        "vocab_size = 50\n",
        "sequence_length = 7\n",
        "\n",
        "# Use the text vectorization layer to normalize, split, and map strings to\n",
        "# integers. Note that the layer uses the custom standardization defined above.\n",
        "# Set maximum_sequence length as all samples are not of the same length.\n",
        "vectorize_layer = TextVectorization(\n",
        "    max_tokens=vocab_size,\n",
        "    output_mode='int',\n",
        "    output_sequence_length=sequence_length)\n",
        "\n",
        "# Make a text-only dataset (no labels) and call adapt to build the vocabulary.\n",
        "\n",
        "vectorized=vectorize_layer.adapt(partial_x_train_numpy)\n",
        "\n",
        "print(vectorized)"
      ],
      "metadata": {
        "id": "NyL7l5wvABjq"
      },
      "execution_count": null,
      "outputs": []
    },
    {
      "cell_type": "code",
      "source": [
        "embedding_dim=7\n",
        "\n",
        "model = Sequential([\n",
        "  vectorize_layer,\n",
        "  Embedding(vocab_size, embedding_dim, name=\"embedding\"),\n",
        "  GlobalAveragePooling1D(),\n",
        "  Dense(32, activation='relu'),\n",
        "  Dense(16, activation='relu'),\n",
        "  Dense(8, activation='relu'),\n",
        "  Dense(10, activation='sigmoid')\n",
        "])\n",
        "\n",
        "tensorboard_callback = tf.keras.callbacks.TensorBoard(log_dir=\"logs\")\n",
        "\n",
        "\n",
        "model.compile(optimizer=tf.keras.optimizers.Adam(),\n",
        "              loss=tf.keras.losses.SparseCategoricalCrossentropy(from_logits=True), # default from_logits=False\n",
        "              metrics=[tf.keras.metrics.SparseCategoricalAccuracy()])\n",
        "\n",
        "model.fit(partial_x_train,\n",
        "                    partial_y_train,\n",
        "                    epochs=40,\n",
        "                    batch_size=256,\n",
        "                    validation_data=(x_val_tensor, y_val_tensor),\n",
        "                    verbose=1)"
      ],
      "metadata": {
        "id": "Vq2smbXKB5B4"
      },
      "execution_count": null,
      "outputs": []
    },
    {
      "cell_type": "code",
      "source": [
        "y_val_linear = tf.convert_to_tensor(np.array(list_float_ratings_numpy_linear[:100]))\n",
        "y_test_linear_numpy=np.array(list_float_ratings_numpy_linear[100:200])\n",
        "y_test_linear= tf.convert_to_tensor(y_test_linear_numpy)\n",
        "partial_y_train_linear = tf.convert_to_tensor(np.array(list_float_ratings_numpy_linear[200:]))\n"
      ],
      "metadata": {
        "id": "Kao1VnttE7ZJ"
      },
      "execution_count": null,
      "outputs": []
    },
    {
      "cell_type": "code",
      "source": [
        "#try linear regression on this data \n",
        "\n",
        "#Linear regression\n",
        "\n",
        "import numpy as np\n",
        "from sklearn.linear_model import LinearRegression\n",
        "import matplotlib.pyplot as plt\n",
        "\n",
        "reg = LinearRegression().fit(padded_docs,partial_y_train_linear)\n",
        "\n",
        "\n",
        "y_pred=reg.predict(padded_docs_test)\n",
        "#print(y_pred)\n",
        "#print(y_val_linear_regression[0])\n",
        "# Plot outputs\n",
        "for ind, pred in enumerate(y_pred):\n",
        "  print(\"Predicted: \"+str(pred)+\" true value:\"+ str(y_test_linear_numpy[ind]))"
      ],
      "metadata": {
        "id": "RblWoejjEDie"
      },
      "execution_count": null,
      "outputs": []
    },
    {
      "cell_type": "code",
      "source": [],
      "metadata": {
        "id": "jFfLTwetM2YW"
      },
      "execution_count": null,
      "outputs": []
    }
  ]
}
