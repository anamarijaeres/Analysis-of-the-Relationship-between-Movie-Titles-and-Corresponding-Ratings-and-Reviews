{
  "nbformat": 4,
  "nbformat_minor": 0,
  "metadata": {
    "colab": {
      "provenance": [],
      "collapsed_sections": [],
      "include_colab_link": true
    },
    "kernelspec": {
      "name": "python3",
      "display_name": "Python 3"
    },
    "language_info": {
      "name": "python"
    }
  },
  "cells": [
    {
      "cell_type": "markdown",
      "metadata": {
        "id": "view-in-github",
        "colab_type": "text"
      },
      "source": [
        "<a href=\"https://colab.research.google.com/github/anamarijaeres/Analysis-of-the-Relationship-between-Movie-Titles-and-Corresponding-Ratings-and-Reviews/blob/main/4.1.1.%20Correlation%20between%20Titles%20as%20Word%20Embeddings%20and%20Ratings%20%26%204.1.2.%20Correlation%20between%20Titles%20as%20Emotion%20Vectors%20and%20Ratings.ipynb\" target=\"_parent\"><img src=\"https://colab.research.google.com/assets/colab-badge.svg\" alt=\"Open In Colab\"/></a>"
      ]
    },
    {
      "cell_type": "code",
      "execution_count": null,
      "metadata": {
        "id": "T7d2LqgzPCrn"
      },
      "outputs": [],
      "source": [
        "import numpy as np\n",
        "import tensorflow as tf\n",
        "import pandas as pd\n",
        "import random\n",
        "from keras.preprocessing.text import one_hot\n",
        "from keras.preprocessing.sequence import pad_sequences\n",
        "from keras.models import Sequential\n",
        "from keras.layers import Dense\n",
        "from keras.layers import Flatten\n",
        "from keras.layers.embeddings import Embedding\n",
        "from google.colab import drive\n",
        "import matplotlib.pyplot as plt\n"
      ]
    },
    {
      "cell_type": "code",
      "source": [
        "drive.mount('/content/drive')"
      ],
      "metadata": {
        "colab": {
          "base_uri": "https://localhost:8080/"
        },
        "id": "ikirueu_PNYq",
        "outputId": "3479eeb7-b462-44bf-e219-5587b2c183a6"
      },
      "execution_count": null,
      "outputs": [
        {
          "output_type": "stream",
          "name": "stdout",
          "text": [
            "Mounted at /content/drive\n"
          ]
        }
      ]
    },
    {
      "cell_type": "code",
      "source": [
        "df = pd.read_excel('/content/drive/My Drive/dataset.xlsx')\n",
        "df.columns\n",
        "df=df.drop(['\"imdbID\"'], axis=1) \n",
        "df=df.drop(['\"mov_galaxy_ID\"'], axis=1) \n",
        "df.head()"
      ],
      "metadata": {
        "colab": {
          "base_uri": "https://localhost:8080/",
          "height": 206
        },
        "id": "ZNLypEBrPf3Q",
        "outputId": "0df70dfa-9a64-43ab-f1ff-67e56dca404c"
      },
      "execution_count": null,
      "outputs": [
        {
          "output_type": "execute_result",
          "data": {
            "text/html": [
              "\n",
              "  <div id=\"df-9d4e89b2-4b6c-4419-a5d7-23c33dee24ce\">\n",
              "    <div class=\"colab-df-container\">\n",
              "      <div>\n",
              "<style scoped>\n",
              "    .dataframe tbody tr th:only-of-type {\n",
              "        vertical-align: middle;\n",
              "    }\n",
              "\n",
              "    .dataframe tbody tr th {\n",
              "        vertical-align: top;\n",
              "    }\n",
              "\n",
              "    .dataframe thead th {\n",
              "        text-align: right;\n",
              "    }\n",
              "</style>\n",
              "<table border=\"1\" class=\"dataframe\">\n",
              "  <thead>\n",
              "    <tr style=\"text-align: right;\">\n",
              "      <th></th>\n",
              "      <th>\"title\"</th>\n",
              "      <th>\"rating\"</th>\n",
              "    </tr>\n",
              "  </thead>\n",
              "  <tbody>\n",
              "    <tr>\n",
              "      <th>0</th>\n",
              "      <td>\"10 Things I Hate About You\"</td>\n",
              "      <td>\"7.2\"</td>\n",
              "    </tr>\n",
              "    <tr>\n",
              "      <th>1</th>\n",
              "      <td>\"12 and Holding\"</td>\n",
              "      <td>\"7.6\"</td>\n",
              "    </tr>\n",
              "    <tr>\n",
              "      <th>2</th>\n",
              "      <td>\"127 Hours\"</td>\n",
              "      <td>\"7.6\"</td>\n",
              "    </tr>\n",
              "    <tr>\n",
              "      <th>3</th>\n",
              "      <td>\"1492: Conquest of Paradise\"</td>\n",
              "      <td>\"6.5\"</td>\n",
              "    </tr>\n",
              "    <tr>\n",
              "      <th>4</th>\n",
              "      <td>\"15 Minutes\"</td>\n",
              "      <td>\"6.1\"</td>\n",
              "    </tr>\n",
              "  </tbody>\n",
              "</table>\n",
              "</div>\n",
              "      <button class=\"colab-df-convert\" onclick=\"convertToInteractive('df-9d4e89b2-4b6c-4419-a5d7-23c33dee24ce')\"\n",
              "              title=\"Convert this dataframe to an interactive table.\"\n",
              "              style=\"display:none;\">\n",
              "        \n",
              "  <svg xmlns=\"http://www.w3.org/2000/svg\" height=\"24px\"viewBox=\"0 0 24 24\"\n",
              "       width=\"24px\">\n",
              "    <path d=\"M0 0h24v24H0V0z\" fill=\"none\"/>\n",
              "    <path d=\"M18.56 5.44l.94 2.06.94-2.06 2.06-.94-2.06-.94-.94-2.06-.94 2.06-2.06.94zm-11 1L8.5 8.5l.94-2.06 2.06-.94-2.06-.94L8.5 2.5l-.94 2.06-2.06.94zm10 10l.94 2.06.94-2.06 2.06-.94-2.06-.94-.94-2.06-.94 2.06-2.06.94z\"/><path d=\"M17.41 7.96l-1.37-1.37c-.4-.4-.92-.59-1.43-.59-.52 0-1.04.2-1.43.59L10.3 9.45l-7.72 7.72c-.78.78-.78 2.05 0 2.83L4 21.41c.39.39.9.59 1.41.59.51 0 1.02-.2 1.41-.59l7.78-7.78 2.81-2.81c.8-.78.8-2.07 0-2.86zM5.41 20L4 18.59l7.72-7.72 1.47 1.35L5.41 20z\"/>\n",
              "  </svg>\n",
              "      </button>\n",
              "      \n",
              "  <style>\n",
              "    .colab-df-container {\n",
              "      display:flex;\n",
              "      flex-wrap:wrap;\n",
              "      gap: 12px;\n",
              "    }\n",
              "\n",
              "    .colab-df-convert {\n",
              "      background-color: #E8F0FE;\n",
              "      border: none;\n",
              "      border-radius: 50%;\n",
              "      cursor: pointer;\n",
              "      display: none;\n",
              "      fill: #1967D2;\n",
              "      height: 32px;\n",
              "      padding: 0 0 0 0;\n",
              "      width: 32px;\n",
              "    }\n",
              "\n",
              "    .colab-df-convert:hover {\n",
              "      background-color: #E2EBFA;\n",
              "      box-shadow: 0px 1px 2px rgba(60, 64, 67, 0.3), 0px 1px 3px 1px rgba(60, 64, 67, 0.15);\n",
              "      fill: #174EA6;\n",
              "    }\n",
              "\n",
              "    [theme=dark] .colab-df-convert {\n",
              "      background-color: #3B4455;\n",
              "      fill: #D2E3FC;\n",
              "    }\n",
              "\n",
              "    [theme=dark] .colab-df-convert:hover {\n",
              "      background-color: #434B5C;\n",
              "      box-shadow: 0px 1px 3px 1px rgba(0, 0, 0, 0.15);\n",
              "      filter: drop-shadow(0px 1px 2px rgba(0, 0, 0, 0.3));\n",
              "      fill: #FFFFFF;\n",
              "    }\n",
              "  </style>\n",
              "\n",
              "      <script>\n",
              "        const buttonEl =\n",
              "          document.querySelector('#df-9d4e89b2-4b6c-4419-a5d7-23c33dee24ce button.colab-df-convert');\n",
              "        buttonEl.style.display =\n",
              "          google.colab.kernel.accessAllowed ? 'block' : 'none';\n",
              "\n",
              "        async function convertToInteractive(key) {\n",
              "          const element = document.querySelector('#df-9d4e89b2-4b6c-4419-a5d7-23c33dee24ce');\n",
              "          const dataTable =\n",
              "            await google.colab.kernel.invokeFunction('convertToInteractive',\n",
              "                                                     [key], {});\n",
              "          if (!dataTable) return;\n",
              "\n",
              "          const docLinkHtml = 'Like what you see? Visit the ' +\n",
              "            '<a target=\"_blank\" href=https://colab.research.google.com/notebooks/data_table.ipynb>data table notebook</a>'\n",
              "            + ' to learn more about interactive tables.';\n",
              "          element.innerHTML = '';\n",
              "          dataTable['output_type'] = 'display_data';\n",
              "          await google.colab.output.renderOutput(dataTable, element);\n",
              "          const docLink = document.createElement('div');\n",
              "          docLink.innerHTML = docLinkHtml;\n",
              "          element.appendChild(docLink);\n",
              "        }\n",
              "      </script>\n",
              "    </div>\n",
              "  </div>\n",
              "  "
            ],
            "text/plain": [
              "                        \"title\" \"rating\"\n",
              "0  \"10 Things I Hate About You\"    \"7.2\"\n",
              "1              \"12 and Holding\"    \"7.6\"\n",
              "2                   \"127 Hours\"    \"7.6\"\n",
              "3  \"1492: Conquest of Paradise\"    \"6.5\"\n",
              "4                  \"15 Minutes\"    \"6.1\""
            ]
          },
          "metadata": {},
          "execution_count": 4
        }
      ]
    },
    {
      "cell_type": "code",
      "source": [
        "list_names= df['\"title\"'].tolist()\n",
        "list_clear_names=[]\n",
        "for i in list_names:\n",
        "  name=''\n",
        "  for j in i:\n",
        "    if j!= \"\\\"\":\n",
        "      name+=j\n",
        "  list_clear_names.append(name)\n",
        "print(list_clear_names[:3])\n",
        "\n",
        "print(\"\\nNumber of movies: \", len(list_clear_names))"
      ],
      "metadata": {
        "colab": {
          "base_uri": "https://localhost:8080/"
        },
        "id": "vyrUtjuYQNrq",
        "outputId": "1ef10a36-6a80-495f-abeb-5604094e90ac"
      },
      "execution_count": null,
      "outputs": [
        {
          "output_type": "stream",
          "name": "stdout",
          "text": [
            "['10 Things I Hate About You', '12 and Holding', '127 Hours']\n",
            "\n",
            "Number of movies:  755\n"
          ]
        }
      ]
    },
    {
      "cell_type": "code",
      "source": [
        "list_ratings= df['\"rating\"'].tolist()\n",
        "list_int_ratings=[]\n",
        "for i in list_ratings:\n",
        "  num=''\n",
        "  for j in i:\n",
        "    if j!= \"\\\"\":\n",
        "      num+=j\n",
        "  if num==\"?\":\n",
        "    num='5'\n",
        "  rating=int(round(float(num)))\n",
        "  list_int_ratings.append([rating])\n",
        "\n",
        "print(list_int_ratings[:3])\n",
        "list_int_ratings_numpy= np.array(list_int_ratings)"
      ],
      "metadata": {
        "colab": {
          "base_uri": "https://localhost:8080/"
        },
        "id": "qoLi3ujEyvYc",
        "outputId": "580b40db-61ff-4547-a6af-7a1b7ebc5428"
      },
      "execution_count": null,
      "outputs": [
        {
          "output_type": "stream",
          "name": "stdout",
          "text": [
            "[[7], [8], [8]]\n"
          ]
        }
      ]
    },
    {
      "cell_type": "code",
      "source": [
        "x_test = []\n",
        "x_train = []\n",
        "y_test = []\n",
        "y_train = []\n",
        "\n",
        "for i in range(len(list_clear_names)):\n",
        "  movie = list_clear_names[i]\n",
        "  rating = list_int_ratings_numpy[i]\n",
        "  random_number = random.uniform(0,1)\n",
        "  if random_number <= 0.33:\n",
        "    x_test.append(movie)\n",
        "    y_test.append(rating)\n",
        "  else:\n",
        "    x_train.append(movie)\n",
        "    y_train.append(rating)\n",
        "\n",
        "x_test_numpy=np.array(x_test)\n",
        "partial_x_train_numpy = np.array(x_train)\n",
        "y_test_numpy=np.array(y_test)\n",
        "partial_y_train_numpy = np.array(y_train)\n",
        "\n",
        "\n",
        "print(len(x_test_numpy))\n",
        "print(len(partial_x_train_numpy))\n",
        "print(len(y_test_numpy))\n",
        "print(len(partial_y_train_numpy))\n",
        "print(x_test_numpy[:3])\n",
        "print(y_test_numpy[:3])"
      ],
      "metadata": {
        "colab": {
          "base_uri": "https://localhost:8080/"
        },
        "id": "R5n8Z9Kwjfil",
        "outputId": "5cf53709-fbd7-44cd-ccbc-7667d2a068a4"
      },
      "execution_count": null,
      "outputs": [
        {
          "output_type": "stream",
          "name": "stdout",
          "text": [
            "261\n",
            "494\n",
            "261\n",
            "494\n",
            "['12 and Holding' '15 Minutes' '17 Again']\n",
            "[[8]\n",
            " [6]\n",
            " [6]]\n"
          ]
        }
      ]
    },
    {
      "cell_type": "code",
      "source": [
        "vocab_size = 1000\n",
        "encoded_docs = [one_hot(d, vocab_size) for d in partial_x_train_numpy]\n",
        "encoded_docs_test = [one_hot(d, vocab_size) for d in x_test_numpy]\n",
        "print(encoded_docs_test[:3])\n",
        "\n",
        "max_length = 12\n",
        "padded_docs = pad_sequences(encoded_docs, maxlen=max_length, padding='post')\n",
        "padded_docs_test = pad_sequences(encoded_docs_test, maxlen=max_length, padding='post')\n",
        "print(padded_docs_test[:3])"
      ],
      "metadata": {
        "colab": {
          "base_uri": "https://localhost:8080/"
        },
        "id": "bus-dKgLhyKt",
        "outputId": "a71ae43e-95ff-4e97-9ee7-4357b442f8ad"
      },
      "execution_count": null,
      "outputs": [
        {
          "output_type": "stream",
          "name": "stdout",
          "text": [
            "[[534, 984, 929], [247, 858], [426, 769]]\n",
            "[[534 984 929   0   0   0   0   0   0   0   0   0]\n",
            " [247 858   0   0   0   0   0   0   0   0   0   0]\n",
            " [426 769   0   0   0   0   0   0   0   0   0   0]]\n"
          ]
        }
      ]
    },
    {
      "cell_type": "code",
      "source": [
        "model = Sequential()\n",
        "model.add(Embedding(vocab_size, 50, input_length=max_length))\n",
        "model.add(Flatten())\n",
        "model.add(tf.keras.layers.Dense(8, activation='relu'))\n",
        "model.add(tf.keras.layers.Dense(16, activation='relu'))\n",
        "model.add(tf.keras.layers.Dense(32, activation='relu'))\n",
        "model.add(tf.keras.layers.Dense(16, activation='relu'))\n",
        "model.add(tf.keras.layers.Dense(8, activation='relu'))\n",
        "model.add(Dense(10, activation='sigmoid'))\n",
        "\n",
        "model.compile(optimizer=tf.keras.optimizers.Adam(),\n",
        "              loss=tf.keras.losses.SparseCategoricalCrossentropy(from_logits=True), # default from_logits=False\n",
        "              metrics=[tf.keras.metrics.SparseCategoricalAccuracy()])\n",
        "\n",
        "print(model.summary())\n"
      ],
      "metadata": {
        "colab": {
          "base_uri": "https://localhost:8080/"
        },
        "id": "aGcbutS8sros",
        "outputId": "f6b05f8a-7df5-496e-b69f-e11871f3fd26"
      },
      "execution_count": null,
      "outputs": [
        {
          "output_type": "stream",
          "name": "stdout",
          "text": [
            "Model: \"sequential\"\n",
            "_________________________________________________________________\n",
            " Layer (type)                Output Shape              Param #   \n",
            "=================================================================\n",
            " embedding (Embedding)       (None, 12, 50)            50000     \n",
            "                                                                 \n",
            " flatten (Flatten)           (None, 600)               0         \n",
            "                                                                 \n",
            " dense (Dense)               (None, 8)                 4808      \n",
            "                                                                 \n",
            " dense_1 (Dense)             (None, 16)                144       \n",
            "                                                                 \n",
            " dense_2 (Dense)             (None, 32)                544       \n",
            "                                                                 \n",
            " dense_3 (Dense)             (None, 16)                528       \n",
            "                                                                 \n",
            " dense_4 (Dense)             (None, 8)                 136       \n",
            "                                                                 \n",
            " dense_5 (Dense)             (None, 10)                90        \n",
            "                                                                 \n",
            "=================================================================\n",
            "Total params: 56,250\n",
            "Trainable params: 56,250\n",
            "Non-trainable params: 0\n",
            "_________________________________________________________________\n",
            "None\n"
          ]
        }
      ]
    },
    {
      "cell_type": "code",
      "source": [
        "model.fit(padded_docs, partial_y_train_numpy, epochs=400, verbose=0)\n",
        "loss, accuracy = model.evaluate(padded_docs_test, y_test_numpy, verbose=0)\n",
        "print('Accuracy: %f' % (accuracy*100))\n",
        "print('Loss: %f' % (loss))"
      ],
      "metadata": {
        "colab": {
          "base_uri": "https://localhost:8080/"
        },
        "id": "mChyZhp8tj2f",
        "outputId": "2b37c4c3-eba0-465d-8aa2-a7bf8b6ec918"
      },
      "execution_count": null,
      "outputs": [
        {
          "output_type": "stream",
          "name": "stdout",
          "text": [
            "Accuracy: 38.314176\n",
            "Loss: 10.864950\n"
          ]
        }
      ]
    },
    {
      "cell_type": "code",
      "source": [
        "list_addedRatings = [0, 0, 0, 0, 0, 0, 0, 0, 0, 0, 0, 0]\n",
        "list_countOfMovies = [0, 0, 0, 0, 0, 0, 0, 0, 0, 0, 0, 0]\n",
        "\n",
        "for i in range(len(list_clear_names)):\n",
        "  movie = list_clear_names[i]\n",
        "  movie_word_list = movie.split()\n",
        "  rating = list_int_ratings_numpy[i]\n",
        "  list_addedRatings[len(movie_word_list)-1] += rating[0]\n",
        "  list_countOfMovies[len(movie_word_list)-1] += 1\n",
        "\n",
        "print(list_addedRatings)\n",
        "print(list_countOfMovies)\n",
        "\n",
        "for i in range(len(list_addedRatings)):\n",
        "  list_addedRatings[i] /= list_countOfMovies[i]\n",
        "\n",
        "\n",
        "plt.figure(figsize=(20, 5)) \n",
        "y_pos = np.arange(len(list_addedRatings))\n",
        "plt.bar(y_pos, list_addedRatings, 0.7, align='center', alpha=1)\n",
        "#plt.xticks(rotation=45)\n",
        "plt.xticks(y_pos, [1,2,3,4,5,6,7,8,9,10,11,12])\n",
        "plt.ylabel('Rating')\n",
        "plt.title('Number of words in a movie title')"
      ],
      "metadata": {
        "colab": {
          "base_uri": "https://localhost:8080/",
          "height": 390
        },
        "id": "0M5vqnbny44U",
        "outputId": "1cae0153-06ea-44b8-e5ea-63b0e5f7baee"
      },
      "execution_count": null,
      "outputs": [
        {
          "output_type": "stream",
          "name": "stdout",
          "text": [
            "[1197, 1897, 1037, 552, 288, 159, 41, 10, 50, 26, 7, 6]\n",
            "[169, 272, 148, 81, 42, 23, 6, 2, 7, 3, 1, 1]\n"
          ]
        },
        {
          "output_type": "execute_result",
          "data": {
            "text/plain": [
              "Text(0.5, 1.0, 'Number of words in a movie title')"
            ]
          },
          "metadata": {},
          "execution_count": 12
        },
        {
          "output_type": "display_data",
          "data": {
            "image/png": "[encoded data removed]",
            "text/plain": [
              "<Figure size 1440x360 with 1 Axes>"
            ]
          },
          "metadata": {
            "needs_background": "light"
          }
        }
      ]
    },
    {
      "cell_type": "markdown",
      "source": [
        "### **USPOREDBA EMOTIVNE VRIJEDNOSTI TEKSTA (NASLOVA FILMOVA) I OCJENA**"
      ],
      "metadata": {
        "id": "8BAEq-U500nx"
      }
    },
    {
      "cell_type": "code",
      "source": [
        "pip install text2emotion"
      ],
      "metadata": {
        "colab": {
          "base_uri": "https://localhost:8080/"
        },
        "id": "gBrCmauizwnw",
        "outputId": "a4ad857b-d045-4982-9d5f-f78e93d82ff4"
      },
      "execution_count": null,
      "outputs": [
        {
          "output_type": "stream",
          "name": "stdout",
          "text": [
            "Collecting text2emotion\n",
            "  Downloading text2emotion-0.0.5-py3-none-any.whl (57 kB)\n",
            "\u001b[K     |████████████████████████████████| 57 kB 2.6 MB/s \n",
            "\u001b[?25hCollecting emoji>=0.6.0\n",
            "  Downloading emoji-1.6.3.tar.gz (174 kB)\n",
            "\u001b[K     |████████████████████████████████| 174 kB 14.0 MB/s \n",
            "\u001b[?25hRequirement already satisfied: nltk in /usr/local/lib/python3.7/dist-packages (from text2emotion) (3.2.5)\n",
            "Requirement already satisfied: six in /usr/local/lib/python3.7/dist-packages (from nltk->text2emotion) (1.15.0)\n",
            "Building wheels for collected packages: emoji\n",
            "  Building wheel for emoji (setup.py) ... \u001b[?25l\u001b[?25hdone\n",
            "  Created wheel for emoji: filename=emoji-1.6.3-py3-none-any.whl size=170298 sha256=4207a1074d24e28058b1005dbaec49ce05fd750262bb585a3b97575a1c834b53\n",
            "  Stored in directory: /root/.cache/pip/wheels/03/8b/d7/ad579fbef83c287215c0caab60fb0ae0f30c4d7ce5f580eade\n",
            "Successfully built emoji\n",
            "Installing collected packages: emoji, text2emotion\n",
            "Successfully installed emoji-1.6.3 text2emotion-0.0.5\n"
          ]
        }
      ]
    },
    {
      "cell_type": "code",
      "source": [
        "import text2emotion as te\n",
        "movie = list_clear_names[2]\n",
        "print(movie)\n",
        "emotional_dict = te.get_emotion(movie)\n",
        "print(emotional_dict)\n",
        "vector = []\n",
        "vector.append(emotional_dict.get('Happy'))\n",
        "vector.append(emotional_dict.get('Angry'))\n",
        "vector.append(emotional_dict.get('Surprise'))\n",
        "vector.append(emotional_dict.get('Sad'))\n",
        "vector.append(emotional_dict.get('Fear'))\n",
        "print(vector)"
      ],
      "metadata": {
        "colab": {
          "base_uri": "https://localhost:8080/"
        },
        "id": "W2J_9YpZ1Yl8",
        "outputId": "45335897-73f4-48cc-9bfa-4eeb144572e7"
      },
      "execution_count": null,
      "outputs": [
        {
          "output_type": "stream",
          "name": "stdout",
          "text": [
            "[nltk_data] Downloading package stopwords to /root/nltk_data...\n",
            "[nltk_data]   Unzipping corpora/stopwords.zip.\n",
            "[nltk_data] Downloading package punkt to /root/nltk_data...\n",
            "[nltk_data]   Unzipping tokenizers/punkt.zip.\n",
            "[nltk_data] Downloading package wordnet to /root/nltk_data...\n",
            "[nltk_data]   Unzipping corpora/wordnet.zip.\n",
            "127 Hours\n",
            "{'Happy': 0, 'Angry': 0, 'Surprise': 0, 'Sad': 0, 'Fear': 0}\n",
            "[0, 0, 0, 0, 0]\n"
          ]
        }
      ]
    },
    {
      "cell_type": "code",
      "source": [
        "list_emotional_vectors = []\n",
        "for movie in list_clear_names:\n",
        "  emotional_dict = te.get_emotion(movie)\n",
        "  vector = []\n",
        "  vector.append(emotional_dict.get('Happy'))\n",
        "  vector.append(emotional_dict.get('Angry'))\n",
        "  vector.append(emotional_dict.get('Surprise'))\n",
        "  vector.append(emotional_dict.get('Sad'))\n",
        "  vector.append(emotional_dict.get('Fear'))\n",
        "  list_emotional_vectors.append(vector)\n",
        "\n",
        "print(list_clear_names[:3])\n",
        "print(list_emotional_vectors[:3])"
      ],
      "metadata": {
        "colab": {
          "base_uri": "https://localhost:8080/"
        },
        "id": "BDak7BDQ-EJY",
        "outputId": "08ea0f11-7888-42f1-b6ff-470f275cc81a"
      },
      "execution_count": null,
      "outputs": [
        {
          "output_type": "stream",
          "name": "stdout",
          "text": [
            "['10 Things I Hate About You', '12 and Holding', '127 Hours']\n",
            "[[0.0, 0.0, 0.5, 0.5, 0.0], [0, 0, 0, 0, 0], [0, 0, 0, 0, 0]]\n"
          ]
        }
      ]
    },
    {
      "cell_type": "code",
      "source": [
        "x_test = []\n",
        "x_train = []\n",
        "y_test = []\n",
        "y_train = []\n",
        "\n",
        "for i in range(len(list_emotional_vectors)):\n",
        "  movie = list_emotional_vectors[i]\n",
        "  rating = list_int_ratings_numpy[i]\n",
        "  random_number = random.uniform(0,1)\n",
        "  if random_number <= 0.15:\n",
        "    x_test.append(movie)\n",
        "    y_test.append(rating)\n",
        "  else:\n",
        "    x_train.append(movie)\n",
        "    y_train.append(rating)\n",
        "\n",
        "x_test_numpy=np.array(x_test)\n",
        "partial_x_train_numpy = np.array(x_train)\n",
        "y_test_numpy=np.array(y_test)\n",
        "partial_y_train_numpy = np.array(y_train)\n",
        "\n",
        "\n",
        "print(len(x_test_numpy))\n",
        "print(len(partial_x_train_numpy))\n",
        "print(len(y_test_numpy))\n",
        "print(len(partial_y_train_numpy))\n",
        "print(x_test_numpy[:3])\n",
        "print(y_test_numpy[:3])\n"
      ],
      "metadata": {
        "colab": {
          "base_uri": "https://localhost:8080/"
        },
        "id": "tpcOr9in__RA",
        "outputId": "e8777706-3fbf-4e47-e55e-ad1d9cbe08bb"
      },
      "execution_count": null,
      "outputs": [
        {
          "output_type": "stream",
          "name": "stdout",
          "text": [
            "114\n",
            "641\n",
            "114\n",
            "641\n",
            "[[0.  0.  0.5 0.5 0. ]\n",
            " [0.  0.  0.  0.  0. ]\n",
            " [0.  0.  0.  0.  1. ]]\n",
            "[[7]\n",
            " [6]\n",
            " [6]]\n"
          ]
        }
      ]
    },
    {
      "cell_type": "code",
      "source": [
        "model2 = Sequential()\n",
        "model2.add(tf.keras.layers.Dense(8, activation='relu'))\n",
        "model2.add(tf.keras.layers.Dense(16, activation='relu'))\n",
        "model2.add(tf.keras.layers.Dense(32, activation='relu'))\n",
        "model2.add(tf.keras.layers.Dense(32, activation='relu'))\n",
        "model2.add(tf.keras.layers.Dense(32, activation='relu'))\n",
        "model2.add(tf.keras.layers.Dense(16, activation='relu'))\n",
        "model2.add(tf.keras.layers.Dense(8, activation='relu'))\n",
        "model2.add(Dense(10, activation='sigmoid'))\n",
        "\n",
        "model2.compile(optimizer=tf.keras.optimizers.Adam(),\n",
        "              loss=tf.keras.losses.SparseCategoricalCrossentropy(from_logits=True), # default from_logits=False\n",
        "              metrics=[tf.keras.metrics.SparseCategoricalAccuracy()])\n"
      ],
      "metadata": {
        "id": "x3IbsIhdknEH"
      },
      "execution_count": null,
      "outputs": []
    },
    {
      "cell_type": "code",
      "source": [
        "model2.fit(partial_x_train_numpy, partial_y_train_numpy, epochs=400, verbose=0)\n",
        "loss, accuracy = model2.evaluate(x_test_numpy, y_test_numpy, verbose=0)\n",
        "print('Accuracy: %f' % (accuracy*100))\n",
        "print('Loss: %f' % (loss))\n",
        "\n",
        "model2.summary()"
      ],
      "metadata": {
        "colab": {
          "base_uri": "https://localhost:8080/"
        },
        "id": "pxypFnQ-mjMW",
        "outputId": "d33bd7a4-c6d7-4901-f7fc-a6851fec2003"
      },
      "execution_count": null,
      "outputs": [
        {
          "output_type": "stream",
          "name": "stderr",
          "text": [
            "/usr/local/lib/python3.7/dist-packages/tensorflow/python/util/dispatch.py:1096: UserWarning: \"`sparse_categorical_crossentropy` received `from_logits=True`, but the `output` argument was produced by a sigmoid or softmax activation and thus does not represent logits. Was this intended?\"\n",
            "  return dispatch_target(*args, **kwargs)\n"
          ]
        },
        {
          "output_type": "stream",
          "name": "stdout",
          "text": [
            "Accuracy: 31.578946\n",
            "Loss: 1.657703\n",
            "Model: \"sequential_1\"\n",
            "_________________________________________________________________\n",
            " Layer (type)                Output Shape              Param #   \n",
            "=================================================================\n",
            " dense_6 (Dense)             (None, 8)                 48        \n",
            "                                                                 \n",
            " dense_7 (Dense)             (None, 16)                144       \n",
            "                                                                 \n",
            " dense_8 (Dense)             (None, 32)                544       \n",
            "                                                                 \n",
            " dense_9 (Dense)             (None, 32)                1056      \n",
            "                                                                 \n",
            " dense_10 (Dense)            (None, 32)                1056      \n",
            "                                                                 \n",
            " dense_11 (Dense)            (None, 16)                528       \n",
            "                                                                 \n",
            " dense_12 (Dense)            (None, 8)                 136       \n",
            "                                                                 \n",
            " dense_13 (Dense)            (None, 10)                90        \n",
            "                                                                 \n",
            "=================================================================\n",
            "Total params: 3,602\n",
            "Trainable params: 3,602\n",
            "Non-trainable params: 0\n",
            "_________________________________________________________________\n"
          ]
        }
      ]
    }
  ]
}